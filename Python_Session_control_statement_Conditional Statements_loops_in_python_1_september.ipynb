{
 "cells": [
  {
   "cell_type": "markdown",
   "id": "b273c0a6",
   "metadata": {},
   "source": [
    "### control statement"
   ]
  },
  {
   "cell_type": "markdown",
   "id": "c7f49d1e",
   "metadata": {},
   "source": [
    "- pass\n",
    "- break\n",
    "- continue"
   ]
  },
  {
   "cell_type": "markdown",
   "id": "87127acd",
   "metadata": {},
   "source": [
    "### pass"
   ]
  },
  {
   "cell_type": "raw",
   "id": "2b1a5b24",
   "metadata": {},
   "source": [
    "The pass statement is a null statement which can be used as a placeholder for future code."
   ]
  },
  {
   "cell_type": "code",
   "execution_count": null,
   "id": "0395cc9e",
   "metadata": {},
   "outputs": [],
   "source": []
  },
  {
   "cell_type": "code",
   "execution_count": 19,
   "id": "767a2141",
   "metadata": {},
   "outputs": [],
   "source": [
    "for i in range(11):\n",
    "      pass \n",
    "    # perform null operation"
   ]
  },
  {
   "cell_type": "code",
   "execution_count": null,
   "id": "4634f84d",
   "metadata": {},
   "outputs": [],
   "source": []
  },
  {
   "cell_type": "code",
   "execution_count": null,
   "id": "136434bd",
   "metadata": {},
   "outputs": [],
   "source": []
  },
  {
   "cell_type": "markdown",
   "id": "86e533ba",
   "metadata": {},
   "source": [
    "### break"
   ]
  },
  {
   "cell_type": "raw",
   "id": "5ee2b840",
   "metadata": {},
   "source": [
    "Iteration break, out of the block"
   ]
  },
  {
   "cell_type": "markdown",
   "id": "20f6ecb1",
   "metadata": {},
   "source": [
    "#### syntax"
   ]
  },
  {
   "cell_type": "code",
   "execution_count": 21,
   "id": "82b81dca",
   "metadata": {},
   "outputs": [
    {
     "name": "stdout",
     "output_type": "stream",
     "text": [
      "1\n",
      "2\n",
      "3\n",
      "4\n"
     ]
    }
   ],
   "source": [
    "for k in [1,2,3,4,5,6,7,8,9,10]:\n",
    "    if k==5:\n",
    "        break\n",
    "        \n",
    "    print(k)"
   ]
  },
  {
   "cell_type": "code",
   "execution_count": null,
   "id": "295c6256",
   "metadata": {},
   "outputs": [],
   "source": []
  },
  {
   "cell_type": "code",
   "execution_count": 22,
   "id": "48409474",
   "metadata": {},
   "outputs": [
    {
     "name": "stdout",
     "output_type": "stream",
     "text": [
      "1\n",
      "2\n",
      "3\n",
      "4\n"
     ]
    }
   ],
   "source": [
    "for v in range(1,11):\n",
    "    if v==5:\n",
    "        break\n",
    "        \n",
    "    print(v)"
   ]
  },
  {
   "cell_type": "code",
   "execution_count": null,
   "id": "01e96035",
   "metadata": {},
   "outputs": [],
   "source": []
  },
  {
   "cell_type": "code",
   "execution_count": null,
   "id": "e90cff49",
   "metadata": {},
   "outputs": [],
   "source": []
  },
  {
   "cell_type": "markdown",
   "id": "12a1ac8d",
   "metadata": {},
   "source": [
    "### continue"
   ]
  },
  {
   "cell_type": "raw",
   "id": "c8058acf",
   "metadata": {},
   "source": [
    "The continue keyword is used to end the current iteration in a for loop (or a while loop), and continues to the next iteration."
   ]
  },
  {
   "cell_type": "code",
   "execution_count": null,
   "id": "9a405d8b",
   "metadata": {},
   "outputs": [],
   "source": []
  },
  {
   "cell_type": "code",
   "execution_count": 23,
   "id": "fcb375e7",
   "metadata": {},
   "outputs": [
    {
     "name": "stdout",
     "output_type": "stream",
     "text": [
      "1\n",
      "2\n",
      "3\n",
      "4\n",
      "6\n",
      "7\n",
      "8\n",
      "9\n",
      "10\n"
     ]
    }
   ],
   "source": [
    "for k1 in [1,2,3,4,5,6,7,8,9,10]:\n",
    "    if k1==5:\n",
    "        continue\n",
    "        \n",
    "    print(k1)"
   ]
  },
  {
   "cell_type": "code",
   "execution_count": null,
   "id": "6bbbab13",
   "metadata": {},
   "outputs": [],
   "source": []
  },
  {
   "cell_type": "code",
   "execution_count": null,
   "id": "106f10e3",
   "metadata": {},
   "outputs": [],
   "source": []
  },
  {
   "cell_type": "code",
   "execution_count": null,
   "id": "ab0e65bf",
   "metadata": {},
   "outputs": [],
   "source": []
  },
  {
   "cell_type": "markdown",
   "id": "a2b3d839",
   "metadata": {},
   "source": [
    "## Conditional Statements"
   ]
  },
  {
   "cell_type": "markdown",
   "id": "8919a591",
   "metadata": {},
   "source": [
    "- if\n",
    "- if else\n",
    "- if elif else"
   ]
  },
  {
   "cell_type": "code",
   "execution_count": null,
   "id": "fe67c91a",
   "metadata": {},
   "outputs": [],
   "source": []
  },
  {
   "cell_type": "markdown",
   "id": "e5771c77",
   "metadata": {},
   "source": [
    "## if"
   ]
  },
  {
   "cell_type": "code",
   "execution_count": null,
   "id": "9a2a06b2",
   "metadata": {},
   "outputs": [],
   "source": []
  },
  {
   "cell_type": "markdown",
   "id": "46145929",
   "metadata": {},
   "source": [
    "#### syntax"
   ]
  },
  {
   "cell_type": "raw",
   "id": "6cd54a34",
   "metadata": {},
   "source": [
    "if condition:\n",
    "    statement"
   ]
  },
  {
   "cell_type": "code",
   "execution_count": null,
   "id": "08472f27",
   "metadata": {},
   "outputs": [],
   "source": []
  },
  {
   "cell_type": "markdown",
   "id": "154e777e",
   "metadata": {},
   "source": [
    "#### example"
   ]
  },
  {
   "cell_type": "code",
   "execution_count": 25,
   "id": "feb6d6bb",
   "metadata": {},
   "outputs": [
    {
     "name": "stdout",
     "output_type": "stream",
     "text": [
      "Welcome\n"
     ]
    }
   ],
   "source": [
    "# example1\n",
    "\n",
    "A =200\n",
    "\n",
    "if A<300:\n",
    "    print(\"Welcome\")"
   ]
  },
  {
   "cell_type": "code",
   "execution_count": null,
   "id": "3f43aff0",
   "metadata": {},
   "outputs": [],
   "source": []
  },
  {
   "cell_type": "code",
   "execution_count": 26,
   "id": "d9f47611",
   "metadata": {},
   "outputs": [
    {
     "name": "stdout",
     "output_type": "stream",
     "text": [
      "Hello\n"
     ]
    }
   ],
   "source": [
    "#example2\n",
    "\n",
    "\n",
    "if A<=200:\n",
    "    print(\"Hello\")"
   ]
  },
  {
   "cell_type": "code",
   "execution_count": null,
   "id": "49226bcd",
   "metadata": {},
   "outputs": [],
   "source": []
  },
  {
   "cell_type": "markdown",
   "id": "f5a0d4fa",
   "metadata": {},
   "source": [
    "### if else"
   ]
  },
  {
   "cell_type": "code",
   "execution_count": null,
   "id": "d0feebab",
   "metadata": {},
   "outputs": [],
   "source": []
  },
  {
   "cell_type": "markdown",
   "id": "eff19fbd",
   "metadata": {},
   "source": [
    "#### syntax:"
   ]
  },
  {
   "cell_type": "raw",
   "id": "5d8693e7",
   "metadata": {},
   "source": [
    "if condition:\n",
    "    statement\n",
    "    \n",
    "else:\n",
    "    statement"
   ]
  },
  {
   "cell_type": "code",
   "execution_count": null,
   "id": "0f5aa80f",
   "metadata": {},
   "outputs": [],
   "source": []
  },
  {
   "cell_type": "code",
   "execution_count": 32,
   "id": "55de597b",
   "metadata": {},
   "outputs": [
    {
     "name": "stdout",
     "output_type": "stream",
     "text": [
      "Enter a number :5\n",
      "5 odd number\n"
     ]
    }
   ],
   "source": [
    "# example1\n",
    "\n",
    "\n",
    "num = int(input(\"Enter a number :\"))\n",
    "\n",
    "if num%2==0:\n",
    "    print(num,\"Even number\")\n",
    "    \n",
    "else:\n",
    "    print(num,\"odd number\")"
   ]
  },
  {
   "cell_type": "code",
   "execution_count": null,
   "id": "e65574d1",
   "metadata": {},
   "outputs": [],
   "source": []
  },
  {
   "cell_type": "code",
   "execution_count": 35,
   "id": "57f487e5",
   "metadata": {},
   "outputs": [
    {
     "name": "stdout",
     "output_type": "stream",
     "text": [
      "please enter your user_name :user1\n",
      "Please enter your password :123\n",
      "Login Successfuly\n"
     ]
    }
   ],
   "source": [
    "# example2\n",
    "\n",
    "\n",
    "user_name=\"user1\"\n",
    "pass_word =\"123\"\n",
    "\n",
    "\n",
    "U = input(\"please enter your user_name :\")\n",
    "\n",
    "P = input(\"Please enter your password :\")\n",
    "\n",
    "\n",
    "if user_name==U and pass_word==P:\n",
    "    print(\"Login Successfuly\")\n",
    "    \n",
    "else:\n",
    "    print(\"Invalid username and password\")"
   ]
  },
  {
   "cell_type": "code",
   "execution_count": null,
   "id": "05888628",
   "metadata": {},
   "outputs": [],
   "source": []
  },
  {
   "cell_type": "markdown",
   "id": "c793f1b5",
   "metadata": {},
   "source": [
    "### if elif else"
   ]
  },
  {
   "cell_type": "code",
   "execution_count": null,
   "id": "c87d9858",
   "metadata": {},
   "outputs": [],
   "source": []
  },
  {
   "cell_type": "markdown",
   "id": "baea69b4",
   "metadata": {},
   "source": [
    "#### syntax"
   ]
  },
  {
   "cell_type": "raw",
   "id": "db24b0fb",
   "metadata": {},
   "source": [
    "if condition:\n",
    "    statement\n",
    "    \n",
    "elif condition:\n",
    "    statement\n",
    "    \n",
    "elif condition:\n",
    "    statement\n",
    "    \n",
    "elif condition:\n",
    "    statement\n",
    "    \n",
    "else:\n",
    "    statement\n",
    "    \n",
    "    \n",
    "    "
   ]
  },
  {
   "cell_type": "markdown",
   "id": "58bd56fb",
   "metadata": {},
   "source": [
    "#### example"
   ]
  },
  {
   "cell_type": "code",
   "execution_count": 3,
   "id": "ce9844ae",
   "metadata": {},
   "outputs": [
    {
     "name": "stdout",
     "output_type": "stream",
     "text": [
      "Enter your age :12\n",
      "you are not eligible for driving car\n"
     ]
    }
   ],
   "source": [
    "age =int(input(\"Enter your age :\"))\n",
    "\n",
    "if age<18:\n",
    "    print(\"you are not eligible for driving car\")\n",
    "    \n",
    "elif  age>100:\n",
    "    print(\"You are out of Age \")\n",
    "    \n",
    "    \n",
    "else:\n",
    "    print(\"You are eligible, congratulation!\")\n"
   ]
  },
  {
   "cell_type": "code",
   "execution_count": 4,
   "id": "04a60d06",
   "metadata": {},
   "outputs": [],
   "source": [
    "############################################################################################"
   ]
  },
  {
   "cell_type": "code",
   "execution_count": null,
   "id": "a8af1f4d",
   "metadata": {},
   "outputs": [],
   "source": []
  },
  {
   "cell_type": "markdown",
   "id": "ae46b751",
   "metadata": {},
   "source": [
    "## loops in Python"
   ]
  },
  {
   "cell_type": "raw",
   "id": "2a0dc1a0",
   "metadata": {},
   "source": [
    "In Python, a loop is a programming construct that allows you to repeatedly execute a block of code. It's used to efficiently perform tasks that require repetitive operations. "
   ]
  },
  {
   "cell_type": "markdown",
   "id": "04a045d2",
   "metadata": {},
   "source": [
    "- for Loop\n",
    "- while Loop"
   ]
  },
  {
   "cell_type": "code",
   "execution_count": null,
   "id": "1742697a",
   "metadata": {},
   "outputs": [],
   "source": []
  },
  {
   "cell_type": "markdown",
   "id": "93caafed",
   "metadata": {},
   "source": [
    "### for loop"
   ]
  },
  {
   "cell_type": "code",
   "execution_count": null,
   "id": "2a8ec52e",
   "metadata": {},
   "outputs": [],
   "source": []
  },
  {
   "cell_type": "markdown",
   "id": "16082fc3",
   "metadata": {},
   "source": [
    "#### syntax:"
   ]
  },
  {
   "cell_type": "raw",
   "id": "3dc27eef",
   "metadata": {},
   "source": [
    "for item in iterable/sequences(string,list,tuple,range):\n",
    "    statement"
   ]
  },
  {
   "cell_type": "code",
   "execution_count": null,
   "id": "1deaf0cb",
   "metadata": {},
   "outputs": [],
   "source": []
  },
  {
   "cell_type": "markdown",
   "id": "70e17646",
   "metadata": {},
   "source": [
    "#### example"
   ]
  },
  {
   "cell_type": "code",
   "execution_count": 5,
   "id": "9d0d0def",
   "metadata": {},
   "outputs": [
    {
     "data": {
      "text/plain": [
       "[10, 20, 30, 40, 50, 60]"
      ]
     },
     "execution_count": 5,
     "metadata": {},
     "output_type": "execute_result"
    }
   ],
   "source": [
    "l1 =[10,20,30,40,50,60]\n",
    "\n",
    "l1"
   ]
  },
  {
   "cell_type": "code",
   "execution_count": null,
   "id": "403ec9c8",
   "metadata": {},
   "outputs": [],
   "source": []
  },
  {
   "cell_type": "code",
   "execution_count": 6,
   "id": "cd30a60c",
   "metadata": {},
   "outputs": [
    {
     "name": "stdout",
     "output_type": "stream",
     "text": [
      "10\n",
      "20\n",
      "30\n",
      "40\n",
      "50\n",
      "60\n"
     ]
    }
   ],
   "source": [
    "for x in l1:\n",
    "    print(x)"
   ]
  },
  {
   "cell_type": "code",
   "execution_count": null,
   "id": "1272ba72",
   "metadata": {},
   "outputs": [],
   "source": []
  },
  {
   "cell_type": "code",
   "execution_count": 7,
   "id": "1eee8cc2",
   "metadata": {},
   "outputs": [
    {
     "data": {
      "text/plain": [
       "{1: 'one', 2: 'two', 3: 'three'}"
      ]
     },
     "execution_count": 7,
     "metadata": {},
     "output_type": "execute_result"
    }
   ],
   "source": [
    "# example2\n",
    "\n",
    "\n",
    "d = {1:\"one\",2:\"two\",3:\"three\"}\n",
    "\n",
    "d"
   ]
  },
  {
   "cell_type": "code",
   "execution_count": 11,
   "id": "c91f1150",
   "metadata": {},
   "outputs": [
    {
     "name": "stdout",
     "output_type": "stream",
     "text": [
      "(1, 'one')\n",
      "(2, 'two')\n",
      "(3, 'three')\n"
     ]
    }
   ],
   "source": [
    "for y in d.items():  \n",
    "    print(y)"
   ]
  },
  {
   "cell_type": "code",
   "execution_count": null,
   "id": "922a3b4d",
   "metadata": {},
   "outputs": [],
   "source": []
  },
  {
   "cell_type": "code",
   "execution_count": null,
   "id": "128d8aa3",
   "metadata": {},
   "outputs": [],
   "source": []
  },
  {
   "cell_type": "code",
   "execution_count": null,
   "id": "7223e3c4",
   "metadata": {},
   "outputs": [],
   "source": []
  },
  {
   "cell_type": "code",
   "execution_count": null,
   "id": "f0da0e65",
   "metadata": {},
   "outputs": [],
   "source": []
  },
  {
   "cell_type": "code",
   "execution_count": null,
   "id": "e7437a72",
   "metadata": {},
   "outputs": [],
   "source": []
  },
  {
   "cell_type": "code",
   "execution_count": null,
   "id": "7a4fa912",
   "metadata": {},
   "outputs": [],
   "source": []
  }
 ],
 "metadata": {
  "kernelspec": {
   "display_name": "Python 3 (ipykernel)",
   "language": "python",
   "name": "python3"
  },
  "language_info": {
   "codemirror_mode": {
    "name": "ipython",
    "version": 3
   },
   "file_extension": ".py",
   "mimetype": "text/x-python",
   "name": "python",
   "nbconvert_exporter": "python",
   "pygments_lexer": "ipython3",
   "version": "3.10.9"
  }
 },
 "nbformat": 4,
 "nbformat_minor": 5
}
