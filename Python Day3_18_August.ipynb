{
 "cells": [
  {
   "cell_type": "markdown",
   "id": "423c669f",
   "metadata": {},
   "source": [
    "- Assignment operators\n",
    "- comparison operators\n",
    "- Logical operators\n",
    "- Identity operators\n",
    "- Membership operators\n",
    "- Bitwise operators\n",
    "\n",
    "- String Operation\n"
   ]
  },
  {
   "cell_type": "markdown",
   "id": "8796523e",
   "metadata": {},
   "source": [
    "### Assignment operators"
   ]
  },
  {
   "cell_type": "raw",
   "id": "f0fed271",
   "metadata": {},
   "source": [
    "These operators are used to assign values to variables."
   ]
  },
  {
   "cell_type": "raw",
   "id": "ec228743",
   "metadata": {},
   "source": [
    "=  : Assign\n",
    "+= : Add and assign\n",
    "-= : Subtract and assign\n",
    "*= : Multiply and assign\n",
    "/= : Divide and assign\n",
    "%= : Modulus and assign\n",
    "**= : Exponentiation and assign\n",
    "//= : Floor division and assign"
   ]
  },
  {
   "cell_type": "code",
   "execution_count": null,
   "id": "e9f2d6a3",
   "metadata": {},
   "outputs": [],
   "source": []
  },
  {
   "cell_type": "markdown",
   "id": "5195aa02",
   "metadata": {},
   "source": [
    "### examples"
   ]
  },
  {
   "cell_type": "markdown",
   "id": "f9ea27ed",
   "metadata": {},
   "source": [
    "#### ="
   ]
  },
  {
   "cell_type": "code",
   "execution_count": 1,
   "id": "8ab63f7c",
   "metadata": {},
   "outputs": [],
   "source": [
    "a = 100"
   ]
  },
  {
   "cell_type": "code",
   "execution_count": 2,
   "id": "38c00f8d",
   "metadata": {},
   "outputs": [
    {
     "data": {
      "text/plain": [
       "100"
      ]
     },
     "execution_count": 2,
     "metadata": {},
     "output_type": "execute_result"
    }
   ],
   "source": [
    "a"
   ]
  },
  {
   "cell_type": "code",
   "execution_count": null,
   "id": "9e319012",
   "metadata": {},
   "outputs": [],
   "source": []
  },
  {
   "cell_type": "markdown",
   "id": "c525b729",
   "metadata": {},
   "source": [
    "#### +="
   ]
  },
  {
   "cell_type": "code",
   "execution_count": 3,
   "id": "5b78e8c5",
   "metadata": {},
   "outputs": [],
   "source": [
    "a1 = 20"
   ]
  },
  {
   "cell_type": "code",
   "execution_count": 4,
   "id": "a4ca0cb2",
   "metadata": {},
   "outputs": [],
   "source": [
    "a1 += 5             #  same as  a1 =a1+5"
   ]
  },
  {
   "cell_type": "code",
   "execution_count": 5,
   "id": "bf1cb014",
   "metadata": {},
   "outputs": [
    {
     "data": {
      "text/plain": [
       "25"
      ]
     },
     "execution_count": 5,
     "metadata": {},
     "output_type": "execute_result"
    }
   ],
   "source": [
    "a1"
   ]
  },
  {
   "cell_type": "code",
   "execution_count": null,
   "id": "bc50afa4",
   "metadata": {},
   "outputs": [],
   "source": []
  },
  {
   "cell_type": "markdown",
   "id": "e5613c6e",
   "metadata": {},
   "source": [
    "### -="
   ]
  },
  {
   "cell_type": "code",
   "execution_count": 6,
   "id": "3d448ee1",
   "metadata": {},
   "outputs": [],
   "source": [
    "a2 =10"
   ]
  },
  {
   "cell_type": "code",
   "execution_count": 7,
   "id": "46e151f8",
   "metadata": {},
   "outputs": [],
   "source": [
    "a2 -= 2           # same as a2 =a2-2"
   ]
  },
  {
   "cell_type": "code",
   "execution_count": 8,
   "id": "7893ea39",
   "metadata": {},
   "outputs": [
    {
     "data": {
      "text/plain": [
       "8"
      ]
     },
     "execution_count": 8,
     "metadata": {},
     "output_type": "execute_result"
    }
   ],
   "source": [
    "a2"
   ]
  },
  {
   "cell_type": "code",
   "execution_count": null,
   "id": "96e790fe",
   "metadata": {},
   "outputs": [],
   "source": []
  },
  {
   "cell_type": "markdown",
   "id": "8b497c17",
   "metadata": {},
   "source": [
    "### *="
   ]
  },
  {
   "cell_type": "code",
   "execution_count": 9,
   "id": "cc3f7e27",
   "metadata": {},
   "outputs": [],
   "source": [
    "a3 = 40"
   ]
  },
  {
   "cell_type": "code",
   "execution_count": 10,
   "id": "8277dcd1",
   "metadata": {},
   "outputs": [],
   "source": [
    "a3 *=3"
   ]
  },
  {
   "cell_type": "code",
   "execution_count": 11,
   "id": "6261756e",
   "metadata": {},
   "outputs": [
    {
     "data": {
      "text/plain": [
       "120"
      ]
     },
     "execution_count": 11,
     "metadata": {},
     "output_type": "execute_result"
    }
   ],
   "source": [
    "a3"
   ]
  },
  {
   "cell_type": "code",
   "execution_count": null,
   "id": "ec20bf8f",
   "metadata": {},
   "outputs": [],
   "source": []
  },
  {
   "cell_type": "code",
   "execution_count": null,
   "id": "d56eca41",
   "metadata": {},
   "outputs": [],
   "source": []
  },
  {
   "cell_type": "code",
   "execution_count": null,
   "id": "14cdf906",
   "metadata": {},
   "outputs": [],
   "source": []
  },
  {
   "cell_type": "code",
   "execution_count": null,
   "id": "4b015ad2",
   "metadata": {},
   "outputs": [],
   "source": []
  },
  {
   "cell_type": "code",
   "execution_count": null,
   "id": "eb80f15a",
   "metadata": {},
   "outputs": [],
   "source": []
  },
  {
   "cell_type": "code",
   "execution_count": null,
   "id": "7b5d1b66",
   "metadata": {},
   "outputs": [],
   "source": []
  },
  {
   "cell_type": "code",
   "execution_count": null,
   "id": "c48a1d90",
   "metadata": {},
   "outputs": [],
   "source": []
  },
  {
   "cell_type": "markdown",
   "id": "f85f2ed1",
   "metadata": {},
   "source": [
    "### comparison operators"
   ]
  },
  {
   "cell_type": "raw",
   "id": "03aac035",
   "metadata": {},
   "source": [
    "These operators compare two values and return a boolean result (True or False)."
   ]
  },
  {
   "cell_type": "raw",
   "id": "b5bc976d",
   "metadata": {},
   "source": [
    "== : Equal to\n",
    "!= : Not equal to\n",
    "< : Less than\n",
    "> : Greater than\n",
    "<= : Less than or equal to\n",
    ">= : Greater than or equal to"
   ]
  },
  {
   "cell_type": "code",
   "execution_count": null,
   "id": "51777379",
   "metadata": {},
   "outputs": [],
   "source": []
  },
  {
   "cell_type": "markdown",
   "id": "d75453f5",
   "metadata": {},
   "source": [
    "### examples"
   ]
  },
  {
   "cell_type": "markdown",
   "id": "5b15b615",
   "metadata": {},
   "source": [
    "### =="
   ]
  },
  {
   "cell_type": "code",
   "execution_count": 12,
   "id": "9111d964",
   "metadata": {},
   "outputs": [],
   "source": [
    "a4 = 200"
   ]
  },
  {
   "cell_type": "code",
   "execution_count": 13,
   "id": "41e07de1",
   "metadata": {},
   "outputs": [
    {
     "data": {
      "text/plain": [
       "False"
      ]
     },
     "execution_count": 13,
     "metadata": {},
     "output_type": "execute_result"
    }
   ],
   "source": [
    "a4 == 300"
   ]
  },
  {
   "cell_type": "markdown",
   "id": "96b57a26",
   "metadata": {},
   "source": [
    "### !="
   ]
  },
  {
   "cell_type": "code",
   "execution_count": 14,
   "id": "69718bed",
   "metadata": {},
   "outputs": [
    {
     "data": {
      "text/plain": [
       "200"
      ]
     },
     "execution_count": 14,
     "metadata": {},
     "output_type": "execute_result"
    }
   ],
   "source": [
    "a4"
   ]
  },
  {
   "cell_type": "code",
   "execution_count": 15,
   "id": "dc824a30",
   "metadata": {},
   "outputs": [
    {
     "data": {
      "text/plain": [
       "True"
      ]
     },
     "execution_count": 15,
     "metadata": {},
     "output_type": "execute_result"
    }
   ],
   "source": [
    "a4 != 90"
   ]
  },
  {
   "cell_type": "code",
   "execution_count": null,
   "id": "4a95bdd1",
   "metadata": {},
   "outputs": [],
   "source": []
  },
  {
   "cell_type": "markdown",
   "id": "650d5c16",
   "metadata": {},
   "source": [
    "### >   (greater than)"
   ]
  },
  {
   "cell_type": "code",
   "execution_count": 16,
   "id": "767d75ab",
   "metadata": {},
   "outputs": [],
   "source": [
    "a5 = 500"
   ]
  },
  {
   "cell_type": "code",
   "execution_count": 17,
   "id": "493fab6a",
   "metadata": {},
   "outputs": [
    {
     "data": {
      "text/plain": [
       "True"
      ]
     },
     "execution_count": 17,
     "metadata": {},
     "output_type": "execute_result"
    }
   ],
   "source": [
    "a5 >200"
   ]
  },
  {
   "cell_type": "code",
   "execution_count": null,
   "id": "9a894c5e",
   "metadata": {},
   "outputs": [],
   "source": []
  },
  {
   "cell_type": "markdown",
   "id": "985dbde9",
   "metadata": {},
   "source": [
    "### < (less than)"
   ]
  },
  {
   "cell_type": "code",
   "execution_count": 18,
   "id": "7ad0f6cb",
   "metadata": {},
   "outputs": [
    {
     "data": {
      "text/plain": [
       "500"
      ]
     },
     "execution_count": 18,
     "metadata": {},
     "output_type": "execute_result"
    }
   ],
   "source": [
    "a5"
   ]
  },
  {
   "cell_type": "code",
   "execution_count": 19,
   "id": "4214b10a",
   "metadata": {},
   "outputs": [
    {
     "data": {
      "text/plain": [
       "True"
      ]
     },
     "execution_count": 19,
     "metadata": {},
     "output_type": "execute_result"
    }
   ],
   "source": [
    "a5 < 1000"
   ]
  },
  {
   "cell_type": "code",
   "execution_count": null,
   "id": "ac32a29c",
   "metadata": {},
   "outputs": [],
   "source": []
  },
  {
   "cell_type": "code",
   "execution_count": null,
   "id": "67cb2a35",
   "metadata": {},
   "outputs": [],
   "source": []
  },
  {
   "cell_type": "markdown",
   "id": "7169fce7",
   "metadata": {},
   "source": [
    "### Logical operators"
   ]
  },
  {
   "cell_type": "raw",
   "id": "76621165",
   "metadata": {},
   "source": [
    "Logical operators are used to combine or manipulate boolean values."
   ]
  },
  {
   "cell_type": "raw",
   "id": "99a556d6",
   "metadata": {},
   "source": [
    "and : Logical AND\n",
    "or : Logical OR\n",
    "not : Logical NOT"
   ]
  },
  {
   "cell_type": "code",
   "execution_count": null,
   "id": "402bc5b2",
   "metadata": {},
   "outputs": [],
   "source": []
  },
  {
   "cell_type": "markdown",
   "id": "8f25256a",
   "metadata": {},
   "source": [
    "### examples"
   ]
  },
  {
   "cell_type": "markdown",
   "id": "1fbe35f1",
   "metadata": {},
   "source": [
    "#### and"
   ]
  },
  {
   "cell_type": "code",
   "execution_count": null,
   "id": "40fb2724",
   "metadata": {},
   "outputs": [],
   "source": []
  },
  {
   "cell_type": "code",
   "execution_count": 20,
   "id": "7f06cc2d",
   "metadata": {},
   "outputs": [
    {
     "data": {
      "text/plain": [
       "True"
      ]
     },
     "execution_count": 20,
     "metadata": {},
     "output_type": "execute_result"
    }
   ],
   "source": [
    "True and True"
   ]
  },
  {
   "cell_type": "code",
   "execution_count": 21,
   "id": "27a9a9ba",
   "metadata": {},
   "outputs": [
    {
     "data": {
      "text/plain": [
       "1"
      ]
     },
     "execution_count": 21,
     "metadata": {},
     "output_type": "execute_result"
    }
   ],
   "source": [
    "1 and 1"
   ]
  },
  {
   "cell_type": "code",
   "execution_count": 22,
   "id": "31ab4b75",
   "metadata": {},
   "outputs": [
    {
     "data": {
      "text/plain": [
       "True"
      ]
     },
     "execution_count": 22,
     "metadata": {},
     "output_type": "execute_result"
    }
   ],
   "source": [
    "# example2\n",
    "\n",
    "True and True and True and True"
   ]
  },
  {
   "cell_type": "code",
   "execution_count": 23,
   "id": "5c75f215",
   "metadata": {},
   "outputs": [
    {
     "data": {
      "text/plain": [
       "False"
      ]
     },
     "execution_count": 23,
     "metadata": {},
     "output_type": "execute_result"
    }
   ],
   "source": [
    "#example3\n",
    "\n",
    "True and False"
   ]
  },
  {
   "cell_type": "code",
   "execution_count": 24,
   "id": "681ffcfe",
   "metadata": {},
   "outputs": [
    {
     "data": {
      "text/plain": [
       "False"
      ]
     },
     "execution_count": 24,
     "metadata": {},
     "output_type": "execute_result"
    }
   ],
   "source": [
    "#example4\n",
    "\n",
    "True and True and True and False"
   ]
  },
  {
   "cell_type": "code",
   "execution_count": 25,
   "id": "761ff2ac",
   "metadata": {},
   "outputs": [
    {
     "data": {
      "text/plain": [
       "False"
      ]
     },
     "execution_count": 25,
     "metadata": {},
     "output_type": "execute_result"
    }
   ],
   "source": [
    "#example5\n",
    "\n",
    "False and False"
   ]
  },
  {
   "cell_type": "code",
   "execution_count": 26,
   "id": "a4ace7d4",
   "metadata": {},
   "outputs": [
    {
     "data": {
      "text/plain": [
       "0"
      ]
     },
     "execution_count": 26,
     "metadata": {},
     "output_type": "execute_result"
    }
   ],
   "source": [
    "0 and 0"
   ]
  },
  {
   "cell_type": "code",
   "execution_count": null,
   "id": "1dcf780b",
   "metadata": {},
   "outputs": [],
   "source": []
  },
  {
   "cell_type": "markdown",
   "id": "76b956ec",
   "metadata": {},
   "source": [
    "### or"
   ]
  },
  {
   "cell_type": "code",
   "execution_count": 27,
   "id": "668c32be",
   "metadata": {},
   "outputs": [
    {
     "data": {
      "text/plain": [
       "True"
      ]
     },
     "execution_count": 27,
     "metadata": {},
     "output_type": "execute_result"
    }
   ],
   "source": [
    "False or True"
   ]
  },
  {
   "cell_type": "code",
   "execution_count": 28,
   "id": "203e742a",
   "metadata": {},
   "outputs": [
    {
     "data": {
      "text/plain": [
       "True"
      ]
     },
     "execution_count": 28,
     "metadata": {},
     "output_type": "execute_result"
    }
   ],
   "source": [
    "True or True or True or False"
   ]
  },
  {
   "cell_type": "code",
   "execution_count": 29,
   "id": "9bc214dd",
   "metadata": {},
   "outputs": [
    {
     "data": {
      "text/plain": [
       "True"
      ]
     },
     "execution_count": 29,
     "metadata": {},
     "output_type": "execute_result"
    }
   ],
   "source": [
    "False or False or False or True"
   ]
  },
  {
   "cell_type": "code",
   "execution_count": 30,
   "id": "bee8ef45",
   "metadata": {},
   "outputs": [
    {
     "data": {
      "text/plain": [
       "1"
      ]
     },
     "execution_count": 30,
     "metadata": {},
     "output_type": "execute_result"
    }
   ],
   "source": [
    "0 or 0 or 0 or 1"
   ]
  },
  {
   "cell_type": "code",
   "execution_count": null,
   "id": "76e7161b",
   "metadata": {},
   "outputs": [],
   "source": []
  },
  {
   "cell_type": "markdown",
   "id": "e762fc20",
   "metadata": {},
   "source": [
    "### not"
   ]
  },
  {
   "cell_type": "code",
   "execution_count": 31,
   "id": "b28a13d5",
   "metadata": {},
   "outputs": [
    {
     "data": {
      "text/plain": [
       "False"
      ]
     },
     "execution_count": 31,
     "metadata": {},
     "output_type": "execute_result"
    }
   ],
   "source": [
    "not True"
   ]
  },
  {
   "cell_type": "code",
   "execution_count": 32,
   "id": "babd0e5d",
   "metadata": {},
   "outputs": [
    {
     "data": {
      "text/plain": [
       "True"
      ]
     },
     "execution_count": 32,
     "metadata": {},
     "output_type": "execute_result"
    }
   ],
   "source": [
    "not False"
   ]
  },
  {
   "cell_type": "code",
   "execution_count": null,
   "id": "783bfecb",
   "metadata": {},
   "outputs": [],
   "source": []
  },
  {
   "cell_type": "code",
   "execution_count": null,
   "id": "65eb9aaf",
   "metadata": {},
   "outputs": [],
   "source": []
  },
  {
   "cell_type": "markdown",
   "id": "bfe801ce",
   "metadata": {},
   "source": [
    "### Identity operators"
   ]
  },
  {
   "cell_type": "raw",
   "id": "d2de1d36",
   "metadata": {},
   "source": [
    "These operators are used to compare the memory location of two objects."
   ]
  },
  {
   "cell_type": "raw",
   "id": "00613309",
   "metadata": {},
   "source": [
    "is : Returns True if both variables refer to the same object.\n",
    "is not : Returns True if both variables refer to different objects."
   ]
  },
  {
   "cell_type": "markdown",
   "id": "e2eaf26a",
   "metadata": {},
   "source": [
    "### examples"
   ]
  },
  {
   "cell_type": "markdown",
   "id": "ac1c771a",
   "metadata": {},
   "source": [
    "### is"
   ]
  },
  {
   "cell_type": "markdown",
   "id": "f4a7458a",
   "metadata": {},
   "source": [
    "#### integer value"
   ]
  },
  {
   "cell_type": "code",
   "execution_count": null,
   "id": "110159dd",
   "metadata": {},
   "outputs": [],
   "source": [
    "integer values>256   --> different object\n",
    "\n",
    "integer values<256  --> same object  #(values same ),different values --> object different"
   ]
  },
  {
   "cell_type": "code",
   "execution_count": 33,
   "id": "698f3d6f",
   "metadata": {},
   "outputs": [],
   "source": [
    "#256<100\n",
    "\n",
    "a6 =100\n",
    "\n",
    "a7 =100"
   ]
  },
  {
   "cell_type": "code",
   "execution_count": 34,
   "id": "74b079fe",
   "metadata": {},
   "outputs": [
    {
     "data": {
      "text/plain": [
       "True"
      ]
     },
     "execution_count": 34,
     "metadata": {},
     "output_type": "execute_result"
    }
   ],
   "source": [
    "a6 is a7"
   ]
  },
  {
   "cell_type": "code",
   "execution_count": 35,
   "id": "52955ddf",
   "metadata": {},
   "outputs": [
    {
     "data": {
      "text/plain": [
       "2699690839376"
      ]
     },
     "execution_count": 35,
     "metadata": {},
     "output_type": "execute_result"
    }
   ],
   "source": [
    "id(a6)"
   ]
  },
  {
   "cell_type": "code",
   "execution_count": 36,
   "id": "2153bcaa",
   "metadata": {},
   "outputs": [
    {
     "data": {
      "text/plain": [
       "2699690839376"
      ]
     },
     "execution_count": 36,
     "metadata": {},
     "output_type": "execute_result"
    }
   ],
   "source": [
    "id(a7)"
   ]
  },
  {
   "cell_type": "code",
   "execution_count": 39,
   "id": "fa86c818",
   "metadata": {},
   "outputs": [],
   "source": [
    "a8 = 2"
   ]
  },
  {
   "cell_type": "code",
   "execution_count": 40,
   "id": "bfb67951",
   "metadata": {},
   "outputs": [],
   "source": [
    "a9 = 4"
   ]
  },
  {
   "cell_type": "code",
   "execution_count": 41,
   "id": "60cf5fb8",
   "metadata": {},
   "outputs": [
    {
     "data": {
      "text/plain": [
       "2699690836240"
      ]
     },
     "execution_count": 41,
     "metadata": {},
     "output_type": "execute_result"
    }
   ],
   "source": [
    "id(a8) "
   ]
  },
  {
   "cell_type": "code",
   "execution_count": 42,
   "id": "d5d5d4e2",
   "metadata": {},
   "outputs": [
    {
     "data": {
      "text/plain": [
       "2699690836304"
      ]
     },
     "execution_count": 42,
     "metadata": {},
     "output_type": "execute_result"
    }
   ],
   "source": [
    "id(a9)"
   ]
  },
  {
   "cell_type": "code",
   "execution_count": null,
   "id": "fc3a4404",
   "metadata": {},
   "outputs": [],
   "source": []
  },
  {
   "cell_type": "code",
   "execution_count": 43,
   "id": "74f85b0f",
   "metadata": {},
   "outputs": [],
   "source": [
    "# >256\n",
    "\n",
    "\n",
    "a10 = 400\n",
    "\n",
    "a11 = 400"
   ]
  },
  {
   "cell_type": "code",
   "execution_count": 44,
   "id": "62c58dd5",
   "metadata": {},
   "outputs": [
    {
     "data": {
      "text/plain": [
       "2699771410064"
      ]
     },
     "execution_count": 44,
     "metadata": {},
     "output_type": "execute_result"
    }
   ],
   "source": [
    "id(a10)"
   ]
  },
  {
   "cell_type": "code",
   "execution_count": 45,
   "id": "cf50a62d",
   "metadata": {},
   "outputs": [
    {
     "data": {
      "text/plain": [
       "2699771409072"
      ]
     },
     "execution_count": 45,
     "metadata": {},
     "output_type": "execute_result"
    }
   ],
   "source": [
    "id(a11)"
   ]
  },
  {
   "cell_type": "code",
   "execution_count": null,
   "id": "72771d57",
   "metadata": {},
   "outputs": [],
   "source": []
  },
  {
   "cell_type": "code",
   "execution_count": null,
   "id": "5dc13734",
   "metadata": {},
   "outputs": [],
   "source": [
    "################################################################################"
   ]
  },
  {
   "cell_type": "markdown",
   "id": "47d1bde9",
   "metadata": {},
   "source": [
    "### .format --->string"
   ]
  },
  {
   "cell_type": "markdown",
   "id": "8cd57418",
   "metadata": {},
   "source": [
    "### example"
   ]
  },
  {
   "cell_type": "code",
   "execution_count": 46,
   "id": "afd52481",
   "metadata": {},
   "outputs": [],
   "source": [
    "name = 'Sonam'\n",
    "\n",
    "age = 23"
   ]
  },
  {
   "cell_type": "code",
   "execution_count": 50,
   "id": "ba871ef5",
   "metadata": {},
   "outputs": [
    {
     "name": "stdout",
     "output_type": "stream",
     "text": [
      " My name is Sonam  i am 23 years old\n"
     ]
    }
   ],
   "source": [
    "print(\" My name is {0}  i am {1} years old\".format(name,age))"
   ]
  },
  {
   "cell_type": "code",
   "execution_count": 51,
   "id": "c5cd4f65",
   "metadata": {},
   "outputs": [],
   "source": [
    "#############################################################################################"
   ]
  },
  {
   "cell_type": "code",
   "execution_count": null,
   "id": "aae7a841",
   "metadata": {},
   "outputs": [],
   "source": []
  },
  {
   "cell_type": "markdown",
   "id": "4989f985",
   "metadata": {},
   "source": [
    "### Membership operators"
   ]
  },
  {
   "cell_type": "raw",
   "id": "3c6082a9",
   "metadata": {},
   "source": [
    "These operators are used to test membership in a sequence (e.g., strings, lists, tuples)."
   ]
  },
  {
   "cell_type": "raw",
   "id": "abf7bdf2",
   "metadata": {},
   "source": [
    "in : Returns True if a value is found in the sequence.\n",
    "not in : Returns True if a value is not found in the sequence."
   ]
  },
  {
   "cell_type": "code",
   "execution_count": null,
   "id": "80cc3f0e",
   "metadata": {},
   "outputs": [],
   "source": []
  },
  {
   "cell_type": "markdown",
   "id": "973e2a86",
   "metadata": {},
   "source": [
    "### examples"
   ]
  },
  {
   "cell_type": "code",
   "execution_count": 52,
   "id": "e7f5fe98",
   "metadata": {},
   "outputs": [],
   "source": [
    "l1 = ['Apple','banana','cherry','mango']"
   ]
  },
  {
   "cell_type": "code",
   "execution_count": 53,
   "id": "4a3f50d9",
   "metadata": {},
   "outputs": [
    {
     "data": {
      "text/plain": [
       "['Apple', 'banana', 'cherry', 'mango']"
      ]
     },
     "execution_count": 53,
     "metadata": {},
     "output_type": "execute_result"
    }
   ],
   "source": [
    "l1"
   ]
  },
  {
   "cell_type": "code",
   "execution_count": 54,
   "id": "fa6936f1",
   "metadata": {},
   "outputs": [
    {
     "data": {
      "text/plain": [
       "list"
      ]
     },
     "execution_count": 54,
     "metadata": {},
     "output_type": "execute_result"
    }
   ],
   "source": [
    "type(l1)"
   ]
  },
  {
   "cell_type": "markdown",
   "id": "ed606f45",
   "metadata": {},
   "source": [
    "### in"
   ]
  },
  {
   "cell_type": "code",
   "execution_count": 55,
   "id": "5b52ca17",
   "metadata": {},
   "outputs": [
    {
     "data": {
      "text/plain": [
       "True"
      ]
     },
     "execution_count": 55,
     "metadata": {},
     "output_type": "execute_result"
    }
   ],
   "source": [
    "#example1\n",
    "\n",
    "'banana' in l1\n"
   ]
  },
  {
   "cell_type": "code",
   "execution_count": 56,
   "id": "a1aa5495",
   "metadata": {},
   "outputs": [
    {
     "data": {
      "text/plain": [
       "False"
      ]
     },
     "execution_count": 56,
     "metadata": {},
     "output_type": "execute_result"
    }
   ],
   "source": [
    "#example2\n",
    "\n",
    "'grapes' in l1"
   ]
  },
  {
   "cell_type": "markdown",
   "id": "bbd71f58",
   "metadata": {},
   "source": [
    "### not in"
   ]
  },
  {
   "cell_type": "code",
   "execution_count": 57,
   "id": "e0d34d82",
   "metadata": {},
   "outputs": [
    {
     "data": {
      "text/plain": [
       "True"
      ]
     },
     "execution_count": 57,
     "metadata": {},
     "output_type": "execute_result"
    }
   ],
   "source": [
    "'grapes' not in l1"
   ]
  },
  {
   "cell_type": "code",
   "execution_count": 58,
   "id": "922ca42a",
   "metadata": {},
   "outputs": [],
   "source": [
    "s1 = \" my name is kiran \""
   ]
  },
  {
   "cell_type": "code",
   "execution_count": 59,
   "id": "dbf45dfc",
   "metadata": {},
   "outputs": [
    {
     "data": {
      "text/plain": [
       "' my name is kiran '"
      ]
     },
     "execution_count": 59,
     "metadata": {},
     "output_type": "execute_result"
    }
   ],
   "source": [
    "s1"
   ]
  },
  {
   "cell_type": "code",
   "execution_count": 60,
   "id": "1d8afe26",
   "metadata": {},
   "outputs": [
    {
     "data": {
      "text/plain": [
       "True"
      ]
     },
     "execution_count": 60,
     "metadata": {},
     "output_type": "execute_result"
    }
   ],
   "source": [
    "'k' in s1"
   ]
  },
  {
   "cell_type": "code",
   "execution_count": null,
   "id": "9150f3be",
   "metadata": {},
   "outputs": [],
   "source": []
  },
  {
   "cell_type": "code",
   "execution_count": null,
   "id": "447beaa7",
   "metadata": {},
   "outputs": [],
   "source": []
  },
  {
   "cell_type": "code",
   "execution_count": null,
   "id": "a968d3a6",
   "metadata": {},
   "outputs": [],
   "source": []
  },
  {
   "cell_type": "markdown",
   "id": "f255fd4f",
   "metadata": {},
   "source": [
    "### Bitwise operators"
   ]
  },
  {
   "cell_type": "raw",
   "id": "8a73c1f8",
   "metadata": {},
   "source": [
    "These operators perform operations on individual bits of integers."
   ]
  },
  {
   "cell_type": "markdown",
   "id": "9ae006be",
   "metadata": {},
   "source": [
    "- & (bitwise and)\n",
    "- | (bitwise or)\n",
    "- ~ (bitwise not)"
   ]
  },
  {
   "cell_type": "code",
   "execution_count": null,
   "id": "08710b33",
   "metadata": {},
   "outputs": [],
   "source": [
    "1,0"
   ]
  },
  {
   "cell_type": "markdown",
   "id": "3ec34fa9",
   "metadata": {},
   "source": [
    "### & (bitwise and)"
   ]
  },
  {
   "cell_type": "code",
   "execution_count": 1,
   "id": "1302e602",
   "metadata": {},
   "outputs": [
    {
     "data": {
      "text/plain": [
       "4"
      ]
     },
     "execution_count": 1,
     "metadata": {},
     "output_type": "execute_result"
    }
   ],
   "source": [
    "12 & 4"
   ]
  },
  {
   "cell_type": "code",
   "execution_count": 63,
   "id": "ac066172",
   "metadata": {},
   "outputs": [
    {
     "data": {
      "text/plain": [
       "2"
      ]
     },
     "execution_count": 63,
     "metadata": {},
     "output_type": "execute_result"
    }
   ],
   "source": [
    "3 & 2"
   ]
  },
  {
   "cell_type": "code",
   "execution_count": 64,
   "id": "3990aae6",
   "metadata": {},
   "outputs": [
    {
     "data": {
      "text/plain": [
       "5"
      ]
     },
     "execution_count": 64,
     "metadata": {},
     "output_type": "execute_result"
    }
   ],
   "source": [
    "5 & 7"
   ]
  },
  {
   "cell_type": "code",
   "execution_count": null,
   "id": "1a9bd6fe",
   "metadata": {},
   "outputs": [],
   "source": []
  },
  {
   "cell_type": "code",
   "execution_count": 4,
   "id": "f8df3095",
   "metadata": {},
   "outputs": [
    {
     "data": {
      "text/plain": [
       "4"
      ]
     },
     "execution_count": 4,
     "metadata": {},
     "output_type": "execute_result"
    }
   ],
   "source": [
    "4 & 7"
   ]
  },
  {
   "cell_type": "code",
   "execution_count": null,
   "id": "078c4b74",
   "metadata": {},
   "outputs": [],
   "source": []
  },
  {
   "cell_type": "code",
   "execution_count": null,
   "id": "3f4e7321",
   "metadata": {},
   "outputs": [],
   "source": []
  },
  {
   "cell_type": "markdown",
   "id": "999b91c6",
   "metadata": {},
   "source": [
    "### | (bitwise or)"
   ]
  },
  {
   "cell_type": "code",
   "execution_count": 65,
   "id": "87c159ce",
   "metadata": {},
   "outputs": [
    {
     "data": {
      "text/plain": [
       "14"
      ]
     },
     "execution_count": 65,
     "metadata": {},
     "output_type": "execute_result"
    }
   ],
   "source": [
    "10 | 6"
   ]
  },
  {
   "cell_type": "code",
   "execution_count": null,
   "id": "222effa5",
   "metadata": {},
   "outputs": [],
   "source": []
  },
  {
   "cell_type": "markdown",
   "id": "99115dc7",
   "metadata": {},
   "source": [
    "### ~ (bitwise not)"
   ]
  },
  {
   "cell_type": "code",
   "execution_count": 66,
   "id": "b88cbd5e",
   "metadata": {},
   "outputs": [
    {
     "data": {
      "text/plain": [
       "-6"
      ]
     },
     "execution_count": 66,
     "metadata": {},
     "output_type": "execute_result"
    }
   ],
   "source": [
    "~5"
   ]
  },
  {
   "cell_type": "code",
   "execution_count": 67,
   "id": "9a12f186",
   "metadata": {},
   "outputs": [
    {
     "data": {
      "text/plain": [
       "8"
      ]
     },
     "execution_count": 67,
     "metadata": {},
     "output_type": "execute_result"
    }
   ],
   "source": [
    "~-9"
   ]
  },
  {
   "cell_type": "code",
   "execution_count": 2,
   "id": "56ee53a9",
   "metadata": {},
   "outputs": [
    {
     "data": {
      "text/plain": [
       "-12"
      ]
     },
     "execution_count": 2,
     "metadata": {},
     "output_type": "execute_result"
    }
   ],
   "source": [
    "~11"
   ]
  },
  {
   "cell_type": "code",
   "execution_count": null,
   "id": "15f3576d",
   "metadata": {},
   "outputs": [],
   "source": []
  },
  {
   "cell_type": "code",
   "execution_count": 3,
   "id": "54226638",
   "metadata": {},
   "outputs": [
    {
     "data": {
      "text/plain": [
       "15"
      ]
     },
     "execution_count": 3,
     "metadata": {},
     "output_type": "execute_result"
    }
   ],
   "source": [
    "~-16"
   ]
  },
  {
   "cell_type": "code",
   "execution_count": null,
   "id": "d71fd3fa",
   "metadata": {},
   "outputs": [],
   "source": []
  },
  {
   "cell_type": "code",
   "execution_count": 5,
   "id": "8d4410ff",
   "metadata": {},
   "outputs": [
    {
     "data": {
      "text/plain": [
       "17"
      ]
     },
     "execution_count": 5,
     "metadata": {},
     "output_type": "execute_result"
    }
   ],
   "source": [
    "-18"
   ]
  },
  {
   "cell_type": "code",
   "execution_count": null,
   "id": "184249c7",
   "metadata": {},
   "outputs": [],
   "source": []
  },
  {
   "cell_type": "code",
   "execution_count": null,
   "id": "634cde89",
   "metadata": {},
   "outputs": [],
   "source": []
  },
  {
   "cell_type": "markdown",
   "id": "b2e269a6",
   "metadata": {},
   "source": [
    "### String Operation"
   ]
  },
  {
   "cell_type": "code",
   "execution_count": null,
   "id": "ff89b298",
   "metadata": {},
   "outputs": [],
   "source": []
  },
  {
   "cell_type": "code",
   "execution_count": null,
   "id": "3e6dce36",
   "metadata": {},
   "outputs": [],
   "source": []
  },
  {
   "cell_type": "code",
   "execution_count": null,
   "id": "3ee6aa07",
   "metadata": {},
   "outputs": [],
   "source": []
  },
  {
   "cell_type": "code",
   "execution_count": null,
   "id": "f5795f4f",
   "metadata": {},
   "outputs": [],
   "source": []
  },
  {
   "cell_type": "code",
   "execution_count": null,
   "id": "b2240fe7",
   "metadata": {},
   "outputs": [],
   "source": []
  },
  {
   "cell_type": "code",
   "execution_count": null,
   "id": "de878f8d",
   "metadata": {},
   "outputs": [],
   "source": []
  },
  {
   "cell_type": "code",
   "execution_count": null,
   "id": "2f3deef8",
   "metadata": {},
   "outputs": [],
   "source": []
  },
  {
   "cell_type": "code",
   "execution_count": null,
   "id": "b1b5c257",
   "metadata": {},
   "outputs": [],
   "source": []
  },
  {
   "cell_type": "code",
   "execution_count": null,
   "id": "02b6183e",
   "metadata": {},
   "outputs": [],
   "source": []
  },
  {
   "cell_type": "code",
   "execution_count": null,
   "id": "0ed31c23",
   "metadata": {},
   "outputs": [],
   "source": [
    "\n",
    "\n"
   ]
  },
  {
   "cell_type": "code",
   "execution_count": null,
   "id": "33ba4561",
   "metadata": {},
   "outputs": [],
   "source": []
  },
  {
   "cell_type": "code",
   "execution_count": null,
   "id": "309cde52",
   "metadata": {},
   "outputs": [],
   "source": []
  }
 ],
 "metadata": {
  "kernelspec": {
   "display_name": "Python 3 (ipykernel)",
   "language": "python",
   "name": "python3"
  },
  "language_info": {
   "codemirror_mode": {
    "name": "ipython",
    "version": 3
   },
   "file_extension": ".py",
   "mimetype": "text/x-python",
   "name": "python",
   "nbconvert_exporter": "python",
   "pygments_lexer": "ipython3",
   "version": "3.10.9"
  }
 },
 "nbformat": 4,
 "nbformat_minor": 5
}
