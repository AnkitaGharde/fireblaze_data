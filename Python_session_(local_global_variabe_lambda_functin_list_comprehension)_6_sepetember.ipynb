{
 "cells": [
  {
   "cell_type": "markdown",
   "id": "9f21e17a",
   "metadata": {},
   "source": [
    "- local variable and global variable\n",
    "- lambda function\n",
    "- list comprehension\n"
   ]
  },
  {
   "cell_type": "code",
   "execution_count": null,
   "id": "12adaff3",
   "metadata": {},
   "outputs": [],
   "source": []
  },
  {
   "cell_type": "markdown",
   "id": "9539c724",
   "metadata": {},
   "source": [
    "### local variable and global variable"
   ]
  },
  {
   "cell_type": "markdown",
   "id": "a044717d",
   "metadata": {},
   "source": [
    "#### local variable"
   ]
  },
  {
   "cell_type": "code",
   "execution_count": 35,
   "id": "407a8f56",
   "metadata": {},
   "outputs": [
    {
     "name": "stdout",
     "output_type": "stream",
     "text": [
      "10\n"
     ]
    },
    {
     "ename": "NameError",
     "evalue": "name 'x' is not defined",
     "output_type": "error",
     "traceback": [
      "\u001b[1;31m---------------------------------------------------------------------------\u001b[0m",
      "\u001b[1;31mNameError\u001b[0m                                 Traceback (most recent call last)",
      "Cell \u001b[1;32mIn[35], line 11\u001b[0m\n\u001b[0;32m      7\u001b[0m     \u001b[38;5;28mprint\u001b[39m(x)\n\u001b[0;32m      9\u001b[0m hello()  \u001b[38;5;66;03m# Calling the 'hello' function\u001b[39;00m\n\u001b[1;32m---> 11\u001b[0m \u001b[38;5;28mprint\u001b[39m(\u001b[43mx\u001b[49m)\n",
      "\u001b[1;31mNameError\u001b[0m: name 'x' is not defined"
     ]
    }
   ],
   "source": [
    "# example\n",
    "\n",
    "\n",
    "def hello():\n",
    "    x=10               #local variable\n",
    "    \n",
    "    print(x)\n",
    "    \n",
    "hello()     # Calling the 'hello' function\n",
    "\n",
    "print(x)        # Trying to print 'x' outside the function (This will result in a NameError)\n",
    "                # This is because 'x' is a local variable and cannot be accessed outside the function"
   ]
  },
  {
   "cell_type": "code",
   "execution_count": null,
   "id": "40786400",
   "metadata": {},
   "outputs": [],
   "source": []
  },
  {
   "cell_type": "code",
   "execution_count": null,
   "id": "b9420b7c",
   "metadata": {},
   "outputs": [],
   "source": []
  },
  {
   "cell_type": "markdown",
   "id": "ee51fd2e",
   "metadata": {},
   "source": [
    "### global vaiable"
   ]
  },
  {
   "cell_type": "code",
   "execution_count": null,
   "id": "1b5720b1",
   "metadata": {},
   "outputs": [],
   "source": []
  },
  {
   "cell_type": "code",
   "execution_count": 37,
   "id": "6c387289",
   "metadata": {},
   "outputs": [
    {
     "name": "stdout",
     "output_type": "stream",
     "text": [
      "10\n",
      "10\n"
     ]
    }
   ],
   "source": [
    "m = 10           #global variable\n",
    "\n",
    "def welcome():\n",
    "    print(m)        # Accessing the global variable 'm' within the function\n",
    "    \n",
    "    \n",
    "welcome()\n",
    "\n",
    "print(m)     # Printing the global variable 'm' (This works because 'm' is a global variable)\n",
    "\n",
    "\n"
   ]
  },
  {
   "cell_type": "code",
   "execution_count": null,
   "id": "9654937d",
   "metadata": {},
   "outputs": [],
   "source": []
  },
  {
   "cell_type": "markdown",
   "id": "64196b70",
   "metadata": {},
   "source": [
    "### global keyword"
   ]
  },
  {
   "cell_type": "code",
   "execution_count": 41,
   "id": "ca750c4e",
   "metadata": {},
   "outputs": [
    {
     "name": "stdout",
     "output_type": "stream",
     "text": [
      "20\n",
      "20\n"
     ]
    }
   ],
   "source": [
    "# example\n",
    "\n",
    "\n",
    "def global_k():\n",
    "    \n",
    "    global a   # Declaring 'a' as a global variable\n",
    "    a=20           # Assigning a value of 20 to the global variable 'a'\n",
    "    print(a)\n",
    "    \n",
    "global_k()\n",
    "\n",
    "print(a)    # Printing the global variable 'a' (This works because 'a' was declared as a global variable)"
   ]
  },
  {
   "cell_type": "code",
   "execution_count": 8,
   "id": "2006ee67",
   "metadata": {},
   "outputs": [],
   "source": [
    "###############################################################################"
   ]
  },
  {
   "cell_type": "code",
   "execution_count": null,
   "id": "5f8987a6",
   "metadata": {},
   "outputs": [],
   "source": []
  },
  {
   "cell_type": "markdown",
   "id": "5c13e4f3",
   "metadata": {},
   "source": [
    "### lambda function"
   ]
  },
  {
   "cell_type": "raw",
   "id": "0dd345c9",
   "metadata": {},
   "source": [
    "A lambda function is a small anonymous function. A lambda function can take any number of arguments, but can only have one expression."
   ]
  },
  {
   "cell_type": "code",
   "execution_count": null,
   "id": "6a88dd01",
   "metadata": {},
   "outputs": [],
   "source": []
  },
  {
   "cell_type": "markdown",
   "id": "4bcfe04f",
   "metadata": {},
   "source": [
    "#### syntax"
   ]
  },
  {
   "cell_type": "raw",
   "id": "3ff81368",
   "metadata": {},
   "source": [
    "lambda arguments:expression"
   ]
  },
  {
   "cell_type": "code",
   "execution_count": null,
   "id": "5591ec81",
   "metadata": {},
   "outputs": [],
   "source": []
  },
  {
   "cell_type": "markdown",
   "id": "f8ccd5d4",
   "metadata": {},
   "source": [
    "#### example"
   ]
  },
  {
   "cell_type": "markdown",
   "id": "b6b95a27",
   "metadata": {},
   "source": [
    "#### lambda function with no arguments"
   ]
  },
  {
   "cell_type": "code",
   "execution_count": 10,
   "id": "ceee5f90",
   "metadata": {},
   "outputs": [
    {
     "name": "stdout",
     "output_type": "stream",
     "text": [
      "Welcome\n"
     ]
    }
   ],
   "source": [
    "# example\n",
    "\n",
    "\n",
    "z =lambda :print(\"Welcome\")\n",
    "z()"
   ]
  },
  {
   "cell_type": "code",
   "execution_count": null,
   "id": "2b28dbc1",
   "metadata": {},
   "outputs": [],
   "source": []
  },
  {
   "cell_type": "markdown",
   "id": "abedc533",
   "metadata": {},
   "source": [
    "#### lambda function with one arguments"
   ]
  },
  {
   "cell_type": "code",
   "execution_count": 11,
   "id": "9043a9b7",
   "metadata": {},
   "outputs": [
    {
     "data": {
      "text/plain": [
       "4"
      ]
     },
     "execution_count": 11,
     "metadata": {},
     "output_type": "execute_result"
    }
   ],
   "source": [
    "a1 =lambda x1:x1**2\n",
    "\n",
    "a1(2)"
   ]
  },
  {
   "cell_type": "code",
   "execution_count": null,
   "id": "f5842439",
   "metadata": {},
   "outputs": [],
   "source": []
  },
  {
   "cell_type": "markdown",
   "id": "76b96fc5",
   "metadata": {},
   "source": [
    "#### lambda function with more than one arguments"
   ]
  },
  {
   "cell_type": "code",
   "execution_count": 13,
   "id": "ba28c123",
   "metadata": {},
   "outputs": [
    {
     "data": {
      "text/plain": [
       "8"
      ]
     },
     "execution_count": 13,
     "metadata": {},
     "output_type": "execute_result"
    }
   ],
   "source": [
    "# example\n",
    "\n",
    "a2 = lambda n1,n2:n1*n2\n",
    "\n",
    "\n",
    "a2(2,4)"
   ]
  },
  {
   "cell_type": "code",
   "execution_count": null,
   "id": "16e0f9fd",
   "metadata": {},
   "outputs": [],
   "source": []
  },
  {
   "cell_type": "markdown",
   "id": "e23bd090",
   "metadata": {},
   "source": [
    "- map()\n",
    "- filter()\n",
    "- reduce()"
   ]
  },
  {
   "cell_type": "markdown",
   "id": "99d1e8ec",
   "metadata": {},
   "source": [
    "### map()"
   ]
  },
  {
   "cell_type": "raw",
   "id": "26fc7f33",
   "metadata": {},
   "source": [
    "The map() function applies a given function to all items in an iterable and returns an iterator with the results."
   ]
  },
  {
   "cell_type": "code",
   "execution_count": null,
   "id": "17b66923",
   "metadata": {},
   "outputs": [],
   "source": []
  },
  {
   "cell_type": "markdown",
   "id": "71dc6916",
   "metadata": {},
   "source": [
    "#### syntax"
   ]
  },
  {
   "cell_type": "raw",
   "id": "9c230964",
   "metadata": {},
   "source": [
    "variable_name = iterable(map(lambda args:expression,iterable))"
   ]
  },
  {
   "cell_type": "markdown",
   "id": "37141c7a",
   "metadata": {},
   "source": [
    "#### example"
   ]
  },
  {
   "cell_type": "code",
   "execution_count": 14,
   "id": "6e445bab",
   "metadata": {},
   "outputs": [
    {
     "data": {
      "text/plain": [
       "[12, 22, 32, 42, 52]"
      ]
     },
     "execution_count": 14,
     "metadata": {},
     "output_type": "execute_result"
    }
   ],
   "source": [
    "l1 =[10,20,30,40,50]\n",
    "\n",
    "\n",
    "p1 = list(map(lambda t1:t1+2,l1))        #Using map to add 2 to each element in a list\n",
    "\n",
    "p1"
   ]
  },
  {
   "cell_type": "code",
   "execution_count": null,
   "id": "d1b3f742",
   "metadata": {},
   "outputs": [],
   "source": []
  },
  {
   "cell_type": "code",
   "execution_count": 17,
   "id": "f23dc7bd",
   "metadata": {},
   "outputs": [
    {
     "ename": "TypeError",
     "evalue": "'int' object is not subscriptable",
     "output_type": "error",
     "traceback": [
      "\u001b[1;31m---------------------------------------------------------------------------\u001b[0m",
      "\u001b[1;31mTypeError\u001b[0m                                 Traceback (most recent call last)",
      "Cell \u001b[1;32mIn[17], line 4\u001b[0m\n\u001b[0;32m      1\u001b[0m l3 \u001b[38;5;241m=\u001b[39m[\u001b[38;5;241m10\u001b[39m,\u001b[38;5;241m20\u001b[39m,\u001b[38;5;241m30\u001b[39m,\u001b[38;5;241m40\u001b[39m,\u001b[38;5;241m50\u001b[39m]\n\u001b[1;32m----> 4\u001b[0m p3 \u001b[38;5;241m=\u001b[39m \u001b[38;5;28;43mlist\u001b[39;49m\u001b[43m(\u001b[49m\u001b[38;5;28;43mmap\u001b[39;49m\u001b[43m(\u001b[49m\u001b[38;5;28;43;01mlambda\u001b[39;49;00m\u001b[43m \u001b[49m\u001b[43mt1\u001b[49m\u001b[43m:\u001b[49m\u001b[43mt1\u001b[49m\u001b[43m[\u001b[49m\u001b[38;5;241;43m0\u001b[39;49m\u001b[43m]\u001b[49m\u001b[38;5;241;43m==\u001b[39;49m\u001b[38;5;241;43m20\u001b[39;49m\u001b[43m,\u001b[49m\u001b[43ml3\u001b[49m\u001b[43m)\u001b[49m\u001b[43m)\u001b[49m\n\u001b[0;32m      6\u001b[0m p3\n",
      "Cell \u001b[1;32mIn[17], line 4\u001b[0m, in \u001b[0;36m<lambda>\u001b[1;34m(t1)\u001b[0m\n\u001b[0;32m      1\u001b[0m l3 \u001b[38;5;241m=\u001b[39m[\u001b[38;5;241m10\u001b[39m,\u001b[38;5;241m20\u001b[39m,\u001b[38;5;241m30\u001b[39m,\u001b[38;5;241m40\u001b[39m,\u001b[38;5;241m50\u001b[39m]\n\u001b[1;32m----> 4\u001b[0m p3 \u001b[38;5;241m=\u001b[39m \u001b[38;5;28mlist\u001b[39m(\u001b[38;5;28mmap\u001b[39m(\u001b[38;5;28;01mlambda\u001b[39;00m t1:\u001b[43mt1\u001b[49m\u001b[43m[\u001b[49m\u001b[38;5;241;43m0\u001b[39;49m\u001b[43m]\u001b[49m\u001b[38;5;241m==\u001b[39m\u001b[38;5;241m20\u001b[39m,l3))\n\u001b[0;32m      6\u001b[0m p3\n",
      "\u001b[1;31mTypeError\u001b[0m: 'int' object is not subscriptable"
     ]
    }
   ],
   "source": [
    "# l3 =[10,20,30,40,50]\n",
    "\n",
    "\n",
    "# p3 = list(map(lambda t1:t1[0]==20,l3))\n",
    "\n",
    "# p3"
   ]
  },
  {
   "cell_type": "code",
   "execution_count": 34,
   "id": "bbd6ffe4",
   "metadata": {},
   "outputs": [
    {
     "name": "stdout",
     "output_type": "stream",
     "text": [
      "[False, True, False, False, False]\n"
     ]
    }
   ],
   "source": [
    "l3 = [10, 20, 30, 40, 50]\n",
    "\n",
    "p3 = list(map(lambda t1: t1 == 20, l3))    #Using map to check if each element in a list is equal to 20\n",
    "l3 = [10, 20, 30, 40, 50]\n",
    "\n",
    "print(p3)\n"
   ]
  },
  {
   "cell_type": "code",
   "execution_count": null,
   "id": "3f9ac526",
   "metadata": {},
   "outputs": [],
   "source": []
  },
  {
   "cell_type": "code",
   "execution_count": 16,
   "id": "488c9d8e",
   "metadata": {},
   "outputs": [
    {
     "data": {
      "text/plain": [
       "[True, True, False, False, False]"
      ]
     },
     "execution_count": 16,
     "metadata": {},
     "output_type": "execute_result"
    }
   ],
   "source": [
    "# example2\n",
    "\n",
    "\n",
    "l2 =[\"red\",\"yellow\",\"green\",\"white\",\"orange\"]\n",
    "\n",
    "\n",
    "p2 = list(map(lambda t:t[1]==\"e\",l2))\n",
    "\n",
    "p2"
   ]
  },
  {
   "cell_type": "code",
   "execution_count": null,
   "id": "ec64c35f",
   "metadata": {},
   "outputs": [],
   "source": []
  },
  {
   "cell_type": "code",
   "execution_count": null,
   "id": "0be0ba98",
   "metadata": {},
   "outputs": [],
   "source": []
  },
  {
   "cell_type": "markdown",
   "id": "9944a118",
   "metadata": {},
   "source": [
    "### filter()"
   ]
  },
  {
   "cell_type": "raw",
   "id": "2a768c15",
   "metadata": {},
   "source": [
    "You can use the filter() function to extract specific characters from a string based on a condition."
   ]
  },
  {
   "cell_type": "code",
   "execution_count": null,
   "id": "d4736c87",
   "metadata": {},
   "outputs": [],
   "source": []
  },
  {
   "cell_type": "markdown",
   "id": "d9e940d2",
   "metadata": {},
   "source": [
    "#### syntax"
   ]
  },
  {
   "cell_type": "raw",
   "id": "b7ad453e",
   "metadata": {},
   "source": [
    "\n",
    "variable_name = iterable(filter(lambda args:expression,iterable))"
   ]
  },
  {
   "cell_type": "code",
   "execution_count": null,
   "id": "555d8661",
   "metadata": {},
   "outputs": [],
   "source": []
  },
  {
   "cell_type": "code",
   "execution_count": 21,
   "id": "f5bec6ad",
   "metadata": {},
   "outputs": [
    {
     "data": {
      "text/plain": [
       "['red', 'yellow']"
      ]
     },
     "execution_count": 21,
     "metadata": {},
     "output_type": "execute_result"
    }
   ],
   "source": [
    "\n",
    "l4 =[\"red\",\"yellow\",\"green\",\"white\",\"orange\"]\n",
    "\n",
    "\n",
    "p4 = list(filter(lambda t:t[1]==\"e\",l4))\n",
    "\n",
    "p4"
   ]
  },
  {
   "cell_type": "code",
   "execution_count": null,
   "id": "8fff774d",
   "metadata": {},
   "outputs": [],
   "source": []
  },
  {
   "cell_type": "code",
   "execution_count": null,
   "id": "d8e1ed94",
   "metadata": {},
   "outputs": [],
   "source": []
  },
  {
   "cell_type": "markdown",
   "id": "61bf7843",
   "metadata": {},
   "source": [
    "### reduce()"
   ]
  },
  {
   "cell_type": "raw",
   "id": "abb0c3b3",
   "metadata": {},
   "source": [
    "This is a function that takes two arguments and returns a single result. It's applied cumulatively to the items of the iterable."
   ]
  },
  {
   "cell_type": "code",
   "execution_count": null,
   "id": "731d54ff",
   "metadata": {},
   "outputs": [],
   "source": []
  },
  {
   "cell_type": "markdown",
   "id": "d5fefe01",
   "metadata": {},
   "source": [
    "#### syntax"
   ]
  },
  {
   "cell_type": "code",
   "execution_count": null,
   "id": "5fa8fafd",
   "metadata": {},
   "outputs": [],
   "source": []
  },
  {
   "cell_type": "code",
   "execution_count": 24,
   "id": "64343636",
   "metadata": {},
   "outputs": [],
   "source": [
    "from functools import reduce"
   ]
  },
  {
   "cell_type": "code",
   "execution_count": 28,
   "id": "2420603f",
   "metadata": {},
   "outputs": [
    {
     "data": {
      "text/plain": [
       "55"
      ]
     },
     "execution_count": 28,
     "metadata": {},
     "output_type": "execute_result"
    }
   ],
   "source": [
    "# example\n",
    "\n",
    "v1 =[1,2,3,4,5,6,7,8,9,10]\n",
    "\n",
    "\n",
    "v2 =reduce(lambda r1,r2:r1+r2,v1)\n",
    "\n",
    "v2"
   ]
  },
  {
   "cell_type": "code",
   "execution_count": null,
   "id": "eb49591e",
   "metadata": {},
   "outputs": [],
   "source": []
  },
  {
   "cell_type": "code",
   "execution_count": 29,
   "id": "87ea4281",
   "metadata": {},
   "outputs": [],
   "source": [
    "####################################################################################"
   ]
  },
  {
   "cell_type": "code",
   "execution_count": null,
   "id": "31591ce4",
   "metadata": {},
   "outputs": [],
   "source": []
  },
  {
   "cell_type": "markdown",
   "id": "99c5afee",
   "metadata": {},
   "source": [
    "## list comprehension"
   ]
  },
  {
   "cell_type": "markdown",
   "id": "603054dd",
   "metadata": {},
   "source": [
    "- list comprehension is an elegant way to define and create listed based on exsting lists.\n",
    "- list comprehension is generally more compact and faster than normal functions and loops for creating list.\n",
    "- list comprehension offers a shorter syntax when you want to create a new list based on the values of an exsting list."
   ]
  },
  {
   "cell_type": "markdown",
   "id": "90b07036",
   "metadata": {},
   "source": [
    "### syntax"
   ]
  },
  {
   "cell_type": "raw",
   "id": "2995993a",
   "metadata": {},
   "source": [
    "Basic syntax -----> [expression for item in iterable]\n",
    "\n",
    "Using if syntax -----> [expression for item in iterable if condition]\n",
    "\n",
    "Using if else syntax ----> [expression if condition else statement for item in iterable]"
   ]
  },
  {
   "cell_type": "code",
   "execution_count": null,
   "id": "691a5ca7",
   "metadata": {},
   "outputs": [],
   "source": []
  },
  {
   "cell_type": "markdown",
   "id": "e4074ac2",
   "metadata": {},
   "source": [
    "#### without list comprehension"
   ]
  },
  {
   "cell_type": "code",
   "execution_count": 31,
   "id": "2abd5ca5",
   "metadata": {},
   "outputs": [
    {
     "name": "stdout",
     "output_type": "stream",
     "text": [
      "['apple', 'orange', 'banana']\n"
     ]
    }
   ],
   "source": [
    "newlist =[] #empty list\n",
    "\n",
    "\n",
    "old_list =[\"apple\",\"orange\",\"banana\",\"cherry\"]\n",
    "\n",
    "for i in old_list:\n",
    "    if \"a\" in i:\n",
    "        newlist.append(i)\n",
    "print(newlist)    \n"
   ]
  },
  {
   "cell_type": "code",
   "execution_count": null,
   "id": "f58af115",
   "metadata": {},
   "outputs": [],
   "source": []
  },
  {
   "cell_type": "markdown",
   "id": "724c77cd",
   "metadata": {},
   "source": [
    "#### with list comprehension"
   ]
  },
  {
   "cell_type": "raw",
   "id": "dd3ca7d5",
   "metadata": {},
   "source": [
    "[expression for item in iterable if condition]"
   ]
  },
  {
   "cell_type": "code",
   "execution_count": 33,
   "id": "66ded295",
   "metadata": {},
   "outputs": [
    {
     "data": {
      "text/plain": [
       "['apple', 'orange', 'banana']"
      ]
     },
     "execution_count": 33,
     "metadata": {},
     "output_type": "execute_result"
    }
   ],
   "source": [
    "# example\n",
    "\n",
    "list1 =[\"apple\",\"orange\",\"banana\",\"cherry\"]\n",
    "\n",
    "\n",
    "[j for j in list1 if \"a\" in j]\n",
    "\n"
   ]
  },
  {
   "cell_type": "code",
   "execution_count": null,
   "id": "864f056e",
   "metadata": {},
   "outputs": [],
   "source": []
  },
  {
   "cell_type": "code",
   "execution_count": null,
   "id": "d1a5773b",
   "metadata": {},
   "outputs": [],
   "source": []
  },
  {
   "cell_type": "code",
   "execution_count": null,
   "id": "e45d9e54",
   "metadata": {},
   "outputs": [],
   "source": []
  },
  {
   "cell_type": "code",
   "execution_count": null,
   "id": "fa61f216",
   "metadata": {},
   "outputs": [],
   "source": []
  },
  {
   "cell_type": "code",
   "execution_count": null,
   "id": "1a7dffca",
   "metadata": {},
   "outputs": [],
   "source": []
  },
  {
   "cell_type": "code",
   "execution_count": null,
   "id": "4b9ec28f",
   "metadata": {},
   "outputs": [],
   "source": []
  }
 ],
 "metadata": {
  "kernelspec": {
   "display_name": "Python 3 (ipykernel)",
   "language": "python",
   "name": "python3"
  },
  "language_info": {
   "codemirror_mode": {
    "name": "ipython",
    "version": 3
   },
   "file_extension": ".py",
   "mimetype": "text/x-python",
   "name": "python",
   "nbconvert_exporter": "python",
   "pygments_lexer": "ipython3",
   "version": "3.10.9"
  }
 },
 "nbformat": 4,
 "nbformat_minor": 5
}
