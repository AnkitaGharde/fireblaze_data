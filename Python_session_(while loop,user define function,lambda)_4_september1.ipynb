{
 "cells": [
  {
   "cell_type": "markdown",
   "id": "138ab491",
   "metadata": {},
   "source": [
    "- while loop\n",
    "- user define function\n",
    "- local variable and global variable\n",
    "- lambda function"
   ]
  },
  {
   "cell_type": "markdown",
   "id": "8a9e0eed",
   "metadata": {},
   "source": [
    "### while loop"
   ]
  },
  {
   "cell_type": "raw",
   "id": "acb4ab44",
   "metadata": {},
   "source": [
    "a while loop in Python is like a repeating action. You tell Python to keep doing something as long as a certain condition is true. When that condition becomes false, the loop stops."
   ]
  },
  {
   "cell_type": "code",
   "execution_count": null,
   "id": "d5c1b0ad",
   "metadata": {},
   "outputs": [],
   "source": []
  },
  {
   "cell_type": "markdown",
   "id": "c70e0b12",
   "metadata": {},
   "source": [
    "#### syntax"
   ]
  },
  {
   "cell_type": "raw",
   "id": "293fe079",
   "metadata": {},
   "source": [
    "initilization     # optional\n",
    "while condition:\n",
    "    statements\n",
    "    increment"
   ]
  },
  {
   "cell_type": "code",
   "execution_count": null,
   "id": "5a5ab9a9",
   "metadata": {},
   "outputs": [],
   "source": []
  },
  {
   "cell_type": "markdown",
   "id": "29e3d69b",
   "metadata": {},
   "source": [
    "#### example"
   ]
  },
  {
   "cell_type": "code",
   "execution_count": 4,
   "id": "a850bdaf",
   "metadata": {},
   "outputs": [
    {
     "name": "stdout",
     "output_type": "stream",
     "text": [
      "1\n",
      "2\n",
      "3\n",
      "4\n",
      "5\n",
      "6\n",
      "7\n",
      "8\n",
      "9\n",
      "10\n"
     ]
    }
   ],
   "source": [
    "i=1\n",
    "\n",
    "while i<=10:\n",
    "    print(i)\n",
    "    \n",
    "    i +=1\n",
    "    \n",
    "    "
   ]
  },
  {
   "cell_type": "code",
   "execution_count": null,
   "id": "2cc2a754",
   "metadata": {},
   "outputs": [],
   "source": []
  },
  {
   "cell_type": "code",
   "execution_count": 16,
   "id": "adf558d9",
   "metadata": {},
   "outputs": [
    {
     "name": "stdout",
     "output_type": "stream",
     "text": [
      "integer square\n",
      "1     1 1\n",
      "2     4 8\n",
      "3     9 27\n",
      "4     16 64\n",
      "5     25 125\n",
      "6     36 216\n",
      "7     49 343\n",
      "8     64 512\n",
      "9     81 729\n",
      "10     100 1000\n"
     ]
    }
   ],
   "source": [
    "# example2\n",
    "\n",
    "\n",
    "print('integer','square')\n",
    "\n",
    "v=1\n",
    "while v<=10:\n",
    "    print(v,\"   \",v**2,v**3)\n",
    "    \n",
    "    v +=1\n",
    "    "
   ]
  },
  {
   "cell_type": "code",
   "execution_count": null,
   "id": "bb21af73",
   "metadata": {},
   "outputs": [],
   "source": []
  },
  {
   "cell_type": "markdown",
   "id": "1b613724",
   "metadata": {},
   "source": [
    "#### example2"
   ]
  },
  {
   "cell_type": "code",
   "execution_count": 21,
   "id": "f3183d36",
   "metadata": {},
   "outputs": [
    {
     "name": "stdout",
     "output_type": "stream",
     "text": [
      "10\n",
      "9\n",
      "8\n",
      "7\n",
      "6\n",
      "5\n",
      "4\n",
      "3\n",
      "2\n",
      "1\n"
     ]
    }
   ],
   "source": [
    "i=10\n",
    "\n",
    "while i>=1:\n",
    "    print(i)\n",
    "    \n",
    "    i -=1"
   ]
  },
  {
   "cell_type": "code",
   "execution_count": null,
   "id": "59da44ab",
   "metadata": {},
   "outputs": [],
   "source": []
  },
  {
   "cell_type": "code",
   "execution_count": null,
   "id": "0d4cdfa8",
   "metadata": {},
   "outputs": [],
   "source": []
  },
  {
   "cell_type": "code",
   "execution_count": null,
   "id": "d490e972",
   "metadata": {},
   "outputs": [],
   "source": [
    "def"
   ]
  },
  {
   "cell_type": "markdown",
   "id": "cfbf971d",
   "metadata": {},
   "source": [
    "### What is function?"
   ]
  },
  {
   "cell_type": "raw",
   "id": "01b53370",
   "metadata": {},
   "source": [
    "A function is a block of code which only runs when it is called. You can pass data, known as parameters, into a function. A function can return data as a result."
   ]
  },
  {
   "cell_type": "code",
   "execution_count": null,
   "id": "38ad2ea9",
   "metadata": {},
   "outputs": [],
   "source": []
  },
  {
   "cell_type": "markdown",
   "id": "a49192fb",
   "metadata": {},
   "source": [
    "### Types of function"
   ]
  },
  {
   "cell_type": "raw",
   "id": "78d32a29",
   "metadata": {},
   "source": [
    "- Built-in Function\n",
    "- User-Defined Function"
   ]
  },
  {
   "cell_type": "code",
   "execution_count": null,
   "id": "2dbe4c60",
   "metadata": {},
   "outputs": [],
   "source": []
  },
  {
   "cell_type": "markdown",
   "id": "f1013ef5",
   "metadata": {},
   "source": [
    "#### Built-in Function"
   ]
  },
  {
   "cell_type": "raw",
   "id": "e657f332",
   "metadata": {},
   "source": [
    "- print()\n",
    "- len()\n",
    "- range()\n",
    "- type()"
   ]
  },
  {
   "cell_type": "markdown",
   "id": "fd6af500",
   "metadata": {},
   "source": []
  },
  {
   "cell_type": "code",
   "execution_count": null,
   "id": "f9809ba9",
   "metadata": {},
   "outputs": [],
   "source": []
  },
  {
   "cell_type": "markdown",
   "id": "a0ce9121",
   "metadata": {},
   "source": [
    "### user define function"
   ]
  },
  {
   "cell_type": "raw",
   "id": "078d288d",
   "metadata": {},
   "source": [
    "These are functions that you create yourself to perform specific tasks. You define these functions using the def keyword, followed by the function name, parameter list, and a block of code."
   ]
  },
  {
   "cell_type": "code",
   "execution_count": null,
   "id": "6f69a2b4",
   "metadata": {},
   "outputs": [],
   "source": []
  },
  {
   "cell_type": "markdown",
   "id": "8eb3dd1a",
   "metadata": {},
   "source": [
    "#### User define function allows you to define functions according to your need.These fuctions are known as user-defined function."
   ]
  },
  {
   "cell_type": "markdown",
   "id": "348b2f9e",
   "metadata": {},
   "source": [
    "#### Writing user defined functions in python"
   ]
  },
  {
   "cell_type": "markdown",
   "id": "05e5c77e",
   "metadata": {},
   "source": [
    "- step1:- Declare the function with the keyword def followed by the function name.\n",
    "- step2:- Write the arguments inside the opening and closing parenthesis of the function, and end the declaration with a colon.\n",
    "- step3:-Add the program statements to be executed."
   ]
  },
  {
   "cell_type": "code",
   "execution_count": null,
   "id": "ebf29c1e",
   "metadata": {},
   "outputs": [],
   "source": []
  },
  {
   "cell_type": "markdown",
   "id": "3b4a86e9",
   "metadata": {},
   "source": [
    "#### Syntax"
   ]
  },
  {
   "cell_type": "raw",
   "id": "cc9d2a75",
   "metadata": {},
   "source": [
    "def function_name(argument1,argument2,argument3):\n",
    "    statement1 \n",
    "    statement2\n",
    "    ......\n",
    "    \n",
    "    return"
   ]
  },
  {
   "cell_type": "code",
   "execution_count": null,
   "id": "2d659776",
   "metadata": {},
   "outputs": [],
   "source": []
  },
  {
   "cell_type": "markdown",
   "id": "b4873054",
   "metadata": {},
   "source": [
    "#### function with no argument"
   ]
  },
  {
   "cell_type": "code",
   "execution_count": 22,
   "id": "1bc804f4",
   "metadata": {},
   "outputs": [],
   "source": [
    "def welcome():\n",
    "    print(\"Welcome\")"
   ]
  },
  {
   "cell_type": "code",
   "execution_count": 23,
   "id": "1e950bf8",
   "metadata": {},
   "outputs": [
    {
     "name": "stdout",
     "output_type": "stream",
     "text": [
      "Welcome\n"
     ]
    }
   ],
   "source": [
    "welcome()"
   ]
  },
  {
   "cell_type": "code",
   "execution_count": 24,
   "id": "1663fe78",
   "metadata": {},
   "outputs": [
    {
     "name": "stdout",
     "output_type": "stream",
     "text": [
      "Welcome\n"
     ]
    }
   ],
   "source": [
    "welcome()"
   ]
  },
  {
   "cell_type": "code",
   "execution_count": null,
   "id": "5e593439",
   "metadata": {},
   "outputs": [],
   "source": []
  },
  {
   "cell_type": "markdown",
   "id": "5f59338d",
   "metadata": {},
   "source": [
    "#### function with one argument"
   ]
  },
  {
   "cell_type": "code",
   "execution_count": 35,
   "id": "5435d6e0",
   "metadata": {},
   "outputs": [
    {
     "data": {
      "text/plain": [
       "4"
      ]
     },
     "execution_count": 35,
     "metadata": {},
     "output_type": "execute_result"
    }
   ],
   "source": [
    "# example\n",
    "\n",
    "\n",
    "def power(x):\n",
    "    c =x**2\n",
    "    \n",
    "    return c\n",
    "\n",
    "power(2)"
   ]
  },
  {
   "cell_type": "code",
   "execution_count": null,
   "id": "694510ee",
   "metadata": {},
   "outputs": [],
   "source": []
  },
  {
   "cell_type": "markdown",
   "id": "08f1a9a4",
   "metadata": {},
   "source": [
    "#### function with more than one argument"
   ]
  },
  {
   "cell_type": "code",
   "execution_count": 49,
   "id": "00c2c692",
   "metadata": {},
   "outputs": [
    {
     "name": "stdout",
     "output_type": "stream",
     "text": [
      "30\n"
     ]
    }
   ],
   "source": [
    "def add(a1,b1):\n",
    "    result=a1+b1\n",
    "    print(result)\n",
    "    \n",
    "    \n",
    "add(10,20)    "
   ]
  },
  {
   "cell_type": "code",
   "execution_count": null,
   "id": "cc7050a6",
   "metadata": {},
   "outputs": [],
   "source": []
  },
  {
   "cell_type": "markdown",
   "id": "08d1ba7e",
   "metadata": {},
   "source": [
    "#### function with return type"
   ]
  },
  {
   "cell_type": "code",
   "execution_count": null,
   "id": "a4add060",
   "metadata": {},
   "outputs": [],
   "source": []
  },
  {
   "cell_type": "code",
   "execution_count": null,
   "id": "f764cda1",
   "metadata": {},
   "outputs": [],
   "source": []
  },
  {
   "cell_type": "code",
   "execution_count": null,
   "id": "55c77503",
   "metadata": {},
   "outputs": [],
   "source": []
  },
  {
   "cell_type": "markdown",
   "id": "cf30b805",
   "metadata": {},
   "source": [
    "### *args and **kwargs"
   ]
  },
  {
   "cell_type": "raw",
   "id": "b8b14f0e",
   "metadata": {},
   "source": [
    "*args  --->positional arguments\n",
    "\n",
    "**kwargs  --> keyword arguments"
   ]
  },
  {
   "cell_type": "markdown",
   "id": "cfb2333d",
   "metadata": {},
   "source": [
    "### *args"
   ]
  },
  {
   "cell_type": "code",
   "execution_count": 45,
   "id": "57bb4f91",
   "metadata": {},
   "outputs": [
    {
     "name": "stdout",
     "output_type": "stream",
     "text": [
      "469\n"
     ]
    }
   ],
   "source": [
    "def dummy(*p):\n",
    "    total=0\n",
    "    for i in p:\n",
    "        total +=i\n",
    "    print(total)\n",
    "        \n",
    "dummy(1,2,3,4,5,6,8,100,300,40) #calling function"
   ]
  },
  {
   "cell_type": "code",
   "execution_count": null,
   "id": "e61ee623",
   "metadata": {},
   "outputs": [],
   "source": []
  },
  {
   "cell_type": "markdown",
   "id": "9007cab7",
   "metadata": {},
   "source": [
    "### **kwagrs"
   ]
  },
  {
   "cell_type": "code",
   "execution_count": 41,
   "id": "b1f9f178",
   "metadata": {},
   "outputs": [
    {
     "name": "stdout",
     "output_type": "stream",
     "text": [
      "name = sonam\n",
      "age = 25\n",
      "name1 = minal\n"
     ]
    }
   ],
   "source": [
    "def abc(**h):\n",
    "    \n",
    "    for key,value in h.items():\n",
    "        print(f\"{key} = {value}\")\n",
    "        \n",
    "        \n",
    "abc(name=\"sonam\",age=25,name1=\"minal\")  "
   ]
  },
  {
   "cell_type": "code",
   "execution_count": null,
   "id": "7b50957b",
   "metadata": {},
   "outputs": [],
   "source": []
  },
  {
   "cell_type": "code",
   "execution_count": null,
   "id": "388e9300",
   "metadata": {},
   "outputs": [],
   "source": []
  },
  {
   "cell_type": "code",
   "execution_count": null,
   "id": "d4696c69",
   "metadata": {},
   "outputs": [],
   "source": []
  },
  {
   "cell_type": "code",
   "execution_count": null,
   "id": "23392c08",
   "metadata": {},
   "outputs": [],
   "source": []
  },
  {
   "cell_type": "code",
   "execution_count": null,
   "id": "118ca4de",
   "metadata": {},
   "outputs": [],
   "source": []
  },
  {
   "cell_type": "code",
   "execution_count": null,
   "id": "a31f9280",
   "metadata": {},
   "outputs": [],
   "source": []
  }
 ],
 "metadata": {
  "kernelspec": {
   "display_name": "Python 3 (ipykernel)",
   "language": "python",
   "name": "python3"
  },
  "language_info": {
   "codemirror_mode": {
    "name": "ipython",
    "version": 3
   },
   "file_extension": ".py",
   "mimetype": "text/x-python",
   "name": "python",
   "nbconvert_exporter": "python",
   "pygments_lexer": "ipython3",
   "version": "3.10.9"
  }
 },
 "nbformat": 4,
 "nbformat_minor": 5
}
