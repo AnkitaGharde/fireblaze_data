{
 "cells": [
  {
   "cell_type": "markdown",
   "id": "29fb16a4",
   "metadata": {},
   "source": [
    "- string operation\n",
    "- data structure in python\n"
   ]
  },
  {
   "cell_type": "code",
   "execution_count": null,
   "id": "bf0b8e77",
   "metadata": {},
   "outputs": [],
   "source": []
  },
  {
   "cell_type": "code",
   "execution_count": 1,
   "id": "4a34292b",
   "metadata": {},
   "outputs": [],
   "source": [
    "s = \"i love my India\""
   ]
  },
  {
   "cell_type": "code",
   "execution_count": null,
   "id": "6c950cd6",
   "metadata": {},
   "outputs": [],
   "source": [
    "\n",
    "               0123\n",
    "               neha"
   ]
  },
  {
   "cell_type": "code",
   "execution_count": null,
   "id": "55a5142c",
   "metadata": {},
   "outputs": [],
   "source": []
  },
  {
   "cell_type": "code",
   "execution_count": 2,
   "id": "5573134f",
   "metadata": {},
   "outputs": [
    {
     "data": {
      "text/plain": [
       "'i love my India'"
      ]
     },
     "execution_count": 2,
     "metadata": {},
     "output_type": "execute_result"
    }
   ],
   "source": [
    "s"
   ]
  },
  {
   "cell_type": "code",
   "execution_count": 5,
   "id": "5158cb72",
   "metadata": {},
   "outputs": [
    {
     "data": {
      "text/plain": [
       "'v'"
      ]
     },
     "execution_count": 5,
     "metadata": {},
     "output_type": "execute_result"
    }
   ],
   "source": [
    "s[4]"
   ]
  },
  {
   "cell_type": "code",
   "execution_count": null,
   "id": "d493a1f5",
   "metadata": {},
   "outputs": [],
   "source": []
  },
  {
   "cell_type": "markdown",
   "id": "f76626ad",
   "metadata": {},
   "source": [
    "### slicing"
   ]
  },
  {
   "cell_type": "markdown",
   "id": "bc84ea76",
   "metadata": {},
   "source": [
    "#### example"
   ]
  },
  {
   "cell_type": "code",
   "execution_count": 6,
   "id": "1deeb04b",
   "metadata": {},
   "outputs": [
    {
     "data": {
      "text/plain": [
       "'i love my India'"
      ]
     },
     "execution_count": 6,
     "metadata": {},
     "output_type": "execute_result"
    }
   ],
   "source": [
    "s"
   ]
  },
  {
   "cell_type": "code",
   "execution_count": null,
   "id": "399faaea",
   "metadata": {},
   "outputs": [],
   "source": [
    "\n",
    "# syntax\n",
    "\n",
    "variable_name[start:end-1:step]"
   ]
  },
  {
   "cell_type": "code",
   "execution_count": 15,
   "id": "c2dd5c0e",
   "metadata": {},
   "outputs": [
    {
     "data": {
      "text/plain": [
       "'ilv'"
      ]
     },
     "execution_count": 15,
     "metadata": {},
     "output_type": "execute_result"
    }
   ],
   "source": [
    "s[0:5:2]"
   ]
  },
  {
   "cell_type": "code",
   "execution_count": 18,
   "id": "0f53e086",
   "metadata": {},
   "outputs": [
    {
     "data": {
      "text/plain": [
       "'i love my India'"
      ]
     },
     "execution_count": 18,
     "metadata": {},
     "output_type": "execute_result"
    }
   ],
   "source": [
    "s"
   ]
  },
  {
   "cell_type": "code",
   "execution_count": 26,
   "id": "7b3b7b5d",
   "metadata": {},
   "outputs": [
    {
     "data": {
      "text/plain": [
       "'India'"
      ]
     },
     "execution_count": 26,
     "metadata": {},
     "output_type": "execute_result"
    }
   ],
   "source": [
    "s[10::]"
   ]
  },
  {
   "cell_type": "code",
   "execution_count": null,
   "id": "66ff388e",
   "metadata": {},
   "outputs": [],
   "source": [
    "[start:end:step]"
   ]
  },
  {
   "cell_type": "code",
   "execution_count": 27,
   "id": "9f0097ca",
   "metadata": {},
   "outputs": [
    {
     "data": {
      "text/plain": [
       "'i love my India'"
      ]
     },
     "execution_count": 27,
     "metadata": {},
     "output_type": "execute_result"
    }
   ],
   "source": [
    "s[:]"
   ]
  },
  {
   "cell_type": "code",
   "execution_count": null,
   "id": "737dfeb9",
   "metadata": {},
   "outputs": [],
   "source": []
  },
  {
   "cell_type": "code",
   "execution_count": null,
   "id": "d3ad6ba3",
   "metadata": {},
   "outputs": [],
   "source": []
  },
  {
   "cell_type": "code",
   "execution_count": null,
   "id": "399b4bb7",
   "metadata": {},
   "outputs": [],
   "source": []
  },
  {
   "cell_type": "markdown",
   "id": "96fe0b4b",
   "metadata": {},
   "source": [
    "## string operation in python"
   ]
  },
  {
   "cell_type": "markdown",
   "id": "54334d5c",
   "metadata": {},
   "source": [
    "- capitalize() \n",
    "- casefold() \n",
    "- index()   \n",
    "- lower() \n",
    "- partition() \n",
    "- replace() \n",
    "- split()\n",
    "- swapcase() \n",
    "- title()\n",
    "- upper() \n",
    "- zfill()"
   ]
  },
  {
   "cell_type": "markdown",
   "id": "555e0ad5",
   "metadata": {},
   "source": [
    "### capitalize()"
   ]
  },
  {
   "cell_type": "code",
   "execution_count": 28,
   "id": "de7f6e79",
   "metadata": {},
   "outputs": [],
   "source": [
    "# examples\n",
    "\n",
    "s1 = \"our class name is fireblaze\"\n",
    "\n"
   ]
  },
  {
   "cell_type": "code",
   "execution_count": null,
   "id": "b63e1870",
   "metadata": {},
   "outputs": [],
   "source": []
  },
  {
   "cell_type": "code",
   "execution_count": 29,
   "id": "135925f1",
   "metadata": {},
   "outputs": [
    {
     "data": {
      "text/plain": [
       "'our class name is fireblaze'"
      ]
     },
     "execution_count": 29,
     "metadata": {},
     "output_type": "execute_result"
    }
   ],
   "source": [
    "s1"
   ]
  },
  {
   "cell_type": "code",
   "execution_count": 30,
   "id": "44f0d33b",
   "metadata": {},
   "outputs": [
    {
     "data": {
      "text/plain": [
       "'Our class name is fireblaze'"
      ]
     },
     "execution_count": 30,
     "metadata": {},
     "output_type": "execute_result"
    }
   ],
   "source": [
    "s1.capitalize()"
   ]
  },
  {
   "cell_type": "code",
   "execution_count": null,
   "id": "28d90aab",
   "metadata": {},
   "outputs": [],
   "source": []
  },
  {
   "cell_type": "markdown",
   "id": "5f3d8c58",
   "metadata": {},
   "source": [
    "### casefold()"
   ]
  },
  {
   "cell_type": "code",
   "execution_count": null,
   "id": "43e26bd1",
   "metadata": {},
   "outputs": [],
   "source": []
  },
  {
   "cell_type": "code",
   "execution_count": 31,
   "id": "cb7b36de",
   "metadata": {},
   "outputs": [
    {
     "data": {
      "text/plain": [
       "'our class name is fireblaze'"
      ]
     },
     "execution_count": 31,
     "metadata": {},
     "output_type": "execute_result"
    }
   ],
   "source": [
    "s1"
   ]
  },
  {
   "cell_type": "code",
   "execution_count": 32,
   "id": "040ee46e",
   "metadata": {},
   "outputs": [
    {
     "data": {
      "text/plain": [
       "'our class name is fireblaze'"
      ]
     },
     "execution_count": 32,
     "metadata": {},
     "output_type": "execute_result"
    }
   ],
   "source": [
    "s1.casefold()"
   ]
  },
  {
   "cell_type": "code",
   "execution_count": null,
   "id": "0d793350",
   "metadata": {},
   "outputs": [],
   "source": []
  },
  {
   "cell_type": "code",
   "execution_count": null,
   "id": "97daa6ab",
   "metadata": {},
   "outputs": [],
   "source": []
  },
  {
   "cell_type": "code",
   "execution_count": null,
   "id": "c1d62211",
   "metadata": {},
   "outputs": [],
   "source": []
  },
  {
   "cell_type": "code",
   "execution_count": null,
   "id": "77f1fc0a",
   "metadata": {},
   "outputs": [],
   "source": []
  },
  {
   "cell_type": "markdown",
   "id": "2ca9440c",
   "metadata": {},
   "source": [
    "### list methods"
   ]
  },
  {
   "cell_type": "code",
   "execution_count": null,
   "id": "c542ff9c",
   "metadata": {},
   "outputs": [],
   "source": []
  },
  {
   "cell_type": "code",
   "execution_count": null,
   "id": "1ad4d14e",
   "metadata": {},
   "outputs": [],
   "source": [
    "append()   --> add an item to the end of the list\n",
    "\n",
    "extend()   --> add all the items of an iterable to the end of the list\n",
    "insert()   --> inserts an item at the specified index\n",
    "remove()   --> removes item present at the given index\n",
    "pop()      --> returns and removes item present at the given index\n",
    "clear()    --> removes all items from the list\n",
    "index()    --> returns the index of the first matched item\n",
    "count()    --> returns the count of the specified item in the list\n",
    "sort()     --> sort the list in ascending/descending order\n",
    "reverse()  --> reverses the item of the list\n",
    "copy()     --> returns the shallow copy of the list"
   ]
  },
  {
   "cell_type": "code",
   "execution_count": null,
   "id": "733b2956",
   "metadata": {},
   "outputs": [],
   "source": []
  },
  {
   "cell_type": "code",
   "execution_count": null,
   "id": "29e1acdb",
   "metadata": {},
   "outputs": [],
   "source": []
  },
  {
   "cell_type": "code",
   "execution_count": null,
   "id": "9fc30516",
   "metadata": {},
   "outputs": [],
   "source": []
  },
  {
   "cell_type": "code",
   "execution_count": null,
   "id": "15bffbf3",
   "metadata": {},
   "outputs": [],
   "source": []
  },
  {
   "cell_type": "code",
   "execution_count": null,
   "id": "bfbb250a",
   "metadata": {},
   "outputs": [],
   "source": []
  },
  {
   "cell_type": "code",
   "execution_count": null,
   "id": "b7ce51b0",
   "metadata": {},
   "outputs": [],
   "source": []
  },
  {
   "cell_type": "code",
   "execution_count": null,
   "id": "a936c284",
   "metadata": {},
   "outputs": [],
   "source": []
  },
  {
   "cell_type": "code",
   "execution_count": null,
   "id": "39ad2ea4",
   "metadata": {},
   "outputs": [],
   "source": [
    "clear()  --> Removes all the elements from the dictionary\n",
    "copy()   --> Returns a copy of the dictionary\n",
    "fromkeys()  --> Returns a dictionary with the specified keys and value\n",
    "get()   --> Returns the value of the specified key\n",
    "items() --> Returns a list containing a tuple for each key value pair\n",
    "keys()  --> Returns a list containing the dictionary's keys\n",
    "pop()   --> Removes the element with the specified key\n",
    "popitem() --> Removes the last inserted key-value pair\n",
    "setdefault()  --> Returns the value of the specified key. If the key does not exist: insert the key, with the specified value\n",
    "update()    --> Updates the dictionary with the specified key-value pairs\n",
    "values()    -->Returns a list of all the values in the dictionary"
   ]
  },
  {
   "cell_type": "code",
   "execution_count": null,
   "id": "aa360a6e",
   "metadata": {},
   "outputs": [],
   "source": []
  },
  {
   "cell_type": "code",
   "execution_count": null,
   "id": "f93c2200",
   "metadata": {},
   "outputs": [],
   "source": []
  },
  {
   "cell_type": "code",
   "execution_count": null,
   "id": "1a1157f5",
   "metadata": {},
   "outputs": [],
   "source": []
  },
  {
   "cell_type": "code",
   "execution_count": null,
   "id": "76ce41fa",
   "metadata": {},
   "outputs": [],
   "source": []
  },
  {
   "cell_type": "code",
   "execution_count": 7,
   "id": "a9da7660",
   "metadata": {},
   "outputs": [
    {
     "name": "stdout",
     "output_type": "stream",
     "text": [
      "-2\n",
      "-2\n",
      "-2\n",
      "-4\n",
      "-4\n",
      "True\n",
      "-4\n",
      "True\n",
      "True\n",
      "True\n",
      "True\n",
      "True\n",
      "True\n",
      "False\n",
      "-4\n"
     ]
    }
   ],
   "source": [
    "l1 = [20,22,21,30,34,35,33,40,41,43,45,50,48,27,30]\n",
    "\n",
    "\n",
    "for i in l1:\n",
    "    if i == 20 or i == 21 or i == 22:\n",
    "        print(20-22)\n",
    "        \n",
    "    elif i == 30 or i == 33 or i == 34:\n",
    "        print(30-34)\n",
    "        \n",
    "    else:\n",
    "        print(i>34)"
   ]
  },
  {
   "cell_type": "code",
   "execution_count": null,
   "id": "0ca4487b",
   "metadata": {},
   "outputs": [],
   "source": []
  },
  {
   "cell_type": "code",
   "execution_count": null,
   "id": "82af12aa",
   "metadata": {},
   "outputs": [],
   "source": []
  }
 ],
 "metadata": {
  "kernelspec": {
   "display_name": "Python 3 (ipykernel)",
   "language": "python",
   "name": "python3"
  },
  "language_info": {
   "codemirror_mode": {
    "name": "ipython",
    "version": 3
   },
   "file_extension": ".py",
   "mimetype": "text/x-python",
   "name": "python",
   "nbconvert_exporter": "python",
   "pygments_lexer": "ipython3",
   "version": "3.10.9"
  }
 },
 "nbformat": 4,
 "nbformat_minor": 5
}
