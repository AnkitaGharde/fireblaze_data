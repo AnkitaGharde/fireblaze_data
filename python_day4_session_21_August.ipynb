{
 "cells": [
  {
   "cell_type": "markdown",
   "id": "29fb16a4",
   "metadata": {},
   "source": [
    "- string operation\n",
    "- data structure in python\n"
   ]
  },
  {
   "cell_type": "code",
   "execution_count": null,
   "id": "bf0b8e77",
   "metadata": {},
   "outputs": [],
   "source": []
  },
  {
   "cell_type": "code",
   "execution_count": 1,
   "id": "8469b9ca",
   "metadata": {},
   "outputs": [],
   "source": [
    "s = \"i love my India\""
   ]
  },
  {
   "cell_type": "code",
   "execution_count": null,
   "id": "de2425a7",
   "metadata": {},
   "outputs": [],
   "source": [
    "\n",
    "               0123\n",
    "               neha"
   ]
  },
  {
   "cell_type": "code",
   "execution_count": null,
   "id": "b2bb2d81",
   "metadata": {},
   "outputs": [],
   "source": []
  },
  {
   "cell_type": "code",
   "execution_count": 2,
   "id": "14bef565",
   "metadata": {},
   "outputs": [
    {
     "data": {
      "text/plain": [
       "'i love my India'"
      ]
     },
     "execution_count": 2,
     "metadata": {},
     "output_type": "execute_result"
    }
   ],
   "source": [
    "s"
   ]
  },
  {
   "cell_type": "code",
   "execution_count": 5,
   "id": "6bb2b1e5",
   "metadata": {},
   "outputs": [
    {
     "data": {
      "text/plain": [
       "'v'"
      ]
     },
     "execution_count": 5,
     "metadata": {},
     "output_type": "execute_result"
    }
   ],
   "source": [
    "s[4]"
   ]
  },
  {
   "cell_type": "code",
   "execution_count": null,
   "id": "ff69fb4c",
   "metadata": {},
   "outputs": [],
   "source": []
  },
  {
   "cell_type": "markdown",
   "id": "8af4c9a6",
   "metadata": {},
   "source": [
    "### slicing"
   ]
  },
  {
   "cell_type": "markdown",
   "id": "d191f62c",
   "metadata": {},
   "source": [
    "#### example"
   ]
  },
  {
   "cell_type": "code",
   "execution_count": 6,
   "id": "32aab284",
   "metadata": {},
   "outputs": [
    {
     "data": {
      "text/plain": [
       "'i love my India'"
      ]
     },
     "execution_count": 6,
     "metadata": {},
     "output_type": "execute_result"
    }
   ],
   "source": [
    "s"
   ]
  },
  {
   "cell_type": "code",
   "execution_count": null,
   "id": "6d11a744",
   "metadata": {},
   "outputs": [],
   "source": [
    "\n",
    "# syntax\n",
    "\n",
    "variable_name[start:end-1:step]"
   ]
  },
  {
   "cell_type": "code",
   "execution_count": 15,
   "id": "30b39c0b",
   "metadata": {},
   "outputs": [
    {
     "data": {
      "text/plain": [
       "'ilv'"
      ]
     },
     "execution_count": 15,
     "metadata": {},
     "output_type": "execute_result"
    }
   ],
   "source": [
    "s[0:5:2]"
   ]
  },
  {
   "cell_type": "code",
   "execution_count": 18,
   "id": "52a3fe51",
   "metadata": {},
   "outputs": [
    {
     "data": {
      "text/plain": [
       "'i love my India'"
      ]
     },
     "execution_count": 18,
     "metadata": {},
     "output_type": "execute_result"
    }
   ],
   "source": [
    "s"
   ]
  },
  {
   "cell_type": "code",
   "execution_count": 26,
   "id": "9eb8aad6",
   "metadata": {},
   "outputs": [
    {
     "data": {
      "text/plain": [
       "'India'"
      ]
     },
     "execution_count": 26,
     "metadata": {},
     "output_type": "execute_result"
    }
   ],
   "source": [
    "s[10::]"
   ]
  },
  {
   "cell_type": "code",
   "execution_count": null,
   "id": "4f02d4bc",
   "metadata": {},
   "outputs": [],
   "source": [
    "[start:end:step]"
   ]
  },
  {
   "cell_type": "code",
   "execution_count": 27,
   "id": "3a742882",
   "metadata": {},
   "outputs": [
    {
     "data": {
      "text/plain": [
       "'i love my India'"
      ]
     },
     "execution_count": 27,
     "metadata": {},
     "output_type": "execute_result"
    }
   ],
   "source": [
    "s[:]"
   ]
  },
  {
   "cell_type": "code",
   "execution_count": null,
   "id": "7ee79cff",
   "metadata": {},
   "outputs": [],
   "source": []
  },
  {
   "cell_type": "code",
   "execution_count": null,
   "id": "e4861807",
   "metadata": {},
   "outputs": [],
   "source": []
  },
  {
   "cell_type": "code",
   "execution_count": null,
   "id": "2ac35940",
   "metadata": {},
   "outputs": [],
   "source": []
  },
  {
   "cell_type": "markdown",
   "id": "96fe0b4b",
   "metadata": {},
   "source": [
    "## string operation in python"
   ]
  },
  {
   "cell_type": "markdown",
   "id": "54334d5c",
   "metadata": {},
   "source": [
    "- capitalize() \n",
    "- casefold() \n",
    "- index()   \n",
    "- lower() \n",
    "- partition() \n",
    "- replace() \n",
    "- split()\n",
    "- swapcase() \n",
    "- title()\n",
    "- upper() \n",
    "- zfill()"
   ]
  },
  {
   "cell_type": "markdown",
   "id": "73aa550d",
   "metadata": {},
   "source": [
    "### capitalize()"
   ]
  },
  {
   "cell_type": "code",
   "execution_count": 28,
   "id": "de7f6e79",
   "metadata": {},
   "outputs": [],
   "source": [
    "# examples\n",
    "\n",
    "s1 = \"our class name is fireblaze\"\n",
    "\n"
   ]
  },
  {
   "cell_type": "code",
   "execution_count": null,
   "id": "e8a6962c",
   "metadata": {},
   "outputs": [],
   "source": []
  },
  {
   "cell_type": "code",
   "execution_count": 29,
   "id": "ae6e0980",
   "metadata": {},
   "outputs": [
    {
     "data": {
      "text/plain": [
       "'our class name is fireblaze'"
      ]
     },
     "execution_count": 29,
     "metadata": {},
     "output_type": "execute_result"
    }
   ],
   "source": [
    "s1"
   ]
  },
  {
   "cell_type": "code",
   "execution_count": 30,
   "id": "910b44e6",
   "metadata": {},
   "outputs": [
    {
     "data": {
      "text/plain": [
       "'Our class name is fireblaze'"
      ]
     },
     "execution_count": 30,
     "metadata": {},
     "output_type": "execute_result"
    }
   ],
   "source": [
    "s1.capitalize()"
   ]
  },
  {
   "cell_type": "code",
   "execution_count": null,
   "id": "f1032d16",
   "metadata": {},
   "outputs": [],
   "source": []
  },
  {
   "cell_type": "markdown",
   "id": "58ecbdb3",
   "metadata": {},
   "source": [
    "### casefold()"
   ]
  },
  {
   "cell_type": "code",
   "execution_count": null,
   "id": "9695d1b0",
   "metadata": {},
   "outputs": [],
   "source": []
  },
  {
   "cell_type": "code",
   "execution_count": 31,
   "id": "c2a2ad7e",
   "metadata": {},
   "outputs": [
    {
     "data": {
      "text/plain": [
       "'our class name is fireblaze'"
      ]
     },
     "execution_count": 31,
     "metadata": {},
     "output_type": "execute_result"
    }
   ],
   "source": [
    "s1"
   ]
  },
  {
   "cell_type": "code",
   "execution_count": 32,
   "id": "6621c5c7",
   "metadata": {},
   "outputs": [
    {
     "data": {
      "text/plain": [
       "'our class name is fireblaze'"
      ]
     },
     "execution_count": 32,
     "metadata": {},
     "output_type": "execute_result"
    }
   ],
   "source": [
    "s1.casefold()"
   ]
  },
  {
   "cell_type": "code",
   "execution_count": 33,
   "id": "717f2099",
   "metadata": {},
   "outputs": [],
   "source": [
    "s2 = \"HELLO PYTHON\""
   ]
  },
  {
   "cell_type": "code",
   "execution_count": 34,
   "id": "97daa6ab",
   "metadata": {},
   "outputs": [
    {
     "data": {
      "text/plain": [
       "'HELLO PYTHON'"
      ]
     },
     "execution_count": 34,
     "metadata": {},
     "output_type": "execute_result"
    }
   ],
   "source": [
    "s2"
   ]
  },
  {
   "cell_type": "code",
   "execution_count": 35,
   "id": "c1d62211",
   "metadata": {},
   "outputs": [
    {
     "data": {
      "text/plain": [
       "'hello python'"
      ]
     },
     "execution_count": 35,
     "metadata": {},
     "output_type": "execute_result"
    }
   ],
   "source": [
    "s2.casefold()"
   ]
  },
  {
   "cell_type": "code",
   "execution_count": null,
   "id": "77f1fc0a",
   "metadata": {},
   "outputs": [],
   "source": []
  },
  {
   "cell_type": "markdown",
   "id": "40a05a37",
   "metadata": {},
   "source": [
    "### index()"
   ]
  },
  {
   "cell_type": "code",
   "execution_count": 1,
   "id": "5e326630",
   "metadata": {},
   "outputs": [],
   "source": [
    "s3 = \"i like mango, i like flower k\""
   ]
  },
  {
   "cell_type": "code",
   "execution_count": 2,
   "id": "359ce576",
   "metadata": {},
   "outputs": [
    {
     "data": {
      "text/plain": [
       "'i like mango, i like flower k'"
      ]
     },
     "execution_count": 2,
     "metadata": {},
     "output_type": "execute_result"
    }
   ],
   "source": [
    "s3"
   ]
  },
  {
   "cell_type": "code",
   "execution_count": null,
   "id": "20b520ca",
   "metadata": {},
   "outputs": [],
   "source": []
  },
  {
   "cell_type": "code",
   "execution_count": 3,
   "id": "35b29551",
   "metadata": {},
   "outputs": [
    {
     "data": {
      "text/plain": [
       "4"
      ]
     },
     "execution_count": 3,
     "metadata": {},
     "output_type": "execute_result"
    }
   ],
   "source": [
    "s3.index('k')"
   ]
  },
  {
   "cell_type": "code",
   "execution_count": null,
   "id": "febf7572",
   "metadata": {},
   "outputs": [],
   "source": []
  },
  {
   "cell_type": "code",
   "execution_count": 4,
   "id": "d1a6c413",
   "metadata": {},
   "outputs": [
    {
     "data": {
      "text/plain": [
       "18"
      ]
     },
     "execution_count": 4,
     "metadata": {},
     "output_type": "execute_result"
    }
   ],
   "source": [
    "s3.index('k',5)"
   ]
  },
  {
   "cell_type": "code",
   "execution_count": null,
   "id": "c67c0e0c",
   "metadata": {},
   "outputs": [],
   "source": []
  },
  {
   "cell_type": "code",
   "execution_count": 5,
   "id": "9c684e65",
   "metadata": {},
   "outputs": [
    {
     "data": {
      "text/plain": [
       "28"
      ]
     },
     "execution_count": 5,
     "metadata": {},
     "output_type": "execute_result"
    }
   ],
   "source": [
    "s3.index('k',19)"
   ]
  },
  {
   "cell_type": "code",
   "execution_count": null,
   "id": "f5fdeaab",
   "metadata": {},
   "outputs": [],
   "source": []
  },
  {
   "cell_type": "markdown",
   "id": "31364673",
   "metadata": {},
   "source": [
    "### lower()"
   ]
  },
  {
   "cell_type": "code",
   "execution_count": 49,
   "id": "cb1e5f9b",
   "metadata": {},
   "outputs": [
    {
     "data": {
      "text/plain": [
       "'HELLO PYTHON'"
      ]
     },
     "execution_count": 49,
     "metadata": {},
     "output_type": "execute_result"
    }
   ],
   "source": [
    "s2"
   ]
  },
  {
   "cell_type": "code",
   "execution_count": 50,
   "id": "c13c207f",
   "metadata": {},
   "outputs": [
    {
     "data": {
      "text/plain": [
       "'hello python'"
      ]
     },
     "execution_count": 50,
     "metadata": {},
     "output_type": "execute_result"
    }
   ],
   "source": [
    "s2.lower()"
   ]
  },
  {
   "cell_type": "code",
   "execution_count": null,
   "id": "e0d21646",
   "metadata": {},
   "outputs": [],
   "source": []
  },
  {
   "cell_type": "markdown",
   "id": "16357758",
   "metadata": {},
   "source": [
    "### partition()"
   ]
  },
  {
   "cell_type": "markdown",
   "id": "773f8d3a",
   "metadata": {},
   "source": [
    " - before match\n",
    " - the match\n",
    " - after match"
   ]
  },
  {
   "cell_type": "code",
   "execution_count": 51,
   "id": "61ab1af5",
   "metadata": {},
   "outputs": [],
   "source": [
    "s4 = \" Hello, good morning\""
   ]
  },
  {
   "cell_type": "code",
   "execution_count": 52,
   "id": "905cfe5f",
   "metadata": {},
   "outputs": [
    {
     "data": {
      "text/plain": [
       "' Hello, good morning'"
      ]
     },
     "execution_count": 52,
     "metadata": {},
     "output_type": "execute_result"
    }
   ],
   "source": [
    "s4"
   ]
  },
  {
   "cell_type": "code",
   "execution_count": 54,
   "id": "2d6522d8",
   "metadata": {},
   "outputs": [
    {
     "data": {
      "text/plain": [
       "(' ', 'Hello', ', good morning')"
      ]
     },
     "execution_count": 54,
     "metadata": {},
     "output_type": "execute_result"
    }
   ],
   "source": [
    "# example\n",
    "\n",
    "s4.partition('Hello')"
   ]
  },
  {
   "cell_type": "code",
   "execution_count": 55,
   "id": "3edf8632",
   "metadata": {},
   "outputs": [
    {
     "data": {
      "text/plain": [
       "' Hello, good morning'"
      ]
     },
     "execution_count": 55,
     "metadata": {},
     "output_type": "execute_result"
    }
   ],
   "source": [
    "s4"
   ]
  },
  {
   "cell_type": "code",
   "execution_count": 56,
   "id": "d4984182",
   "metadata": {},
   "outputs": [
    {
     "data": {
      "text/plain": [
       "(' Hello, good ', 'morning', '')"
      ]
     },
     "execution_count": 56,
     "metadata": {},
     "output_type": "execute_result"
    }
   ],
   "source": [
    "# example2\n",
    "\n",
    "s4.partition('morning')\n"
   ]
  },
  {
   "cell_type": "code",
   "execution_count": null,
   "id": "d4a172c4",
   "metadata": {},
   "outputs": [],
   "source": []
  },
  {
   "cell_type": "code",
   "execution_count": 57,
   "id": "6156c16b",
   "metadata": {},
   "outputs": [
    {
     "data": {
      "text/plain": [
       "' Hello, good morning'"
      ]
     },
     "execution_count": 57,
     "metadata": {},
     "output_type": "execute_result"
    }
   ],
   "source": [
    "s4"
   ]
  },
  {
   "cell_type": "code",
   "execution_count": null,
   "id": "34a2f105",
   "metadata": {},
   "outputs": [],
   "source": []
  },
  {
   "cell_type": "code",
   "execution_count": 58,
   "id": "e6f1006c",
   "metadata": {},
   "outputs": [
    {
     "data": {
      "text/plain": [
       "(' Hello, ', 'good', ' morning')"
      ]
     },
     "execution_count": 58,
     "metadata": {},
     "output_type": "execute_result"
    }
   ],
   "source": [
    "# example3\n",
    "\n",
    "s4.partition('good')"
   ]
  },
  {
   "cell_type": "code",
   "execution_count": null,
   "id": "bb0ae4f1",
   "metadata": {},
   "outputs": [],
   "source": []
  },
  {
   "cell_type": "markdown",
   "id": "9a61f807",
   "metadata": {},
   "source": [
    "### replace()"
   ]
  },
  {
   "cell_type": "code",
   "execution_count": null,
   "id": "8c1068d2",
   "metadata": {},
   "outputs": [],
   "source": []
  },
  {
   "cell_type": "code",
   "execution_count": 59,
   "id": "3db08120",
   "metadata": {},
   "outputs": [],
   "source": [
    "s5 = \"i eat apple\""
   ]
  },
  {
   "cell_type": "markdown",
   "id": "84f1d4c8",
   "metadata": {},
   "source": [
    "#### synatx"
   ]
  },
  {
   "cell_type": "raw",
   "id": "8d208d12",
   "metadata": {},
   "source": [
    "variable_name.replace('old_value',new_value)"
   ]
  },
  {
   "cell_type": "code",
   "execution_count": null,
   "id": "90ca08a6",
   "metadata": {},
   "outputs": [],
   "source": []
  },
  {
   "cell_type": "markdown",
   "id": "795c8eb6",
   "metadata": {},
   "source": [
    "#### examples"
   ]
  },
  {
   "cell_type": "code",
   "execution_count": 65,
   "id": "2d82295c",
   "metadata": {},
   "outputs": [],
   "source": [
    "f=s5.replace('apple','mango')"
   ]
  },
  {
   "cell_type": "code",
   "execution_count": 66,
   "id": "2109f3e7",
   "metadata": {},
   "outputs": [
    {
     "data": {
      "text/plain": [
       "'i eat mango'"
      ]
     },
     "execution_count": 66,
     "metadata": {},
     "output_type": "execute_result"
    }
   ],
   "source": [
    "f"
   ]
  },
  {
   "cell_type": "markdown",
   "id": "242d8291",
   "metadata": {},
   "source": [
    "### split()"
   ]
  },
  {
   "cell_type": "code",
   "execution_count": 62,
   "id": "015a0c9b",
   "metadata": {},
   "outputs": [],
   "source": [
    "s6 = \"Hello welcome in python\""
   ]
  },
  {
   "cell_type": "code",
   "execution_count": 63,
   "id": "1889d8c7",
   "metadata": {},
   "outputs": [
    {
     "data": {
      "text/plain": [
       "'Hello welcome in python'"
      ]
     },
     "execution_count": 63,
     "metadata": {},
     "output_type": "execute_result"
    }
   ],
   "source": [
    "s6"
   ]
  },
  {
   "cell_type": "markdown",
   "id": "9b7d2c55",
   "metadata": {},
   "source": [
    "#### example"
   ]
  },
  {
   "cell_type": "code",
   "execution_count": 64,
   "id": "eec432b6",
   "metadata": {},
   "outputs": [
    {
     "data": {
      "text/plain": [
       "['Hello', 'welcome', 'in', 'python']"
      ]
     },
     "execution_count": 64,
     "metadata": {},
     "output_type": "execute_result"
    }
   ],
   "source": [
    "s6.split()"
   ]
  },
  {
   "cell_type": "code",
   "execution_count": null,
   "id": "023527c4",
   "metadata": {},
   "outputs": [],
   "source": []
  },
  {
   "cell_type": "markdown",
   "id": "65ea5ddd",
   "metadata": {},
   "source": [
    "### swapcase()"
   ]
  },
  {
   "cell_type": "code",
   "execution_count": 67,
   "id": "2741b1d1",
   "metadata": {},
   "outputs": [
    {
     "data": {
      "text/plain": [
       "'our class name is fireblaze'"
      ]
     },
     "execution_count": 67,
     "metadata": {},
     "output_type": "execute_result"
    }
   ],
   "source": [
    "s1"
   ]
  },
  {
   "cell_type": "code",
   "execution_count": 68,
   "id": "b3b5c964",
   "metadata": {},
   "outputs": [
    {
     "data": {
      "text/plain": [
       "'OUR CLASS NAME IS FIREBLAZE'"
      ]
     },
     "execution_count": 68,
     "metadata": {},
     "output_type": "execute_result"
    }
   ],
   "source": [
    "s1.swapcase()"
   ]
  },
  {
   "cell_type": "code",
   "execution_count": null,
   "id": "5318a2ae",
   "metadata": {},
   "outputs": [],
   "source": []
  },
  {
   "cell_type": "code",
   "execution_count": 69,
   "id": "bb20e20c",
   "metadata": {},
   "outputs": [
    {
     "data": {
      "text/plain": [
       "'HELLO PYTHON'"
      ]
     },
     "execution_count": 69,
     "metadata": {},
     "output_type": "execute_result"
    }
   ],
   "source": [
    "s2"
   ]
  },
  {
   "cell_type": "code",
   "execution_count": 70,
   "id": "ec01bc68",
   "metadata": {},
   "outputs": [
    {
     "data": {
      "text/plain": [
       "'hello python'"
      ]
     },
     "execution_count": 70,
     "metadata": {},
     "output_type": "execute_result"
    }
   ],
   "source": [
    "s2.swapcase()"
   ]
  },
  {
   "cell_type": "code",
   "execution_count": null,
   "id": "f25dbe62",
   "metadata": {},
   "outputs": [],
   "source": []
  },
  {
   "cell_type": "markdown",
   "id": "da131be4",
   "metadata": {},
   "source": [
    "### title()"
   ]
  },
  {
   "cell_type": "code",
   "execution_count": 71,
   "id": "e0c9b6d7",
   "metadata": {},
   "outputs": [
    {
     "data": {
      "text/plain": [
       "'our class name is fireblaze'"
      ]
     },
     "execution_count": 71,
     "metadata": {},
     "output_type": "execute_result"
    }
   ],
   "source": [
    "s1"
   ]
  },
  {
   "cell_type": "code",
   "execution_count": null,
   "id": "42782c83",
   "metadata": {},
   "outputs": [],
   "source": []
  },
  {
   "cell_type": "code",
   "execution_count": 72,
   "id": "490cc541",
   "metadata": {},
   "outputs": [
    {
     "data": {
      "text/plain": [
       "'Our Class Name Is Fireblaze'"
      ]
     },
     "execution_count": 72,
     "metadata": {},
     "output_type": "execute_result"
    }
   ],
   "source": [
    "s1.title()"
   ]
  },
  {
   "cell_type": "code",
   "execution_count": null,
   "id": "ed92f50a",
   "metadata": {},
   "outputs": [],
   "source": []
  },
  {
   "cell_type": "markdown",
   "id": "c63327e2",
   "metadata": {},
   "source": [
    "### upper()"
   ]
  },
  {
   "cell_type": "code",
   "execution_count": null,
   "id": "da3623b2",
   "metadata": {},
   "outputs": [],
   "source": []
  },
  {
   "cell_type": "code",
   "execution_count": null,
   "id": "e6da5509",
   "metadata": {},
   "outputs": [],
   "source": []
  },
  {
   "cell_type": "code",
   "execution_count": null,
   "id": "b7fef09f",
   "metadata": {},
   "outputs": [],
   "source": []
  },
  {
   "cell_type": "code",
   "execution_count": null,
   "id": "51034896",
   "metadata": {},
   "outputs": [],
   "source": []
  },
  {
   "cell_type": "code",
   "execution_count": null,
   "id": "11eb53c4",
   "metadata": {},
   "outputs": [],
   "source": []
  },
  {
   "cell_type": "markdown",
   "id": "8aec35e8",
   "metadata": {},
   "source": [
    "### zfill()"
   ]
  },
  {
   "cell_type": "code",
   "execution_count": null,
   "id": "b207fa59",
   "metadata": {},
   "outputs": [],
   "source": []
  },
  {
   "cell_type": "code",
   "execution_count": 73,
   "id": "7df220b3",
   "metadata": {},
   "outputs": [],
   "source": [
    "s7 = \"hello\""
   ]
  },
  {
   "cell_type": "code",
   "execution_count": 74,
   "id": "9ade358c",
   "metadata": {},
   "outputs": [
    {
     "data": {
      "text/plain": [
       "'hello'"
      ]
     },
     "execution_count": 74,
     "metadata": {},
     "output_type": "execute_result"
    }
   ],
   "source": [
    "s7"
   ]
  },
  {
   "cell_type": "code",
   "execution_count": 81,
   "id": "f0acf00a",
   "metadata": {},
   "outputs": [
    {
     "data": {
      "text/plain": [
       "'hello'"
      ]
     },
     "execution_count": 81,
     "metadata": {},
     "output_type": "execute_result"
    }
   ],
   "source": [
    "# example\n",
    "\n",
    "s7.zfill(1)"
   ]
  },
  {
   "cell_type": "code",
   "execution_count": null,
   "id": "6b15a9ee",
   "metadata": {},
   "outputs": [],
   "source": []
  },
  {
   "cell_type": "code",
   "execution_count": null,
   "id": "bc3f1709",
   "metadata": {},
   "outputs": [],
   "source": []
  },
  {
   "cell_type": "code",
   "execution_count": null,
   "id": "9938b0a5",
   "metadata": {},
   "outputs": [],
   "source": []
  },
  {
   "cell_type": "code",
   "execution_count": null,
   "id": "94b61dee",
   "metadata": {},
   "outputs": [],
   "source": []
  },
  {
   "cell_type": "code",
   "execution_count": null,
   "id": "a47d4ad6",
   "metadata": {},
   "outputs": [],
   "source": []
  },
  {
   "cell_type": "markdown",
   "id": "2ca9440c",
   "metadata": {},
   "source": [
    "### list methods"
   ]
  },
  {
   "cell_type": "code",
   "execution_count": null,
   "id": "c542ff9c",
   "metadata": {},
   "outputs": [],
   "source": []
  },
  {
   "cell_type": "code",
   "execution_count": null,
   "id": "1ad4d14e",
   "metadata": {},
   "outputs": [],
   "source": [
    "append()   --> add an item to the end of the list\n",
    "\n",
    "extend()   --> add all the items of an iterable to the end of the list\n",
    "insert()   --> inserts an item at the specified index\n",
    "remove()   --> removes item present at the given index\n",
    "pop()      --> returns and removes item present at the given index\n",
    "clear()    --> removes all items from the list\n",
    "index()    --> returns the index of the first matched item\n",
    "count()    --> returns the count of the specified item in the list\n",
    "sort()     --> sort the list in ascending/descending order\n",
    "reverse()  --> reverses the item of the list\n",
    "copy()     --> returns the shallow copy of the list"
   ]
  },
  {
   "cell_type": "code",
   "execution_count": null,
   "id": "733b2956",
   "metadata": {},
   "outputs": [],
   "source": []
  },
  {
   "cell_type": "code",
   "execution_count": null,
   "id": "29e1acdb",
   "metadata": {},
   "outputs": [],
   "source": []
  },
  {
   "cell_type": "code",
   "execution_count": null,
   "id": "9fc30516",
   "metadata": {},
   "outputs": [],
   "source": []
  },
  {
   "cell_type": "code",
   "execution_count": null,
   "id": "15bffbf3",
   "metadata": {},
   "outputs": [],
   "source": []
  },
  {
   "cell_type": "code",
   "execution_count": null,
   "id": "bfbb250a",
   "metadata": {},
   "outputs": [],
   "source": []
  },
  {
   "cell_type": "code",
   "execution_count": null,
   "id": "b7ce51b0",
   "metadata": {},
   "outputs": [],
   "source": []
  },
  {
   "cell_type": "code",
   "execution_count": null,
   "id": "a936c284",
   "metadata": {},
   "outputs": [],
   "source": []
  },
  {
   "cell_type": "code",
   "execution_count": null,
   "id": "39ad2ea4",
   "metadata": {},
   "outputs": [],
   "source": [
    "clear()  --> Removes all the elements from the dictionary\n",
    "copy()   --> Returns a copy of the dictionary\n",
    "fromkeys()  --> Returns a dictionary with the specified keys and value\n",
    "get()   --> Returns the value of the specified key\n",
    "items() --> Returns a list containing a tuple for each key value pair\n",
    "keys()  --> Returns a list containing the dictionary's keys\n",
    "pop()   --> Removes the element with the specified key\n",
    "popitem() --> Removes the last inserted key-value pair\n",
    "setdefault()  --> Returns the value of the specified key. If the key does not exist: insert the key, with the specified value\n",
    "update()    --> Updates the dictionary with the specified key-value pairs\n",
    "values()    -->Returns a list of all the values in the dictionary"
   ]
  },
  {
   "cell_type": "code",
   "execution_count": null,
   "id": "aa360a6e",
   "metadata": {},
   "outputs": [],
   "source": []
  },
  {
   "cell_type": "code",
   "execution_count": 82,
   "id": "f93c2200",
   "metadata": {},
   "outputs": [
    {
     "name": "stdout",
     "output_type": "stream",
     "text": [
      "*******\n"
     ]
    }
   ],
   "source": [
    "print('*******')"
   ]
  },
  {
   "cell_type": "code",
   "execution_count": null,
   "id": "1a1157f5",
   "metadata": {},
   "outputs": [],
   "source": []
  },
  {
   "cell_type": "code",
   "execution_count": null,
   "id": "76ce41fa",
   "metadata": {},
   "outputs": [],
   "source": []
  },
  {
   "cell_type": "code",
   "execution_count": null,
   "id": "0ca4487b",
   "metadata": {},
   "outputs": [],
   "source": []
  },
  {
   "cell_type": "code",
   "execution_count": null,
   "id": "82af12aa",
   "metadata": {},
   "outputs": [],
   "source": []
  }
 ],
 "metadata": {
  "kernelspec": {
   "display_name": "Python 3 (ipykernel)",
   "language": "python",
   "name": "python3"
  },
  "language_info": {
   "codemirror_mode": {
    "name": "ipython",
    "version": 3
   },
   "file_extension": ".py",
   "mimetype": "text/x-python",
   "name": "python",
   "nbconvert_exporter": "python",
   "pygments_lexer": "ipython3",
   "version": "3.10.9"
  }
 },
 "nbformat": 4,
 "nbformat_minor": 5
}
