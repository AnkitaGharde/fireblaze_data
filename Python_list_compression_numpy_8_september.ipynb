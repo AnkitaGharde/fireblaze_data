{
 "cells": [
  {
   "cell_type": "markdown",
   "id": "7794b27e",
   "metadata": {},
   "source": [
    "- list comprehension\n",
    "- Numpy Introduction"
   ]
  },
  {
   "cell_type": "markdown",
   "id": "7b8ea537",
   "metadata": {},
   "source": [
    "## list comprehension"
   ]
  },
  {
   "cell_type": "markdown",
   "id": "0969d6cf",
   "metadata": {},
   "source": [
    "- list comprehension is an elegant way to define and create listed based on exsting lists.\n",
    "- list comprehension is generally more compact and faster than normal functions and loops for creating list.\n",
    "- list comprehension offers a shorter syntax when you want to create a new list based on the values of an exsting list."
   ]
  },
  {
   "cell_type": "markdown",
   "id": "d39761ab",
   "metadata": {},
   "source": [
    "#### syntax"
   ]
  },
  {
   "cell_type": "raw",
   "id": "61ae7e67",
   "metadata": {},
   "source": [
    "Basic syntax -----> [expression for item in iterable]\n",
    "\n",
    "Using if syntax -----> [expression for item in iterable if condition]\n",
    "\n",
    "Using if else syntax ----> [expression if condition else statement for item in iterable]"
   ]
  },
  {
   "cell_type": "code",
   "execution_count": null,
   "id": "64d30342",
   "metadata": {},
   "outputs": [],
   "source": []
  },
  {
   "cell_type": "markdown",
   "id": "0265e954",
   "metadata": {},
   "source": [
    "#### without using list comprehension example"
   ]
  },
  {
   "cell_type": "code",
   "execution_count": 1,
   "id": "a192442a",
   "metadata": {},
   "outputs": [
    {
     "name": "stdout",
     "output_type": "stream",
     "text": [
      "['apple', 'orange', 'banana']\n"
     ]
    }
   ],
   "source": [
    "newlist =[] #empty list\n",
    "\n",
    "\n",
    "old_list =[\"apple\",\"orange\",\"banana\",\"cherry\"]\n",
    "\n",
    "for i in old_list:\n",
    "    if \"a\" in i:\n",
    "        newlist.append(i)\n",
    "print(newlist)   "
   ]
  },
  {
   "cell_type": "code",
   "execution_count": null,
   "id": "5f01bcc0",
   "metadata": {},
   "outputs": [],
   "source": []
  },
  {
   "cell_type": "markdown",
   "id": "456a1c22",
   "metadata": {},
   "source": [
    "#### with list comprehension example"
   ]
  },
  {
   "cell_type": "raw",
   "id": "7a102d68",
   "metadata": {},
   "source": [
    "# syntax\n",
    "\n",
    "[expression for item in iterable if condition]"
   ]
  },
  {
   "cell_type": "code",
   "execution_count": null,
   "id": "00d796dc",
   "metadata": {},
   "outputs": [],
   "source": []
  },
  {
   "cell_type": "code",
   "execution_count": 2,
   "id": "913dd394",
   "metadata": {},
   "outputs": [
    {
     "data": {
      "text/plain": [
       "['apple', 'orange', 'banana']"
      ]
     },
     "execution_count": 2,
     "metadata": {},
     "output_type": "execute_result"
    }
   ],
   "source": [
    "# example\n",
    "\n",
    "list1 =[\"apple\",\"orange\",\"banana\",\"cherry\"]\n",
    "\n",
    "\n",
    "[j for j in list1 if \"a\" in j]"
   ]
  },
  {
   "cell_type": "markdown",
   "id": "fd54ec45",
   "metadata": {},
   "source": [
    "### example2"
   ]
  },
  {
   "cell_type": "raw",
   "id": "635aacf9",
   "metadata": {},
   "source": [
    "Basic syntax -----> [expression for item in iterable]\n"
   ]
  },
  {
   "cell_type": "code",
   "execution_count": 3,
   "id": "d9ee850b",
   "metadata": {},
   "outputs": [
    {
     "data": {
      "text/plain": [
       "[1, 2, 3, 4, 5, 6, 7, 8, 9, 10]"
      ]
     },
     "execution_count": 3,
     "metadata": {},
     "output_type": "execute_result"
    }
   ],
   "source": [
    "# example\n",
    "\n",
    "[k for k in range(1,11)]"
   ]
  },
  {
   "cell_type": "code",
   "execution_count": null,
   "id": "d434e7bb",
   "metadata": {},
   "outputs": [],
   "source": []
  },
  {
   "cell_type": "code",
   "execution_count": null,
   "id": "2267dd4d",
   "metadata": {},
   "outputs": [],
   "source": []
  },
  {
   "cell_type": "markdown",
   "id": "2de6265d",
   "metadata": {},
   "source": [
    "### example3"
   ]
  },
  {
   "cell_type": "raw",
   "id": "4eabb1c0",
   "metadata": {},
   "source": [
    "Using if else syntax ----> [expression if condition else statement for item in iterable]"
   ]
  },
  {
   "cell_type": "code",
   "execution_count": 4,
   "id": "1194aeda",
   "metadata": {},
   "outputs": [
    {
     "data": {
      "text/plain": [
       "[1, 2, 3, 4, 5, 6, 7, 8, 9, 10]"
      ]
     },
     "execution_count": 4,
     "metadata": {},
     "output_type": "execute_result"
    }
   ],
   "source": [
    "# example\n",
    "\n",
    "\n",
    "lst = [1,2,3,4,5,6,7,8,9,10]\n",
    "\n",
    "\n",
    "lst"
   ]
  },
  {
   "cell_type": "code",
   "execution_count": null,
   "id": "76a4138a",
   "metadata": {},
   "outputs": [],
   "source": []
  },
  {
   "cell_type": "code",
   "execution_count": 7,
   "id": "e8abe7be",
   "metadata": {},
   "outputs": [
    {
     "data": {
      "text/plain": [
       "[3, 2, 5, 4, 7, 6, 9, 8, 11, 10]"
      ]
     },
     "execution_count": 7,
     "metadata": {},
     "output_type": "execute_result"
    }
   ],
   "source": [
    "[v if v%2==0 else v+2 for v in lst]"
   ]
  },
  {
   "cell_type": "code",
   "execution_count": null,
   "id": "472a4917",
   "metadata": {},
   "outputs": [],
   "source": []
  },
  {
   "cell_type": "code",
   "execution_count": null,
   "id": "86574593",
   "metadata": {},
   "outputs": [],
   "source": []
  },
  {
   "cell_type": "code",
   "execution_count": 4,
   "id": "93aacc89",
   "metadata": {},
   "outputs": [],
   "source": [
    "#+++++++++++++++++++++++++++++++++++++++++++++++++++++++++++++++++++++++++++++++++++++++++++++++++++++++++++++++"
   ]
  },
  {
   "cell_type": "code",
   "execution_count": null,
   "id": "8bfce9da",
   "metadata": {},
   "outputs": [],
   "source": []
  },
  {
   "cell_type": "code",
   "execution_count": null,
   "id": "590b7164",
   "metadata": {},
   "outputs": [],
   "source": []
  },
  {
   "cell_type": "code",
   "execution_count": null,
   "id": "7bac55dc",
   "metadata": {},
   "outputs": [],
   "source": []
  },
  {
   "cell_type": "code",
   "execution_count": null,
   "id": "0eb647fc",
   "metadata": {},
   "outputs": [],
   "source": []
  },
  {
   "cell_type": "markdown",
   "id": "540ad362",
   "metadata": {},
   "source": [
    "# Numpy Introduction"
   ]
  },
  {
   "cell_type": "markdown",
   "id": "2869033b",
   "metadata": {},
   "source": [
    "- NumPy is a Python library created in 2005 that performs numerical calculations. It is generally used for working with arrays.\n",
    "\n",
    "- NumPy also includes a wide range of mathematical functions, such as linear algebra, Fourier transforms, and random number generation, which can be applied to arrays."
   ]
  },
  {
   "cell_type": "markdown",
   "id": "a5710e4e",
   "metadata": {},
   "source": [
    "### What is NumPy Used for?"
   ]
  },
  {
   "cell_type": "markdown",
   "id": "f30bf782",
   "metadata": {},
   "source": [
    "- Machine Learning\n",
    "- Data Science\n",
    "- Image and Signal Processing\n",
    "- Scientific Computing"
   ]
  },
  {
   "cell_type": "markdown",
   "id": "ab44f112",
   "metadata": {},
   "source": [
    "#### import library"
   ]
  },
  {
   "cell_type": "code",
   "execution_count": 8,
   "id": "24225f7d",
   "metadata": {},
   "outputs": [],
   "source": [
    "import numpy as np"
   ]
  },
  {
   "cell_type": "code",
   "execution_count": null,
   "id": "9e743791",
   "metadata": {},
   "outputs": [],
   "source": []
  },
  {
   "cell_type": "code",
   "execution_count": 9,
   "id": "7dd8527c",
   "metadata": {},
   "outputs": [
    {
     "data": {
      "text/plain": [
       "array([1, 2, 3, 4, 5])"
      ]
     },
     "execution_count": 9,
     "metadata": {},
     "output_type": "execute_result"
    }
   ],
   "source": [
    "a = np.array([1,2,3,4,5])\n",
    "\n",
    "a"
   ]
  },
  {
   "cell_type": "code",
   "execution_count": null,
   "id": "0be8cc68",
   "metadata": {},
   "outputs": [],
   "source": []
  },
  {
   "cell_type": "code",
   "execution_count": 10,
   "id": "d6c96827",
   "metadata": {},
   "outputs": [
    {
     "data": {
      "text/plain": [
       "numpy.ndarray"
      ]
     },
     "execution_count": 10,
     "metadata": {},
     "output_type": "execute_result"
    }
   ],
   "source": [
    "type(a)"
   ]
  },
  {
   "cell_type": "code",
   "execution_count": null,
   "id": "58ae9897",
   "metadata": {},
   "outputs": [],
   "source": []
  },
  {
   "cell_type": "markdown",
   "id": "3b6eafbe",
   "metadata": {},
   "source": [
    "#### check dimension"
   ]
  },
  {
   "cell_type": "code",
   "execution_count": null,
   "id": "ade14b06",
   "metadata": {},
   "outputs": [],
   "source": [
    "#syntax\n",
    "\n",
    "np.ndim(variable_name)"
   ]
  },
  {
   "cell_type": "code",
   "execution_count": null,
   "id": "1edd8d2f",
   "metadata": {},
   "outputs": [],
   "source": []
  },
  {
   "cell_type": "code",
   "execution_count": 11,
   "id": "25be71e4",
   "metadata": {},
   "outputs": [
    {
     "data": {
      "text/plain": [
       "1"
      ]
     },
     "execution_count": 11,
     "metadata": {},
     "output_type": "execute_result"
    }
   ],
   "source": [
    "#example\n",
    "\n",
    "np.ndim(a)"
   ]
  },
  {
   "cell_type": "code",
   "execution_count": null,
   "id": "6396ae21",
   "metadata": {},
   "outputs": [],
   "source": []
  },
  {
   "cell_type": "code",
   "execution_count": 12,
   "id": "0310e4b3",
   "metadata": {},
   "outputs": [
    {
     "data": {
      "text/plain": [
       "array([[[10]]])"
      ]
     },
     "execution_count": 12,
     "metadata": {},
     "output_type": "execute_result"
    }
   ],
   "source": [
    "a2 =np.array([[[10]]])\n",
    "\n",
    "a2"
   ]
  },
  {
   "cell_type": "code",
   "execution_count": 13,
   "id": "c6b40bd6",
   "metadata": {},
   "outputs": [
    {
     "data": {
      "text/plain": [
       "3"
      ]
     },
     "execution_count": 13,
     "metadata": {},
     "output_type": "execute_result"
    }
   ],
   "source": [
    "np.ndim(a2)"
   ]
  },
  {
   "cell_type": "code",
   "execution_count": null,
   "id": "9e3998a8",
   "metadata": {},
   "outputs": [],
   "source": []
  },
  {
   "cell_type": "markdown",
   "id": "ec7bf77b",
   "metadata": {},
   "source": [
    "#### indexing"
   ]
  },
  {
   "cell_type": "code",
   "execution_count": 14,
   "id": "e4b35b4b",
   "metadata": {},
   "outputs": [
    {
     "data": {
      "text/plain": [
       "array([1, 2, 3, 4, 5])"
      ]
     },
     "execution_count": 14,
     "metadata": {},
     "output_type": "execute_result"
    }
   ],
   "source": [
    "a"
   ]
  },
  {
   "cell_type": "code",
   "execution_count": 16,
   "id": "4cc33604",
   "metadata": {},
   "outputs": [
    {
     "data": {
      "text/plain": [
       "3"
      ]
     },
     "execution_count": 16,
     "metadata": {},
     "output_type": "execute_result"
    }
   ],
   "source": [
    "a[2]"
   ]
  },
  {
   "cell_type": "markdown",
   "id": "cd75aa4b",
   "metadata": {},
   "source": [
    "#### slicing"
   ]
  },
  {
   "cell_type": "code",
   "execution_count": 19,
   "id": "b8d53b2e",
   "metadata": {},
   "outputs": [
    {
     "data": {
      "text/plain": [
       "array([2, 4])"
      ]
     },
     "execution_count": 19,
     "metadata": {},
     "output_type": "execute_result"
    }
   ],
   "source": [
    "a[1:4:2]"
   ]
  },
  {
   "cell_type": "code",
   "execution_count": null,
   "id": "8ba720c1",
   "metadata": {},
   "outputs": [],
   "source": []
  },
  {
   "cell_type": "code",
   "execution_count": null,
   "id": "3b34c37d",
   "metadata": {},
   "outputs": [],
   "source": []
  },
  {
   "cell_type": "markdown",
   "id": "f61988a1",
   "metadata": {},
   "source": [
    "### Array creation"
   ]
  },
  {
   "cell_type": "markdown",
   "id": "b0be1b07",
   "metadata": {},
   "source": [
    "- 0_D array\n",
    "- 1_D array\n",
    "- 2_D array\n",
    "- 3_D array"
   ]
  },
  {
   "cell_type": "code",
   "execution_count": null,
   "id": "6a89acff",
   "metadata": {},
   "outputs": [],
   "source": []
  },
  {
   "cell_type": "markdown",
   "id": "b8648a30",
   "metadata": {},
   "source": [
    "### 0 dimension array"
   ]
  },
  {
   "cell_type": "code",
   "execution_count": 20,
   "id": "102213c5",
   "metadata": {},
   "outputs": [
    {
     "data": {
      "text/plain": [
       "array(80)"
      ]
     },
     "execution_count": 20,
     "metadata": {},
     "output_type": "execute_result"
    }
   ],
   "source": [
    "arr1 =np.array(80)\n",
    "\n",
    "arr1"
   ]
  },
  {
   "cell_type": "code",
   "execution_count": 21,
   "id": "6ac300d2",
   "metadata": {},
   "outputs": [
    {
     "data": {
      "text/plain": [
       "0"
      ]
     },
     "execution_count": 21,
     "metadata": {},
     "output_type": "execute_result"
    }
   ],
   "source": [
    "np.ndim(arr1)"
   ]
  },
  {
   "cell_type": "code",
   "execution_count": null,
   "id": "5e720b85",
   "metadata": {},
   "outputs": [],
   "source": []
  },
  {
   "cell_type": "markdown",
   "id": "caaf7069",
   "metadata": {},
   "source": [
    "### 1 dimensional array"
   ]
  },
  {
   "cell_type": "code",
   "execution_count": 22,
   "id": "3acb4f1f",
   "metadata": {},
   "outputs": [
    {
     "data": {
      "text/plain": [
       "array([10, 20, 30, 40])"
      ]
     },
     "execution_count": 22,
     "metadata": {},
     "output_type": "execute_result"
    }
   ],
   "source": [
    "arr2 = np.array([10,20,30,40])\n",
    "\n",
    "arr2"
   ]
  },
  {
   "cell_type": "code",
   "execution_count": null,
   "id": "6c2e5aa6",
   "metadata": {},
   "outputs": [],
   "source": []
  },
  {
   "cell_type": "markdown",
   "id": "a8f47c4a",
   "metadata": {},
   "source": [
    "### 2 dimensional array"
   ]
  },
  {
   "cell_type": "code",
   "execution_count": 23,
   "id": "7f7d2972",
   "metadata": {},
   "outputs": [
    {
     "data": {
      "text/plain": [
       "array([[1, 2, 3, 4],\n",
       "       [5, 6, 7, 8]])"
      ]
     },
     "execution_count": 23,
     "metadata": {},
     "output_type": "execute_result"
    }
   ],
   "source": [
    "arr3 =np.array([[1,2,3,4],[5,6,7,8]])\n",
    "\n",
    "arr3"
   ]
  },
  {
   "cell_type": "code",
   "execution_count": 24,
   "id": "8a54c42e",
   "metadata": {},
   "outputs": [
    {
     "data": {
      "text/plain": [
       "2"
      ]
     },
     "execution_count": 24,
     "metadata": {},
     "output_type": "execute_result"
    }
   ],
   "source": [
    "np.ndim(arr3)"
   ]
  },
  {
   "cell_type": "code",
   "execution_count": 25,
   "id": "332402cc",
   "metadata": {},
   "outputs": [],
   "source": [
    "########"
   ]
  },
  {
   "cell_type": "code",
   "execution_count": null,
   "id": "4ffb4734",
   "metadata": {},
   "outputs": [],
   "source": []
  },
  {
   "cell_type": "markdown",
   "id": "34ff20bd",
   "metadata": {},
   "source": [
    "### arange()"
   ]
  },
  {
   "cell_type": "raw",
   "id": "e9d2184d",
   "metadata": {},
   "source": [
    "The np.arange() function returns an array with values within a specified interval."
   ]
  },
  {
   "cell_type": "code",
   "execution_count": null,
   "id": "23a988fc",
   "metadata": {},
   "outputs": [],
   "source": []
  },
  {
   "cell_type": "markdown",
   "id": "371406ba",
   "metadata": {},
   "source": [
    "#### syntax"
   ]
  },
  {
   "cell_type": "raw",
   "id": "ded9ff89",
   "metadata": {},
   "source": [
    "np.arange(start,end,step)"
   ]
  },
  {
   "cell_type": "markdown",
   "id": "a9788842",
   "metadata": {},
   "source": [
    "#### example"
   ]
  },
  {
   "cell_type": "code",
   "execution_count": 31,
   "id": "79c0cd08",
   "metadata": {},
   "outputs": [
    {
     "data": {
      "text/plain": [
       "array([ 1,  2,  3,  4,  5,  6,  7,  8,  9, 10, 11, 12, 13, 14, 15, 16, 17,\n",
       "       18, 19, 20, 21, 22, 23, 24, 25, 26, 27, 28, 29, 30, 31, 32, 33, 34,\n",
       "       35, 36, 37, 38, 39, 40, 41, 42, 43, 44, 45, 46, 47, 48, 49, 50])"
      ]
     },
     "execution_count": 31,
     "metadata": {},
     "output_type": "execute_result"
    }
   ],
   "source": [
    "np.arange(1,51)"
   ]
  },
  {
   "cell_type": "code",
   "execution_count": null,
   "id": "50d69370",
   "metadata": {},
   "outputs": [],
   "source": []
  },
  {
   "cell_type": "code",
   "execution_count": null,
   "id": "3c7a2367",
   "metadata": {},
   "outputs": [],
   "source": []
  },
  {
   "cell_type": "code",
   "execution_count": null,
   "id": "69ee4875",
   "metadata": {},
   "outputs": [],
   "source": []
  },
  {
   "cell_type": "code",
   "execution_count": null,
   "id": "85ddd886",
   "metadata": {},
   "outputs": [],
   "source": []
  },
  {
   "cell_type": "markdown",
   "id": "820b5a3e",
   "metadata": {},
   "source": [
    "### reshape()"
   ]
  },
  {
   "cell_type": "raw",
   "id": "27980348",
   "metadata": {},
   "source": [
    "The reshape() function in NumPy allows you to change the shape of a NumPy array while preserving its data, effectively rearranging its elements according to a specified new shape."
   ]
  },
  {
   "cell_type": "markdown",
   "id": "f2195b04",
   "metadata": {},
   "source": [
    "#### syntax"
   ]
  },
  {
   "cell_type": "raw",
   "id": "be491bae",
   "metadata": {},
   "source": [
    "np.arange(values).reshape(row,col)"
   ]
  },
  {
   "cell_type": "markdown",
   "id": "ee2b4eec",
   "metadata": {},
   "source": [
    "#### example"
   ]
  },
  {
   "cell_type": "code",
   "execution_count": 38,
   "id": "9a40524b",
   "metadata": {},
   "outputs": [
    {
     "data": {
      "text/plain": [
       "array([ 1,  2,  3,  4,  5,  6,  7,  8,  9, 10])"
      ]
     },
     "execution_count": 38,
     "metadata": {},
     "output_type": "execute_result"
    }
   ],
   "source": [
    "np.arange(1,11)"
   ]
  },
  {
   "cell_type": "code",
   "execution_count": 39,
   "id": "03bd669c",
   "metadata": {},
   "outputs": [
    {
     "data": {
      "text/plain": [
       "array([[ 1,  2],\n",
       "       [ 3,  4],\n",
       "       [ 5,  6],\n",
       "       [ 7,  8],\n",
       "       [ 9, 10]])"
      ]
     },
     "execution_count": 39,
     "metadata": {},
     "output_type": "execute_result"
    }
   ],
   "source": [
    "np.arange(1,11).reshape(5,2)"
   ]
  },
  {
   "cell_type": "code",
   "execution_count": null,
   "id": "528b9334",
   "metadata": {},
   "outputs": [],
   "source": []
  },
  {
   "cell_type": "code",
   "execution_count": 35,
   "id": "f43a93cf",
   "metadata": {},
   "outputs": [
    {
     "data": {
      "text/plain": [
       "array([[ 1,  2,  3,  4,  5],\n",
       "       [ 6,  7,  8,  9, 10]])"
      ]
     },
     "execution_count": 35,
     "metadata": {},
     "output_type": "execute_result"
    }
   ],
   "source": [
    "np.arange(1,11).reshape(2,5)"
   ]
  },
  {
   "cell_type": "code",
   "execution_count": null,
   "id": "5b2325e1",
   "metadata": {},
   "outputs": [],
   "source": []
  },
  {
   "cell_type": "code",
   "execution_count": 37,
   "id": "f76cb4de",
   "metadata": {},
   "outputs": [
    {
     "data": {
      "text/plain": [
       "array([[ 1,  2,  3,  4,  5],\n",
       "       [ 6,  7,  8,  9, 10],\n",
       "       [11, 12, 13, 14, 15],\n",
       "       [16, 17, 18, 19, 20]])"
      ]
     },
     "execution_count": 37,
     "metadata": {},
     "output_type": "execute_result"
    }
   ],
   "source": [
    "np.arange(1,21).reshape(4,5)"
   ]
  },
  {
   "cell_type": "code",
   "execution_count": null,
   "id": "f1e4a362",
   "metadata": {},
   "outputs": [],
   "source": []
  },
  {
   "cell_type": "code",
   "execution_count": null,
   "id": "1b12233d",
   "metadata": {},
   "outputs": [],
   "source": []
  },
  {
   "cell_type": "markdown",
   "id": "126cbe53",
   "metadata": {},
   "source": [
    "### Array creation using zeros"
   ]
  },
  {
   "cell_type": "markdown",
   "id": "249661c2",
   "metadata": {},
   "source": [
    "### zeros()"
   ]
  },
  {
   "cell_type": "markdown",
   "id": "f56d39e8",
   "metadata": {},
   "source": [
    "#### syntax"
   ]
  },
  {
   "cell_type": "raw",
   "id": "64c39659",
   "metadata": {},
   "source": [
    "np.zeros()\n",
    "\n",
    "np.zeros((row,col))   # reshaping"
   ]
  },
  {
   "cell_type": "markdown",
   "id": "03cd6a77",
   "metadata": {},
   "source": [
    "#### example"
   ]
  },
  {
   "cell_type": "code",
   "execution_count": 40,
   "id": "669455ca",
   "metadata": {},
   "outputs": [
    {
     "data": {
      "text/plain": [
       "array([[0., 0., 0., 0., 0., 0., 0., 0.],\n",
       "       [0., 0., 0., 0., 0., 0., 0., 0.],\n",
       "       [0., 0., 0., 0., 0., 0., 0., 0.],\n",
       "       [0., 0., 0., 0., 0., 0., 0., 0.],\n",
       "       [0., 0., 0., 0., 0., 0., 0., 0.]])"
      ]
     },
     "execution_count": 40,
     "metadata": {},
     "output_type": "execute_result"
    }
   ],
   "source": [
    "np.zeros((5,8))"
   ]
  },
  {
   "cell_type": "code",
   "execution_count": null,
   "id": "735205bc",
   "metadata": {},
   "outputs": [],
   "source": []
  },
  {
   "cell_type": "code",
   "execution_count": 43,
   "id": "0b950ede",
   "metadata": {},
   "outputs": [
    {
     "data": {
      "text/plain": [
       "array([[0, 0, 0, 0, 0, 0, 0, 0],\n",
       "       [0, 0, 0, 0, 0, 0, 0, 0],\n",
       "       [0, 0, 0, 0, 0, 0, 0, 0],\n",
       "       [0, 0, 0, 0, 0, 0, 0, 0],\n",
       "       [0, 0, 0, 0, 0, 0, 0, 0]])"
      ]
     },
     "execution_count": 43,
     "metadata": {},
     "output_type": "execute_result"
    }
   ],
   "source": [
    "np.zeros((5,8),dtype=int)"
   ]
  },
  {
   "cell_type": "code",
   "execution_count": null,
   "id": "abbfd797",
   "metadata": {},
   "outputs": [],
   "source": []
  },
  {
   "cell_type": "markdown",
   "id": "bfb9744a",
   "metadata": {},
   "source": [
    "### ones"
   ]
  },
  {
   "cell_type": "code",
   "execution_count": null,
   "id": "2eae393a",
   "metadata": {},
   "outputs": [],
   "source": [
    "np.ones()\n",
    "\n",
    "np.ones((row,col))"
   ]
  },
  {
   "cell_type": "markdown",
   "id": "0e7d74b9",
   "metadata": {},
   "source": [
    "#### example"
   ]
  },
  {
   "cell_type": "code",
   "execution_count": 44,
   "id": "b9b2a74e",
   "metadata": {},
   "outputs": [
    {
     "data": {
      "text/plain": [
       "array([[1., 1., 1., 1., 1., 1., 1., 1.],\n",
       "       [1., 1., 1., 1., 1., 1., 1., 1.],\n",
       "       [1., 1., 1., 1., 1., 1., 1., 1.],\n",
       "       [1., 1., 1., 1., 1., 1., 1., 1.],\n",
       "       [1., 1., 1., 1., 1., 1., 1., 1.]])"
      ]
     },
     "execution_count": 44,
     "metadata": {},
     "output_type": "execute_result"
    }
   ],
   "source": [
    "np.ones((5,8))"
   ]
  },
  {
   "cell_type": "code",
   "execution_count": null,
   "id": "7658b9a8",
   "metadata": {},
   "outputs": [],
   "source": []
  },
  {
   "cell_type": "code",
   "execution_count": 45,
   "id": "b4c62372",
   "metadata": {},
   "outputs": [
    {
     "data": {
      "text/plain": [
       "array([[1, 1, 1, 1, 1, 1, 1, 1],\n",
       "       [1, 1, 1, 1, 1, 1, 1, 1],\n",
       "       [1, 1, 1, 1, 1, 1, 1, 1],\n",
       "       [1, 1, 1, 1, 1, 1, 1, 1],\n",
       "       [1, 1, 1, 1, 1, 1, 1, 1]])"
      ]
     },
     "execution_count": 45,
     "metadata": {},
     "output_type": "execute_result"
    }
   ],
   "source": [
    "np.ones((5,8),int)"
   ]
  },
  {
   "cell_type": "code",
   "execution_count": 46,
   "id": "c1a4f6e4",
   "metadata": {},
   "outputs": [
    {
     "data": {
      "text/plain": [
       "array([[ True,  True,  True,  True,  True,  True,  True,  True],\n",
       "       [ True,  True,  True,  True,  True,  True,  True,  True],\n",
       "       [ True,  True,  True,  True,  True,  True,  True,  True],\n",
       "       [ True,  True,  True,  True,  True,  True,  True,  True],\n",
       "       [ True,  True,  True,  True,  True,  True,  True,  True]])"
      ]
     },
     "execution_count": 46,
     "metadata": {},
     "output_type": "execute_result"
    }
   ],
   "source": [
    "np.ones((5,8),bool)"
   ]
  },
  {
   "cell_type": "code",
   "execution_count": null,
   "id": "71809459",
   "metadata": {},
   "outputs": [],
   "source": []
  },
  {
   "cell_type": "markdown",
   "id": "947b0b92",
   "metadata": {},
   "source": [
    "### full"
   ]
  },
  {
   "cell_type": "code",
   "execution_count": null,
   "id": "af10969b",
   "metadata": {},
   "outputs": [],
   "source": [
    "# syntax\n",
    "\n",
    "np.full((row,col),value)"
   ]
  },
  {
   "cell_type": "code",
   "execution_count": null,
   "id": "238e8773",
   "metadata": {},
   "outputs": [],
   "source": []
  },
  {
   "cell_type": "code",
   "execution_count": 51,
   "id": "126b8d2c",
   "metadata": {},
   "outputs": [
    {
     "data": {
      "text/plain": [
       "array([[20, 20, 20, 20, 20, 20, 20, 20],\n",
       "       [20, 20, 20, 20, 20, 20, 20, 20],\n",
       "       [20, 20, 20, 20, 20, 20, 20, 20],\n",
       "       [20, 20, 20, 20, 20, 20, 20, 20],\n",
       "       [20, 20, 20, 20, 20, 20, 20, 20]])"
      ]
     },
     "execution_count": 51,
     "metadata": {},
     "output_type": "execute_result"
    }
   ],
   "source": [
    "# example\n",
    "\n",
    "np.full((5,8),20)"
   ]
  },
  {
   "cell_type": "code",
   "execution_count": 52,
   "id": "68ddfc35",
   "metadata": {},
   "outputs": [],
   "source": [
    "#########################################################################"
   ]
  },
  {
   "cell_type": "code",
   "execution_count": null,
   "id": "e66f03a5",
   "metadata": {},
   "outputs": [],
   "source": []
  },
  {
   "cell_type": "markdown",
   "id": "613c797d",
   "metadata": {},
   "source": [
    "## Random Module"
   ]
  },
  {
   "cell_type": "raw",
   "id": "c8803b1e",
   "metadata": {},
   "source": [
    "Python Random module is an in-built module of Python which is used to generate random numbers."
   ]
  },
  {
   "cell_type": "markdown",
   "id": "b93aa69c",
   "metadata": {},
   "source": [
    "- randrange()\n",
    "- randint()\n",
    "- choice()\n",
    "- shuffle()\n",
    "- sample()\n",
    "- random()"
   ]
  },
  {
   "cell_type": "code",
   "execution_count": null,
   "id": "a5c1354c",
   "metadata": {},
   "outputs": [],
   "source": []
  },
  {
   "cell_type": "markdown",
   "id": "209426f2",
   "metadata": {},
   "source": [
    "#### import library"
   ]
  },
  {
   "cell_type": "code",
   "execution_count": 13,
   "id": "9f75b545",
   "metadata": {},
   "outputs": [],
   "source": [
    "import random as rd"
   ]
  },
  {
   "cell_type": "code",
   "execution_count": null,
   "id": "764b43a1",
   "metadata": {},
   "outputs": [],
   "source": []
  },
  {
   "cell_type": "markdown",
   "id": "7bc00fc1",
   "metadata": {},
   "source": [
    "### randrange()"
   ]
  },
  {
   "cell_type": "raw",
   "id": "568c5907",
   "metadata": {},
   "source": [
    "The randrange() method returns a randomly selected element from the specified range."
   ]
  },
  {
   "cell_type": "code",
   "execution_count": 64,
   "id": "b6414c2d",
   "metadata": {},
   "outputs": [
    {
     "name": "stdout",
     "output_type": "stream",
     "text": [
      "3\n"
     ]
    }
   ],
   "source": [
    "\n",
    "print(rd.randrange(3, 9))"
   ]
  },
  {
   "cell_type": "code",
   "execution_count": null,
   "id": "114a03f6",
   "metadata": {},
   "outputs": [],
   "source": []
  },
  {
   "cell_type": "markdown",
   "id": "252b8a5b",
   "metadata": {},
   "source": [
    "### randint()"
   ]
  },
  {
   "cell_type": "raw",
   "id": "11fcad38",
   "metadata": {},
   "source": [
    "The randint() method returns an integer number selected element from the specified range."
   ]
  },
  {
   "cell_type": "code",
   "execution_count": 69,
   "id": "f5784a5c",
   "metadata": {},
   "outputs": [
    {
     "name": "stdout",
     "output_type": "stream",
     "text": [
      "3\n"
     ]
    }
   ],
   "source": [
    "print(rd.randint(3, 9))  #end value include\n"
   ]
  },
  {
   "cell_type": "code",
   "execution_count": null,
   "id": "2cf1241c",
   "metadata": {},
   "outputs": [],
   "source": []
  },
  {
   "cell_type": "markdown",
   "id": "61154189",
   "metadata": {},
   "source": [
    "### choice()"
   ]
  },
  {
   "cell_type": "markdown",
   "id": "a6724096",
   "metadata": {},
   "source": [
    "- The choice() method returns a randomly selected element from the specified sequence.\n",
    "\n",
    "- The sequence can be a string, a range, a list, a tuple or any other kind of sequence."
   ]
  },
  {
   "cell_type": "code",
   "execution_count": 6,
   "id": "a5a2b7ca",
   "metadata": {},
   "outputs": [
    {
     "name": "stdout",
     "output_type": "stream",
     "text": [
      "apple\n"
     ]
    }
   ],
   "source": [
    "mylist = [\"apple\", \"banana\", \"cherry\"]\n",
    "\n",
    "print(rd.choice(mylist))"
   ]
  },
  {
   "cell_type": "code",
   "execution_count": null,
   "id": "e762ef2a",
   "metadata": {},
   "outputs": [],
   "source": []
  },
  {
   "cell_type": "code",
   "execution_count": null,
   "id": "4dba6519",
   "metadata": {},
   "outputs": [],
   "source": []
  },
  {
   "cell_type": "markdown",
   "id": "b6d0842b",
   "metadata": {},
   "source": [
    "### shuffle()"
   ]
  },
  {
   "cell_type": "raw",
   "id": "c7154738",
   "metadata": {},
   "source": [
    "Takes a sequence and returns the sequence in a random order"
   ]
  },
  {
   "cell_type": "code",
   "execution_count": 20,
   "id": "c3020ebc",
   "metadata": {},
   "outputs": [
    {
     "name": "stdout",
     "output_type": "stream",
     "text": [
      "['cherry', 'apple', 'banana']\n"
     ]
    }
   ],
   "source": [
    "m = [\"apple\", \"banana\", \"cherry\"]\n",
    "\n",
    "rd.shuffle(m)\n",
    "print(m)"
   ]
  },
  {
   "cell_type": "code",
   "execution_count": null,
   "id": "5415478b",
   "metadata": {},
   "outputs": [],
   "source": []
  },
  {
   "cell_type": "markdown",
   "id": "3b1a64ab",
   "metadata": {},
   "source": [
    "### sample()"
   ]
  },
  {
   "cell_type": "raw",
   "id": "ca1bb89f",
   "metadata": {},
   "source": [
    "The sample() method returns a list with a randomly selection of a specified number of items from a sequnce."
   ]
  },
  {
   "cell_type": "code",
   "execution_count": 27,
   "id": "e347a8e4",
   "metadata": {},
   "outputs": [
    {
     "name": "stdout",
     "output_type": "stream",
     "text": [
      "['apple', 'banana']\n"
     ]
    }
   ],
   "source": [
    "# example\n",
    "\n",
    "m1 = [\"apple\", \"banana\", \"cherry\"]\n",
    "\n",
    "print(rd.sample(m1,2))"
   ]
  },
  {
   "cell_type": "code",
   "execution_count": null,
   "id": "ef3d942d",
   "metadata": {},
   "outputs": [],
   "source": []
  },
  {
   "cell_type": "code",
   "execution_count": null,
   "id": "e829e796",
   "metadata": {},
   "outputs": [],
   "source": []
  },
  {
   "cell_type": "markdown",
   "id": "ed51df81",
   "metadata": {},
   "source": [
    "### random()"
   ]
  },
  {
   "cell_type": "raw",
   "id": "33042d27",
   "metadata": {},
   "source": [
    "The random() method returns a random floating number between 0 and 1."
   ]
  },
  {
   "cell_type": "code",
   "execution_count": 35,
   "id": "26e28427",
   "metadata": {},
   "outputs": [
    {
     "name": "stdout",
     "output_type": "stream",
     "text": [
      "0.10101958518746335\n"
     ]
    }
   ],
   "source": [
    "print(rd.random())"
   ]
  },
  {
   "cell_type": "code",
   "execution_count": null,
   "id": "59cf18eb",
   "metadata": {},
   "outputs": [],
   "source": []
  },
  {
   "cell_type": "code",
   "execution_count": 7,
   "id": "270046c8",
   "metadata": {},
   "outputs": [],
   "source": [
    "#+++++++++++++++++++++++++++++++++++++++++++++++++++++++++++++++++++++++++++++++++++++++++++++++++++++++++"
   ]
  },
  {
   "cell_type": "code",
   "execution_count": null,
   "id": "6d5c00d2",
   "metadata": {},
   "outputs": [],
   "source": []
  },
  {
   "cell_type": "markdown",
   "id": "0755e9f4",
   "metadata": {},
   "source": [
    "### Arithmetic Operations in Numpy"
   ]
  },
  {
   "cell_type": "markdown",
   "id": "8e555e8d",
   "metadata": {},
   "source": [
    "- add()\n",
    "- subtract()\n",
    "- multiply()\n",
    "- divide()"
   ]
  },
  {
   "cell_type": "code",
   "execution_count": null,
   "id": "ff18b69b",
   "metadata": {},
   "outputs": [],
   "source": []
  },
  {
   "cell_type": "code",
   "execution_count": null,
   "id": "92af7e40",
   "metadata": {},
   "outputs": [],
   "source": []
  },
  {
   "cell_type": "code",
   "execution_count": null,
   "id": "e714fa6b",
   "metadata": {},
   "outputs": [],
   "source": []
  },
  {
   "cell_type": "code",
   "execution_count": null,
   "id": "f6d4b0c2",
   "metadata": {},
   "outputs": [],
   "source": []
  },
  {
   "cell_type": "code",
   "execution_count": null,
   "id": "e436638f",
   "metadata": {},
   "outputs": [],
   "source": []
  },
  {
   "cell_type": "code",
   "execution_count": 2,
   "id": "b39c982c",
   "metadata": {},
   "outputs": [
    {
     "data": {
      "text/plain": [
       "750"
      ]
     },
     "execution_count": 2,
     "metadata": {},
     "output_type": "execute_result"
    }
   ],
   "source": [
    "50*15"
   ]
  },
  {
   "cell_type": "code",
   "execution_count": null,
   "id": "93226401",
   "metadata": {},
   "outputs": [],
   "source": []
  },
  {
   "cell_type": "code",
   "execution_count": null,
   "id": "6d741171",
   "metadata": {},
   "outputs": [],
   "source": []
  },
  {
   "cell_type": "code",
   "execution_count": null,
   "id": "064476b7",
   "metadata": {},
   "outputs": [],
   "source": []
  },
  {
   "cell_type": "code",
   "execution_count": null,
   "id": "1e1eb63b",
   "metadata": {},
   "outputs": [],
   "source": []
  },
  {
   "cell_type": "code",
   "execution_count": null,
   "id": "34822954",
   "metadata": {},
   "outputs": [],
   "source": []
  },
  {
   "cell_type": "code",
   "execution_count": null,
   "id": "282f4405",
   "metadata": {},
   "outputs": [],
   "source": []
  },
  {
   "cell_type": "code",
   "execution_count": null,
   "id": "fcce0ecc",
   "metadata": {},
   "outputs": [],
   "source": []
  },
  {
   "cell_type": "code",
   "execution_count": null,
   "id": "1407d2df",
   "metadata": {},
   "outputs": [],
   "source": []
  },
  {
   "cell_type": "code",
   "execution_count": null,
   "id": "eccd2e1d",
   "metadata": {},
   "outputs": [],
   "source": []
  },
  {
   "cell_type": "code",
   "execution_count": null,
   "id": "7794fdde",
   "metadata": {},
   "outputs": [],
   "source": []
  },
  {
   "cell_type": "code",
   "execution_count": null,
   "id": "3a1da07d",
   "metadata": {},
   "outputs": [],
   "source": []
  },
  {
   "cell_type": "code",
   "execution_count": null,
   "id": "25e025aa",
   "metadata": {},
   "outputs": [],
   "source": []
  },
  {
   "cell_type": "code",
   "execution_count": null,
   "id": "d7a73d0e",
   "metadata": {},
   "outputs": [],
   "source": []
  }
 ],
 "metadata": {
  "kernelspec": {
   "display_name": "Python 3 (ipykernel)",
   "language": "python",
   "name": "python3"
  },
  "language_info": {
   "codemirror_mode": {
    "name": "ipython",
    "version": 3
   },
   "file_extension": ".py",
   "mimetype": "text/x-python",
   "name": "python",
   "nbconvert_exporter": "python",
   "pygments_lexer": "ipython3",
   "version": "3.10.9"
  }
 },
 "nbformat": 4,
 "nbformat_minor": 5
}
