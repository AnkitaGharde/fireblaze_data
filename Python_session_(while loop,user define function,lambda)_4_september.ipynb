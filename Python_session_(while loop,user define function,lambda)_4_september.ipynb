{
 "cells": [
  {
   "cell_type": "code",
   "execution_count": null,
   "id": "5f47751e",
   "metadata": {},
   "outputs": [],
   "source": []
  },
  {
   "cell_type": "markdown",
   "id": "138ab491",
   "metadata": {},
   "source": [
    "- while loop\n",
    "- user define function\n",
    "- local variable and global variable\n",
    "- lambda function"
   ]
  },
  {
   "cell_type": "markdown",
   "id": "8a9e0eed",
   "metadata": {},
   "source": [
    "### while loop"
   ]
  },
  {
   "cell_type": "raw",
   "id": "acb4ab44",
   "metadata": {},
   "source": [
    "a while loop in Python is like a repeating action. You tell Python to keep doing something as long as a certain condition is true. When that condition becomes false, the loop stops."
   ]
  },
  {
   "cell_type": "code",
   "execution_count": null,
   "id": "d5c1b0ad",
   "metadata": {},
   "outputs": [],
   "source": []
  },
  {
   "cell_type": "markdown",
   "id": "c70e0b12",
   "metadata": {},
   "source": [
    "#### syntax"
   ]
  },
  {
   "cell_type": "raw",
   "id": "293fe079",
   "metadata": {},
   "source": [
    "initilization     # optional\n",
    "while condition:\n",
    "    statements"
   ]
  },
  {
   "cell_type": "code",
   "execution_count": null,
   "id": "5a5ab9a9",
   "metadata": {},
   "outputs": [],
   "source": []
  },
  {
   "cell_type": "code",
   "execution_count": null,
   "id": "8656dfe6",
   "metadata": {},
   "outputs": [],
   "source": [
    "# operator = input(''' select an operator :1=+\n",
    "# 2=-\n",
    "# 3=*\n",
    "# 4=/\n",
    "# 5=quit''')\n",
    "\n",
    "\n",
    "# while operator !='5':\n",
    "#     num1 =int(input('Enter first number :'))\n",
    "#     num2 = int(input('Enter second number :'))\n",
    "    \n",
    "#     if operator=='1':\n",
    "#         result =num1+num2\n",
    "\n",
    "#     elif operator == '2':\n",
    "#         result = num1 - num2\n",
    "        \n",
    "#     elif operator =='3':\n",
    "#         result =num1*num2\n",
    "        \n",
    "#     elif operator =='4':\n",
    "#         result =num1/num2\n",
    "        \n",
    "#     elif operator=='5':\n",
    "#         break\n",
    "#     print(result)\n",
    "#     break      \n",
    "    \n",
    "# print('Thank you')    \n"
   ]
  },
  {
   "cell_type": "code",
   "execution_count": null,
   "id": "1f46789c",
   "metadata": {},
   "outputs": [],
   "source": []
  },
  {
   "cell_type": "code",
   "execution_count": null,
   "id": "d490e972",
   "metadata": {},
   "outputs": [],
   "source": []
  },
  {
   "cell_type": "markdown",
   "id": "cfbf971d",
   "metadata": {},
   "source": [
    "### What is function?"
   ]
  },
  {
   "cell_type": "raw",
   "id": "01b53370",
   "metadata": {},
   "source": [
    "A function is a block of code which only runs when it is called. You can pass data, known as parameters, into a function. A function can return data as a result."
   ]
  },
  {
   "cell_type": "code",
   "execution_count": null,
   "id": "38ad2ea9",
   "metadata": {},
   "outputs": [],
   "source": []
  },
  {
   "cell_type": "markdown",
   "id": "a49192fb",
   "metadata": {},
   "source": [
    "### Types of function"
   ]
  },
  {
   "cell_type": "raw",
   "id": "78d32a29",
   "metadata": {},
   "source": [
    "- Built-in Function\n",
    "- User-Defined Function"
   ]
  },
  {
   "cell_type": "code",
   "execution_count": null,
   "id": "2dbe4c60",
   "metadata": {},
   "outputs": [],
   "source": []
  },
  {
   "cell_type": "markdown",
   "id": "f1013ef5",
   "metadata": {},
   "source": [
    "#### Built-in Function"
   ]
  },
  {
   "cell_type": "raw",
   "id": "e657f332",
   "metadata": {},
   "source": [
    "- print()\n",
    "- len()\n",
    "- range()\n",
    "- type()"
   ]
  },
  {
   "cell_type": "markdown",
   "id": "fd6af500",
   "metadata": {},
   "source": []
  },
  {
   "cell_type": "code",
   "execution_count": null,
   "id": "f9809ba9",
   "metadata": {},
   "outputs": [],
   "source": []
  },
  {
   "cell_type": "markdown",
   "id": "a0ce9121",
   "metadata": {},
   "source": [
    "### user define function"
   ]
  },
  {
   "cell_type": "raw",
   "id": "078d288d",
   "metadata": {},
   "source": [
    "These are functions that you create yourself to perform specific tasks. You define these functions using the def keyword, followed by the function name, parameter list, and a block of code."
   ]
  },
  {
   "cell_type": "code",
   "execution_count": null,
   "id": "6f69a2b4",
   "metadata": {},
   "outputs": [],
   "source": []
  },
  {
   "cell_type": "markdown",
   "id": "8eb3dd1a",
   "metadata": {},
   "source": [
    "#### User define function allows you to define functions according to your need.These fuctions are known as user-defined function."
   ]
  },
  {
   "cell_type": "markdown",
   "id": "348b2f9e",
   "metadata": {},
   "source": [
    "#### Writing user defined functions in python"
   ]
  },
  {
   "cell_type": "markdown",
   "id": "05e5c77e",
   "metadata": {},
   "source": [
    "- step1:- Declare the function with the keyword def followed by the function name.\n",
    "- step2:- Write the arguments inside the opening and closing parenthesis of the function, and end the declaration with a colon.\n",
    "- step3:-Add the program statements to be executed."
   ]
  },
  {
   "cell_type": "code",
   "execution_count": null,
   "id": "ebf29c1e",
   "metadata": {},
   "outputs": [],
   "source": []
  },
  {
   "cell_type": "markdown",
   "id": "3b4a86e9",
   "metadata": {},
   "source": [
    "#### Syntax"
   ]
  },
  {
   "cell_type": "raw",
   "id": "cc9d2a75",
   "metadata": {},
   "source": [
    "def function_name(argument1,argument2,argument3):\n",
    "    statement1 \n",
    "    statement2\n",
    "    ......\n",
    "    \n",
    "    return"
   ]
  },
  {
   "cell_type": "code",
   "execution_count": null,
   "id": "2d659776",
   "metadata": {},
   "outputs": [],
   "source": []
  },
  {
   "cell_type": "markdown",
   "id": "b4873054",
   "metadata": {},
   "source": [
    "#### function with no argument"
   ]
  },
  {
   "cell_type": "code",
   "execution_count": null,
   "id": "1bc804f4",
   "metadata": {},
   "outputs": [],
   "source": []
  },
  {
   "cell_type": "code",
   "execution_count": null,
   "id": "124a0211",
   "metadata": {},
   "outputs": [],
   "source": []
  },
  {
   "cell_type": "code",
   "execution_count": null,
   "id": "5e593439",
   "metadata": {},
   "outputs": [],
   "source": []
  },
  {
   "cell_type": "markdown",
   "id": "5f59338d",
   "metadata": {},
   "source": [
    "#### function with one argument"
   ]
  },
  {
   "cell_type": "code",
   "execution_count": null,
   "id": "5435d6e0",
   "metadata": {},
   "outputs": [],
   "source": []
  },
  {
   "cell_type": "code",
   "execution_count": null,
   "id": "8ea58269",
   "metadata": {},
   "outputs": [],
   "source": []
  },
  {
   "cell_type": "code",
   "execution_count": null,
   "id": "694510ee",
   "metadata": {},
   "outputs": [],
   "source": []
  },
  {
   "cell_type": "markdown",
   "id": "08f1a9a4",
   "metadata": {},
   "source": [
    "#### function with more than one argument"
   ]
  },
  {
   "cell_type": "code",
   "execution_count": null,
   "id": "00c2c692",
   "metadata": {},
   "outputs": [],
   "source": []
  },
  {
   "cell_type": "code",
   "execution_count": null,
   "id": "cc7050a6",
   "metadata": {},
   "outputs": [],
   "source": []
  },
  {
   "cell_type": "markdown",
   "id": "08d1ba7e",
   "metadata": {},
   "source": [
    "#### function with return type"
   ]
  },
  {
   "cell_type": "code",
   "execution_count": null,
   "id": "a4add060",
   "metadata": {},
   "outputs": [],
   "source": []
  },
  {
   "cell_type": "code",
   "execution_count": null,
   "id": "f764cda1",
   "metadata": {},
   "outputs": [],
   "source": []
  },
  {
   "cell_type": "code",
   "execution_count": null,
   "id": "55c77503",
   "metadata": {},
   "outputs": [],
   "source": []
  },
  {
   "cell_type": "markdown",
   "id": "cf30b805",
   "metadata": {},
   "source": [
    "### *args and **kwargs"
   ]
  },
  {
   "cell_type": "raw",
   "id": "b8b14f0e",
   "metadata": {},
   "source": [
    "*args  --->positional arguments\n",
    "\n",
    "**kwargs  --> keyword arguments"
   ]
  },
  {
   "cell_type": "code",
   "execution_count": null,
   "id": "ca86eceb",
   "metadata": {},
   "outputs": [],
   "source": []
  },
  {
   "cell_type": "code",
   "execution_count": 5,
   "id": "57bb4f91",
   "metadata": {},
   "outputs": [
    {
     "name": "stdout",
     "output_type": "stream",
     "text": [
      "517\n"
     ]
    }
   ],
   "source": [
    "def dummy(*x):\n",
    "    total=0\n",
    "    for i in x:\n",
    "        total +=i\n",
    "    print(total)\n",
    "        \n",
    "dummy(1,2,3,4,5,6,8,100,300,4,5,56,23) "
   ]
  },
  {
   "cell_type": "code",
   "execution_count": null,
   "id": "e61ee623",
   "metadata": {},
   "outputs": [],
   "source": []
  },
  {
   "cell_type": "code",
   "execution_count": null,
   "id": "a6a81d59",
   "metadata": {},
   "outputs": [],
   "source": []
  },
  {
   "cell_type": "code",
   "execution_count": 9,
   "id": "b1f9f178",
   "metadata": {},
   "outputs": [
    {
     "name": "stdout",
     "output_type": "stream",
     "text": [
      "name\n",
      "age\n"
     ]
    }
   ],
   "source": [
    "def abc(**h):\n",
    "    \n",
    "    for value in h.keys():\n",
    "        print(value)\n",
    "#         print(f\"{key} = {value}\")\n",
    "        \n",
    "        \n",
    "abc(name=\"sonam\",age=25)  #calling \n",
    "\n",
    "# abc()"
   ]
  },
  {
   "cell_type": "code",
   "execution_count": null,
   "id": "7b50957b",
   "metadata": {},
   "outputs": [],
   "source": []
  },
  {
   "cell_type": "code",
   "execution_count": null,
   "id": "388e9300",
   "metadata": {},
   "outputs": [],
   "source": []
  },
  {
   "cell_type": "markdown",
   "id": "0398d65e",
   "metadata": {},
   "source": [
    "### local variable and global variable"
   ]
  },
  {
   "cell_type": "code",
   "execution_count": null,
   "id": "7f91fc84",
   "metadata": {},
   "outputs": [],
   "source": []
  },
  {
   "cell_type": "code",
   "execution_count": null,
   "id": "f7ba5166",
   "metadata": {},
   "outputs": [],
   "source": []
  },
  {
   "cell_type": "code",
   "execution_count": null,
   "id": "3377f6cd",
   "metadata": {},
   "outputs": [],
   "source": []
  },
  {
   "cell_type": "code",
   "execution_count": null,
   "id": "51421e07",
   "metadata": {},
   "outputs": [],
   "source": []
  },
  {
   "cell_type": "code",
   "execution_count": null,
   "id": "e0fe7f1c",
   "metadata": {},
   "outputs": [],
   "source": []
  },
  {
   "cell_type": "code",
   "execution_count": null,
   "id": "0459a0cc",
   "metadata": {},
   "outputs": [],
   "source": []
  },
  {
   "cell_type": "markdown",
   "id": "7b608040",
   "metadata": {},
   "source": [
    "### lambda function"
   ]
  },
  {
   "cell_type": "raw",
   "id": "7a9ff18c",
   "metadata": {},
   "source": [
    "A lambda function is a small anonymous function. A lambda function can take any number of arguments, but can only have one expression."
   ]
  },
  {
   "cell_type": "code",
   "execution_count": null,
   "id": "4c342dce",
   "metadata": {},
   "outputs": [],
   "source": []
  },
  {
   "cell_type": "markdown",
   "id": "0d1acb53",
   "metadata": {},
   "source": [
    "#### syntax"
   ]
  },
  {
   "cell_type": "raw",
   "id": "6d2e7fff",
   "metadata": {},
   "source": [
    "\n",
    "lambda arguments:expression"
   ]
  },
  {
   "cell_type": "code",
   "execution_count": null,
   "id": "95ae6a6b",
   "metadata": {},
   "outputs": [],
   "source": []
  },
  {
   "cell_type": "markdown",
   "id": "89925a59",
   "metadata": {},
   "source": [
    "#### example"
   ]
  },
  {
   "cell_type": "code",
   "execution_count": null,
   "id": "53f5aed9",
   "metadata": {},
   "outputs": [],
   "source": []
  },
  {
   "cell_type": "markdown",
   "id": "e1cf5eec",
   "metadata": {},
   "source": [
    "#### lambda function with no arguments"
   ]
  },
  {
   "cell_type": "code",
   "execution_count": null,
   "id": "16a172e5",
   "metadata": {},
   "outputs": [],
   "source": []
  },
  {
   "cell_type": "code",
   "execution_count": null,
   "id": "e5c6b369",
   "metadata": {},
   "outputs": [],
   "source": []
  },
  {
   "cell_type": "code",
   "execution_count": null,
   "id": "21eb2706",
   "metadata": {},
   "outputs": [],
   "source": []
  },
  {
   "cell_type": "code",
   "execution_count": null,
   "id": "94ac0df2",
   "metadata": {},
   "outputs": [],
   "source": []
  },
  {
   "cell_type": "markdown",
   "id": "19e343fe",
   "metadata": {},
   "source": [
    "#### lambda function with one arguments"
   ]
  },
  {
   "cell_type": "code",
   "execution_count": null,
   "id": "27933fe1",
   "metadata": {},
   "outputs": [],
   "source": []
  },
  {
   "cell_type": "code",
   "execution_count": null,
   "id": "70d81d85",
   "metadata": {},
   "outputs": [],
   "source": []
  },
  {
   "cell_type": "markdown",
   "id": "302d2a79",
   "metadata": {},
   "source": [
    "#### lambda function with more than one arguments"
   ]
  },
  {
   "cell_type": "code",
   "execution_count": null,
   "id": "0ea9957e",
   "metadata": {},
   "outputs": [],
   "source": []
  },
  {
   "cell_type": "code",
   "execution_count": null,
   "id": "f60cb649",
   "metadata": {},
   "outputs": [],
   "source": []
  },
  {
   "cell_type": "code",
   "execution_count": null,
   "id": "4c4b65f4",
   "metadata": {},
   "outputs": [],
   "source": []
  },
  {
   "cell_type": "raw",
   "id": "9fc68390",
   "metadata": {},
   "source": [
    "map()\n",
    "filter()\n",
    "reduce()"
   ]
  },
  {
   "cell_type": "code",
   "execution_count": null,
   "id": "36f8e83e",
   "metadata": {},
   "outputs": [],
   "source": []
  },
  {
   "cell_type": "code",
   "execution_count": null,
   "id": "fba36fc2",
   "metadata": {},
   "outputs": [],
   "source": []
  },
  {
   "cell_type": "code",
   "execution_count": null,
   "id": "a76b00e8",
   "metadata": {},
   "outputs": [],
   "source": []
  },
  {
   "cell_type": "markdown",
   "id": "9f1b7ce8",
   "metadata": {},
   "source": [
    "### map()"
   ]
  },
  {
   "cell_type": "raw",
   "id": "659f52f8",
   "metadata": {},
   "source": [
    "The map() function applies a given function to all items in an iterable and returns an iterator with the results."
   ]
  },
  {
   "cell_type": "code",
   "execution_count": null,
   "id": "75f2321b",
   "metadata": {},
   "outputs": [],
   "source": []
  },
  {
   "cell_type": "markdown",
   "id": "44518625",
   "metadata": {},
   "source": [
    "#### syntax"
   ]
  },
  {
   "cell_type": "raw",
   "id": "4273ce57",
   "metadata": {},
   "source": [
    "variable_name = iterable(map(lambda args:expression,iterable))"
   ]
  },
  {
   "cell_type": "code",
   "execution_count": null,
   "id": "900a284f",
   "metadata": {},
   "outputs": [],
   "source": []
  },
  {
   "cell_type": "code",
   "execution_count": null,
   "id": "4efc3cfc",
   "metadata": {},
   "outputs": [],
   "source": []
  },
  {
   "cell_type": "markdown",
   "id": "7d928880",
   "metadata": {},
   "source": [
    "### filter()"
   ]
  },
  {
   "cell_type": "raw",
   "id": "f6f70927",
   "metadata": {},
   "source": [
    "You can use the filter() function to extract specific characters from a string based on a condition."
   ]
  },
  {
   "cell_type": "code",
   "execution_count": null,
   "id": "07606083",
   "metadata": {},
   "outputs": [],
   "source": []
  },
  {
   "cell_type": "markdown",
   "id": "303220d5",
   "metadata": {},
   "source": [
    "#### syntax"
   ]
  },
  {
   "cell_type": "raw",
   "id": "329813dd",
   "metadata": {},
   "source": [
    "variable_name = iterable(filter(lambda args:expression,iterable))"
   ]
  },
  {
   "cell_type": "code",
   "execution_count": null,
   "id": "f3b8a5c0",
   "metadata": {},
   "outputs": [],
   "source": []
  },
  {
   "cell_type": "code",
   "execution_count": null,
   "id": "3eb782d8",
   "metadata": {},
   "outputs": [],
   "source": []
  },
  {
   "cell_type": "markdown",
   "id": "8fb7c515",
   "metadata": {},
   "source": [
    "### reduce()"
   ]
  },
  {
   "cell_type": "raw",
   "id": "7a43654e",
   "metadata": {},
   "source": [
    "This is a function that takes two arguments and returns a single result. It's applied cumulatively to the items of the iterable."
   ]
  },
  {
   "cell_type": "code",
   "execution_count": null,
   "id": "485e717e",
   "metadata": {},
   "outputs": [],
   "source": []
  },
  {
   "cell_type": "code",
   "execution_count": null,
   "id": "b266f363",
   "metadata": {},
   "outputs": [],
   "source": []
  },
  {
   "cell_type": "markdown",
   "id": "0561018b",
   "metadata": {},
   "source": [
    "### list comprehension"
   ]
  },
  {
   "cell_type": "markdown",
   "id": "144dffc8",
   "metadata": {},
   "source": [
    "- list comprehension is an elegant way to define and create listed based on exsting lists.\n",
    "- list comprehension is generally more compact and faster than normal functions and loops for creating list.\n",
    "- list comprehension offers a shorter syntax when you want to create a new list based on the values of an exsting list."
   ]
  },
  {
   "cell_type": "code",
   "execution_count": null,
   "id": "2cde4188",
   "metadata": {},
   "outputs": [],
   "source": []
  },
  {
   "cell_type": "markdown",
   "id": "ae2e035f",
   "metadata": {},
   "source": [
    "### syntax"
   ]
  },
  {
   "cell_type": "raw",
   "id": "54abd123",
   "metadata": {},
   "source": [
    "Basic syntax -----> [expression for item in iterable]\n",
    "\n",
    "Using if syntax -----> [expression for item in iterable if condition]\n",
    "\n",
    "Using if else syntax ----> [expression if condition else statement for item in iterable]"
   ]
  },
  {
   "cell_type": "code",
   "execution_count": null,
   "id": "d4696c69",
   "metadata": {},
   "outputs": [],
   "source": []
  },
  {
   "cell_type": "code",
   "execution_count": null,
   "id": "23392c08",
   "metadata": {},
   "outputs": [],
   "source": []
  },
  {
   "cell_type": "code",
   "execution_count": null,
   "id": "118ca4de",
   "metadata": {},
   "outputs": [],
   "source": []
  },
  {
   "cell_type": "code",
   "execution_count": null,
   "id": "a31f9280",
   "metadata": {},
   "outputs": [],
   "source": []
  },
  {
   "cell_type": "code",
   "execution_count": null,
   "id": "a138f49e",
   "metadata": {},
   "outputs": [],
   "source": []
  },
  {
   "cell_type": "code",
   "execution_count": null,
   "id": "a6950eca",
   "metadata": {},
   "outputs": [],
   "source": []
  },
  {
   "cell_type": "code",
   "execution_count": null,
   "id": "73a33ce4",
   "metadata": {},
   "outputs": [],
   "source": [
    "0"
   ]
  }
 ],
 "metadata": {
  "kernelspec": {
   "display_name": "Python 3 (ipykernel)",
   "language": "python",
   "name": "python3"
  },
  "language_info": {
   "codemirror_mode": {
    "name": "ipython",
    "version": 3
   },
   "file_extension": ".py",
   "mimetype": "text/x-python",
   "name": "python",
   "nbconvert_exporter": "python",
   "pygments_lexer": "ipython3",
   "version": "3.10.9"
  }
 },
 "nbformat": 4,
 "nbformat_minor": 5
}
