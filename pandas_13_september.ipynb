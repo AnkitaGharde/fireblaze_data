{
 "cells": [
  {
   "cell_type": "code",
   "execution_count": null,
   "id": "0adaa350",
   "metadata": {},
   "outputs": [],
   "source": []
  },
  {
   "cell_type": "markdown",
   "id": "df9e93e6",
   "metadata": {},
   "source": [
    "### import libary"
   ]
  },
  {
   "cell_type": "code",
   "execution_count": 1,
   "id": "ef89eb69",
   "metadata": {},
   "outputs": [],
   "source": [
    "import pandas as pd"
   ]
  },
  {
   "cell_type": "code",
   "execution_count": null,
   "id": "a0c94a96",
   "metadata": {},
   "outputs": [],
   "source": []
  },
  {
   "cell_type": "markdown",
   "id": "8621869e",
   "metadata": {},
   "source": [
    "#### Creating Series :"
   ]
  },
  {
   "cell_type": "markdown",
   "id": "38fb0872",
   "metadata": {},
   "source": [
    "- list\n",
    "- tuple\n",
    "- dictionary\n",
    "- Array"
   ]
  },
  {
   "cell_type": "markdown",
   "id": "a66a513a",
   "metadata": {},
   "source": [
    "### list"
   ]
  },
  {
   "cell_type": "code",
   "execution_count": 2,
   "id": "5a390782",
   "metadata": {},
   "outputs": [
    {
     "data": {
      "text/plain": [
       "[10, 20, 30, 40, 50, 60, 70]"
      ]
     },
     "execution_count": 2,
     "metadata": {},
     "output_type": "execute_result"
    }
   ],
   "source": [
    "# Creating a Series using a list\n",
    "\n",
    "l1 =[10,20,30,40,50,60,70]\n",
    "\n",
    "l1"
   ]
  },
  {
   "cell_type": "markdown",
   "id": "3696a5c4",
   "metadata": {},
   "source": [
    "#### example"
   ]
  },
  {
   "cell_type": "code",
   "execution_count": 4,
   "id": "2c47204a",
   "metadata": {},
   "outputs": [],
   "source": [
    "# a1 =pd.Series(l1)\n",
    "\n",
    "# a1"
   ]
  },
  {
   "cell_type": "code",
   "execution_count": null,
   "id": "bab9eb4e",
   "metadata": {},
   "outputs": [],
   "source": []
  },
  {
   "cell_type": "markdown",
   "id": "195f83f2",
   "metadata": {},
   "source": [
    "#### dictionary"
   ]
  },
  {
   "cell_type": "code",
   "execution_count": null,
   "id": "9e854f2b",
   "metadata": {},
   "outputs": [],
   "source": [
    "# Creating a Series using a dictionary\n",
    "\n",
    "# d = {1:\"One\",2:\"two\",3:\"three\",4:\"four\"}\n",
    "\n",
    "# d"
   ]
  },
  {
   "cell_type": "code",
   "execution_count": null,
   "id": "10418046",
   "metadata": {},
   "outputs": [],
   "source": []
  },
  {
   "cell_type": "code",
   "execution_count": null,
   "id": "7d9411ba",
   "metadata": {},
   "outputs": [],
   "source": [
    "# example\n",
    "\n",
    "# s2=pd.Series(d)\n",
    "\n",
    "# s2"
   ]
  },
  {
   "cell_type": "markdown",
   "id": "a1924297",
   "metadata": {},
   "source": [
    "### Rename"
   ]
  },
  {
   "cell_type": "raw",
   "id": "63dc71ee",
   "metadata": {},
   "source": [
    "rename->index\n",
    "replace->values"
   ]
  },
  {
   "cell_type": "code",
   "execution_count": null,
   "id": "f43b6579",
   "metadata": {},
   "outputs": [],
   "source": []
  },
  {
   "cell_type": "markdown",
   "id": "61d81267",
   "metadata": {},
   "source": [
    "#### syntax\n",
    "\n",
    "variable_name.rename({old_index:new_index,old_index:new_index},inplace=True)"
   ]
  },
  {
   "cell_type": "code",
   "execution_count": null,
   "id": "b8edff97",
   "metadata": {},
   "outputs": [],
   "source": []
  },
  {
   "cell_type": "code",
   "execution_count": null,
   "id": "aac0edeb",
   "metadata": {},
   "outputs": [],
   "source": [
    "\n",
    "# s4 =s3.rename({2:9})       # Renaming index labels of a Series\n",
    "\n",
    "# s4"
   ]
  },
  {
   "cell_type": "code",
   "execution_count": null,
   "id": "440931e0",
   "metadata": {},
   "outputs": [],
   "source": []
  },
  {
   "cell_type": "markdown",
   "id": "a2cf88cd",
   "metadata": {},
   "source": [
    "### replace()"
   ]
  },
  {
   "cell_type": "markdown",
   "id": "a8c9244b",
   "metadata": {},
   "source": [
    "#### replace single value"
   ]
  },
  {
   "cell_type": "raw",
   "id": "57600d3b",
   "metadata": {},
   "source": [
    "syntax:\n",
    "    varaible_name.replace(old_vlaue,New_value,inplace=True)"
   ]
  },
  {
   "cell_type": "code",
   "execution_count": null,
   "id": "38acd507",
   "metadata": {},
   "outputs": [],
   "source": []
  },
  {
   "cell_type": "markdown",
   "id": "709fa4d7",
   "metadata": {},
   "source": [
    "#### replace Multiple values"
   ]
  },
  {
   "cell_type": "raw",
   "id": "750dfa5f",
   "metadata": {},
   "source": [
    "syntax:\n",
    "variable_name.replace([old_value1,old_value2,___old_valueN],[New_value1,New_value2,...New_valueN],inplace=True)"
   ]
  },
  {
   "cell_type": "code",
   "execution_count": null,
   "id": "5c95a9e0",
   "metadata": {},
   "outputs": [],
   "source": []
  },
  {
   "cell_type": "code",
   "execution_count": null,
   "id": "627c8794",
   "metadata": {},
   "outputs": [],
   "source": [
    "# example\n",
    "\n",
    "s5=a1.replace(10,\"ten\")          # Replacing values in a Series\n",
    "\n",
    "s5"
   ]
  },
  {
   "cell_type": "code",
   "execution_count": null,
   "id": "fca14898",
   "metadata": {},
   "outputs": [],
   "source": []
  },
  {
   "cell_type": "markdown",
   "id": "dc1c6ebf",
   "metadata": {},
   "source": [
    "### sort_index()"
   ]
  },
  {
   "cell_type": "raw",
   "id": "2439d676",
   "metadata": {},
   "source": [
    "variable_name.sort_index()         ->ascending\n",
    "\n",
    "variable_name.sort_index(ascending=False)     ->decending"
   ]
  },
  {
   "cell_type": "code",
   "execution_count": null,
   "id": "a6568079",
   "metadata": {},
   "outputs": [],
   "source": []
  },
  {
   "cell_type": "code",
   "execution_count": null,
   "id": "b995c572",
   "metadata": {},
   "outputs": [],
   "source": []
  },
  {
   "cell_type": "markdown",
   "id": "95e1a402",
   "metadata": {},
   "source": [
    "### sort_values()"
   ]
  },
  {
   "cell_type": "code",
   "execution_count": null,
   "id": "bdf45250",
   "metadata": {},
   "outputs": [],
   "source": [
    "# v3=a1.sort_values(inplace=True)\n",
    "\n",
    "# v3"
   ]
  },
  {
   "cell_type": "code",
   "execution_count": null,
   "id": "d8dbe581",
   "metadata": {},
   "outputs": [],
   "source": []
  },
  {
   "cell_type": "code",
   "execution_count": null,
   "id": "8de55277",
   "metadata": {},
   "outputs": [],
   "source": [
    "# v4=a1.sort_values(ascending=False,inplace=True)\n",
    "\n",
    "# v4"
   ]
  },
  {
   "cell_type": "code",
   "execution_count": null,
   "id": "a8ae1b74",
   "metadata": {},
   "outputs": [],
   "source": []
  },
  {
   "cell_type": "markdown",
   "id": "704e7231",
   "metadata": {},
   "source": [
    "### DataFrame()"
   ]
  },
  {
   "cell_type": "markdown",
   "id": "084a317c",
   "metadata": {},
   "source": [
    "- A DataFrame is a two-dimensional labeled data structure in pandas.It's similar to a table in a relational database or an Excel spreadsheet.\n",
    "\n",
    "- A DataFrame consists of multiple Series organized as columns, and each column can hold data of different types."
   ]
  },
  {
   "cell_type": "code",
   "execution_count": null,
   "id": "aabaecfe",
   "metadata": {},
   "outputs": [],
   "source": [
    "# df = pd.DataFrame([[10,20,30],[22,56,78],[4,8,2],[23,67,45]])\n",
    "\n",
    "# df"
   ]
  },
  {
   "cell_type": "code",
   "execution_count": null,
   "id": "b0510bd5",
   "metadata": {},
   "outputs": [],
   "source": []
  },
  {
   "cell_type": "markdown",
   "id": "ebfc185e",
   "metadata": {},
   "source": [
    "### read files"
   ]
  },
  {
   "cell_type": "markdown",
   "id": "3f358218",
   "metadata": {},
   "source": [
    "#### read_csv()"
   ]
  },
  {
   "cell_type": "code",
   "execution_count": null,
   "id": "ec07ab85",
   "metadata": {},
   "outputs": [],
   "source": [
    "# df2 = pd.read_csv(r\"Employee.csv\")\n",
    "\n",
    "# df2"
   ]
  },
  {
   "cell_type": "code",
   "execution_count": null,
   "id": "45579c64",
   "metadata": {},
   "outputs": [],
   "source": []
  },
  {
   "cell_type": "code",
   "execution_count": null,
   "id": "bd9e19dc",
   "metadata": {},
   "outputs": [],
   "source": [
    "# df = pd.read_csv(r\"C:\\Users\\Acer\\FIREBLAZE\\Employee.csv\")    # encoding=\"latin\"\n",
    "\n",
    "# df"
   ]
  },
  {
   "cell_type": "code",
   "execution_count": null,
   "id": "01e87b20",
   "metadata": {},
   "outputs": [],
   "source": []
  },
  {
   "cell_type": "markdown",
   "id": "7ce3303f",
   "metadata": {},
   "source": [
    "### head()"
   ]
  },
  {
   "cell_type": "code",
   "execution_count": null,
   "id": "0d4c02f6",
   "metadata": {},
   "outputs": [],
   "source": [
    "df.head()"
   ]
  },
  {
   "cell_type": "code",
   "execution_count": null,
   "id": "aa3b113c",
   "metadata": {},
   "outputs": [],
   "source": []
  },
  {
   "cell_type": "markdown",
   "id": "14b22ad2",
   "metadata": {},
   "source": [
    "### info()"
   ]
  },
  {
   "cell_type": "code",
   "execution_count": null,
   "id": "b40db3b5",
   "metadata": {},
   "outputs": [],
   "source": [
    "# df.info()                    # Getting information about a DataFrame"
   ]
  },
  {
   "cell_type": "code",
   "execution_count": null,
   "id": "5e121d48",
   "metadata": {},
   "outputs": [],
   "source": []
  },
  {
   "cell_type": "markdown",
   "id": "404bbaa9",
   "metadata": {},
   "source": [
    "### describe()"
   ]
  },
  {
   "cell_type": "code",
   "execution_count": null,
   "id": "56e84e5c",
   "metadata": {},
   "outputs": [],
   "source": []
  }
 ],
 "metadata": {
  "kernelspec": {
   "display_name": "Python 3 (ipykernel)",
   "language": "python",
   "name": "python3"
  },
  "language_info": {
   "codemirror_mode": {
    "name": "ipython",
    "version": 3
   },
   "file_extension": ".py",
   "mimetype": "text/x-python",
   "name": "python",
   "nbconvert_exporter": "python",
   "pygments_lexer": "ipython3",
   "version": "3.11.5"
  }
 },
 "nbformat": 4,
 "nbformat_minor": 5
}
