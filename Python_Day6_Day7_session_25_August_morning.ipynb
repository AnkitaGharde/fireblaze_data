{
 "cells": [
  {
   "cell_type": "raw",
   "id": "4ef11cd7",
   "metadata": {},
   "source": [
    "- tuple\n",
    "- dictionary\n",
    "- set"
   ]
  },
  {
   "cell_type": "code",
   "execution_count": null,
   "id": "4e386f56",
   "metadata": {},
   "outputs": [],
   "source": []
  },
  {
   "cell_type": "markdown",
   "id": "a0adf77e",
   "metadata": {},
   "source": [
    "## tuple"
   ]
  },
  {
   "cell_type": "raw",
   "id": "455c74e3",
   "metadata": {},
   "source": [
    "A tuple in Python is similar to a list. The difference between the two is that we cannot change the elements of a tuple once it is assigned whereas we can change the elements of a list."
   ]
  },
  {
   "cell_type": "code",
   "execution_count": null,
   "id": "c9afa930",
   "metadata": {},
   "outputs": [],
   "source": []
  },
  {
   "cell_type": "markdown",
   "id": "1c37c372",
   "metadata": {},
   "source": [
    "- immutable(unchangeable)\n",
    "- ordered form (indexing)\n",
    "- duplication allowed\n",
    "- create using ()"
   ]
  },
  {
   "cell_type": "code",
   "execution_count": null,
   "id": "9b137747",
   "metadata": {},
   "outputs": [],
   "source": []
  },
  {
   "cell_type": "markdown",
   "id": "893d3da3",
   "metadata": {},
   "source": [
    "### tuple methods"
   ]
  },
  {
   "cell_type": "markdown",
   "id": "3ccb8755",
   "metadata": {},
   "source": [
    "- index()\n",
    "- count()"
   ]
  },
  {
   "cell_type": "code",
   "execution_count": null,
   "id": "0f02fba8",
   "metadata": {},
   "outputs": [],
   "source": []
  },
  {
   "cell_type": "code",
   "execution_count": null,
   "id": "c97e4a4b",
   "metadata": {},
   "outputs": [],
   "source": []
  },
  {
   "cell_type": "code",
   "execution_count": null,
   "id": "f2521a23",
   "metadata": {},
   "outputs": [],
   "source": []
  },
  {
   "cell_type": "code",
   "execution_count": null,
   "id": "34866822",
   "metadata": {},
   "outputs": [],
   "source": []
  },
  {
   "cell_type": "markdown",
   "id": "186a5942",
   "metadata": {},
   "source": [
    "## dictionary"
   ]
  },
  {
   "cell_type": "raw",
   "id": "dd07a3b5",
   "metadata": {},
   "source": [
    "In Python, a dictionary is a collection that allows us to store data in key-value pairs."
   ]
  },
  {
   "cell_type": "markdown",
   "id": "82b8c673",
   "metadata": {},
   "source": [
    "\n",
    "- elements in key-values pair\n",
    "- duplication allowed(in values)\n",
    "- ordered form (indexing)\n",
    "- create using {}\n",
    "- mutable(changable)\n",
    "- key(index)"
   ]
  },
  {
   "cell_type": "code",
   "execution_count": 1,
   "id": "42042067",
   "metadata": {},
   "outputs": [],
   "source": [
    "dict1 = {}   # empty dictionary"
   ]
  },
  {
   "cell_type": "code",
   "execution_count": 2,
   "id": "5385bff2",
   "metadata": {},
   "outputs": [
    {
     "data": {
      "text/plain": [
       "{}"
      ]
     },
     "execution_count": 2,
     "metadata": {},
     "output_type": "execute_result"
    }
   ],
   "source": [
    "dict1"
   ]
  },
  {
   "cell_type": "code",
   "execution_count": 3,
   "id": "08ce5e4d",
   "metadata": {},
   "outputs": [
    {
     "data": {
      "text/plain": [
       "dict"
      ]
     },
     "execution_count": 3,
     "metadata": {},
     "output_type": "execute_result"
    }
   ],
   "source": [
    "type(dict1)"
   ]
  },
  {
   "cell_type": "code",
   "execution_count": null,
   "id": "5f158372",
   "metadata": {},
   "outputs": [],
   "source": []
  },
  {
   "cell_type": "markdown",
   "id": "91498138",
   "metadata": {},
   "source": [
    "#### syntax"
   ]
  },
  {
   "cell_type": "code",
   "execution_count": null,
   "id": "bf62c201",
   "metadata": {},
   "outputs": [],
   "source": [
    "variable_name ={key1:value1,key2:value2,key3:value3}"
   ]
  },
  {
   "cell_type": "markdown",
   "id": "8d9b8267",
   "metadata": {},
   "source": [
    "#### elements in dictionary"
   ]
  },
  {
   "cell_type": "code",
   "execution_count": 4,
   "id": "e4345955",
   "metadata": {},
   "outputs": [],
   "source": [
    "d = {1:'one',2:[1,2,3,4],3:'three','4':'four'}"
   ]
  },
  {
   "cell_type": "code",
   "execution_count": 5,
   "id": "cf85ef02",
   "metadata": {},
   "outputs": [
    {
     "data": {
      "text/plain": [
       "{1: 'one', 2: [1, 2, 3, 4], 3: 'three', '4': 'four'}"
      ]
     },
     "execution_count": 5,
     "metadata": {},
     "output_type": "execute_result"
    }
   ],
   "source": [
    "d"
   ]
  },
  {
   "cell_type": "code",
   "execution_count": 6,
   "id": "596fefd1",
   "metadata": {},
   "outputs": [
    {
     "data": {
      "text/plain": [
       "dict"
      ]
     },
     "execution_count": 6,
     "metadata": {},
     "output_type": "execute_result"
    }
   ],
   "source": [
    "type(d)"
   ]
  },
  {
   "cell_type": "code",
   "execution_count": null,
   "id": "7e4e9c98",
   "metadata": {},
   "outputs": [],
   "source": []
  },
  {
   "cell_type": "code",
   "execution_count": 7,
   "id": "2c2446c8",
   "metadata": {},
   "outputs": [
    {
     "data": {
      "text/plain": [
       "'one'"
      ]
     },
     "execution_count": 7,
     "metadata": {},
     "output_type": "execute_result"
    }
   ],
   "source": [
    "d[1]"
   ]
  },
  {
   "cell_type": "code",
   "execution_count": 9,
   "id": "4bf15cf4",
   "metadata": {},
   "outputs": [
    {
     "data": {
      "text/plain": [
       "'four'"
      ]
     },
     "execution_count": 9,
     "metadata": {},
     "output_type": "execute_result"
    }
   ],
   "source": [
    "d['4']"
   ]
  },
  {
   "cell_type": "code",
   "execution_count": null,
   "id": "c3b3b0d0",
   "metadata": {},
   "outputs": [],
   "source": []
  },
  {
   "cell_type": "markdown",
   "id": "e35ff9d0",
   "metadata": {},
   "source": [
    "#### mutable"
   ]
  },
  {
   "cell_type": "code",
   "execution_count": 10,
   "id": "f3a4c8ed",
   "metadata": {},
   "outputs": [
    {
     "data": {
      "text/plain": [
       "{1: 'one', 2: [1, 2, 3, 4], 3: 'three', '4': 'four'}"
      ]
     },
     "execution_count": 10,
     "metadata": {},
     "output_type": "execute_result"
    }
   ],
   "source": [
    "d"
   ]
  },
  {
   "cell_type": "code",
   "execution_count": null,
   "id": "609f0e87",
   "metadata": {},
   "outputs": [],
   "source": []
  },
  {
   "cell_type": "code",
   "execution_count": 15,
   "id": "925705d9",
   "metadata": {},
   "outputs": [],
   "source": [
    "d[3]=100"
   ]
  },
  {
   "cell_type": "code",
   "execution_count": 13,
   "id": "e4fea717",
   "metadata": {},
   "outputs": [
    {
     "data": {
      "text/plain": [
       "{1: 'one', 2: [1, 2, 3, 4], 3: 100, '4': 'four'}"
      ]
     },
     "execution_count": 13,
     "metadata": {},
     "output_type": "execute_result"
    }
   ],
   "source": [
    "d"
   ]
  },
  {
   "cell_type": "code",
   "execution_count": null,
   "id": "f38afddf",
   "metadata": {},
   "outputs": [],
   "source": []
  },
  {
   "cell_type": "code",
   "execution_count": null,
   "id": "328ac787",
   "metadata": {},
   "outputs": [],
   "source": []
  },
  {
   "cell_type": "markdown",
   "id": "d3bb1770",
   "metadata": {},
   "source": [
    "### dictionary methods"
   ]
  },
  {
   "cell_type": "raw",
   "id": "f56fe43c",
   "metadata": {},
   "source": [
    "clear()  --> Removes all the elements from the dictionary\n",
    "copy()   --> Returns a copy of the dictionary\n",
    "fromkeys()  --> Returns a dictionary with the specified keys and value\n",
    "get()   --> Returns the value of the specified key\n",
    "items() --> Returns a list containing a tuple for each key value pair\n",
    "keys()  --> Returns a list containing the dictionary's keys\n",
    "pop()   --> Removes the element with the specified key\n",
    "popitem() --> Removes the last inserted key-value pair\n",
    "setdefault()  --> Returns the value of the specified key. If the key does not exist: insert the key, with the specified value\n",
    "update()    --> Updates the dictionary with the specified key-value pairs\n",
    "values()    -->Returns a list of all the values in the dictionary"
   ]
  },
  {
   "cell_type": "code",
   "execution_count": null,
   "id": "0cb33a0d",
   "metadata": {},
   "outputs": [],
   "source": []
  },
  {
   "cell_type": "markdown",
   "id": "d84100bd",
   "metadata": {},
   "source": [
    "### fromkeys()"
   ]
  },
  {
   "cell_type": "code",
   "execution_count": 18,
   "id": "c6a5da9a",
   "metadata": {},
   "outputs": [],
   "source": [
    "key =[10,20,30,40,50]"
   ]
  },
  {
   "cell_type": "code",
   "execution_count": 19,
   "id": "436ac012",
   "metadata": {},
   "outputs": [
    {
     "data": {
      "text/plain": [
       "[10, 20, 30, 40, 50]"
      ]
     },
     "execution_count": 19,
     "metadata": {},
     "output_type": "execute_result"
    }
   ],
   "source": [
    "key"
   ]
  },
  {
   "cell_type": "markdown",
   "id": "0724bba0",
   "metadata": {},
   "source": [
    "#### syntax:"
   ]
  },
  {
   "cell_type": "code",
   "execution_count": null,
   "id": "fd128648",
   "metadata": {},
   "outputs": [],
   "source": [
    "variable_name =dict.fromkeys(key,value)"
   ]
  },
  {
   "cell_type": "code",
   "execution_count": null,
   "id": "a61f9a51",
   "metadata": {},
   "outputs": [],
   "source": []
  },
  {
   "cell_type": "code",
   "execution_count": 20,
   "id": "aa6d5801",
   "metadata": {},
   "outputs": [],
   "source": [
    "# example1\n",
    "\n",
    "\n",
    "d1 = dict.fromkeys(key)"
   ]
  },
  {
   "cell_type": "code",
   "execution_count": 21,
   "id": "e385a535",
   "metadata": {},
   "outputs": [
    {
     "data": {
      "text/plain": [
       "{10: None, 20: None, 30: None, 40: None, 50: None}"
      ]
     },
     "execution_count": 21,
     "metadata": {},
     "output_type": "execute_result"
    }
   ],
   "source": [
    "d1"
   ]
  },
  {
   "cell_type": "code",
   "execution_count": null,
   "id": "6ae13200",
   "metadata": {},
   "outputs": [],
   "source": []
  },
  {
   "cell_type": "code",
   "execution_count": 22,
   "id": "f2b40466",
   "metadata": {},
   "outputs": [],
   "source": [
    "v =[100,200,300]"
   ]
  },
  {
   "cell_type": "code",
   "execution_count": 23,
   "id": "db682022",
   "metadata": {},
   "outputs": [
    {
     "data": {
      "text/plain": [
       "[100, 200, 300]"
      ]
     },
     "execution_count": 23,
     "metadata": {},
     "output_type": "execute_result"
    }
   ],
   "source": [
    "v"
   ]
  },
  {
   "cell_type": "code",
   "execution_count": 24,
   "id": "24a65d7a",
   "metadata": {},
   "outputs": [],
   "source": [
    "# example2\n",
    "\n",
    "d2 = dict.fromkeys(key,v)"
   ]
  },
  {
   "cell_type": "code",
   "execution_count": 25,
   "id": "3ae1d8c8",
   "metadata": {},
   "outputs": [
    {
     "data": {
      "text/plain": [
       "{10: [100, 200, 300],\n",
       " 20: [100, 200, 300],\n",
       " 30: [100, 200, 300],\n",
       " 40: [100, 200, 300],\n",
       " 50: [100, 200, 300]}"
      ]
     },
     "execution_count": 25,
     "metadata": {},
     "output_type": "execute_result"
    }
   ],
   "source": [
    "d2"
   ]
  },
  {
   "cell_type": "code",
   "execution_count": null,
   "id": "8e91b775",
   "metadata": {},
   "outputs": [],
   "source": []
  },
  {
   "cell_type": "markdown",
   "id": "32e5d305",
   "metadata": {},
   "source": [
    "### get()"
   ]
  },
  {
   "cell_type": "markdown",
   "id": "549a82d3",
   "metadata": {},
   "source": [
    "#### syntax"
   ]
  },
  {
   "cell_type": "code",
   "execution_count": null,
   "id": "38eadda0",
   "metadata": {},
   "outputs": [],
   "source": [
    "variable_name.get(key)    ##return value"
   ]
  },
  {
   "cell_type": "code",
   "execution_count": null,
   "id": "5664ec32",
   "metadata": {},
   "outputs": [],
   "source": []
  },
  {
   "cell_type": "markdown",
   "id": "e3e9b523",
   "metadata": {},
   "source": [
    "#### example"
   ]
  },
  {
   "cell_type": "code",
   "execution_count": 26,
   "id": "5f5c802c",
   "metadata": {},
   "outputs": [
    {
     "data": {
      "text/plain": [
       "{1: 'one', 2: [1, 2, 3, 4], 3: 100, '4': 'four'}"
      ]
     },
     "execution_count": 26,
     "metadata": {},
     "output_type": "execute_result"
    }
   ],
   "source": [
    "d"
   ]
  },
  {
   "cell_type": "code",
   "execution_count": 27,
   "id": "5fc37aa1",
   "metadata": {},
   "outputs": [
    {
     "data": {
      "text/plain": [
       "[1, 2, 3, 4]"
      ]
     },
     "execution_count": 27,
     "metadata": {},
     "output_type": "execute_result"
    }
   ],
   "source": [
    "d.get(2)"
   ]
  },
  {
   "cell_type": "code",
   "execution_count": null,
   "id": "002fc9dc",
   "metadata": {},
   "outputs": [],
   "source": []
  },
  {
   "cell_type": "markdown",
   "id": "5187e4c9",
   "metadata": {},
   "source": [
    "### items()"
   ]
  },
  {
   "cell_type": "code",
   "execution_count": null,
   "id": "2ce4b8d1",
   "metadata": {},
   "outputs": [],
   "source": []
  },
  {
   "cell_type": "markdown",
   "id": "df9a42c6",
   "metadata": {},
   "source": [
    "#### example"
   ]
  },
  {
   "cell_type": "code",
   "execution_count": 30,
   "id": "f8160905",
   "metadata": {},
   "outputs": [
    {
     "data": {
      "text/plain": [
       "dict_items([(1, 'one'), (2, [1, 2, 3, 4]), (3, 100), ('4', 'four')])"
      ]
     },
     "execution_count": 30,
     "metadata": {},
     "output_type": "execute_result"
    }
   ],
   "source": [
    "d.items()"
   ]
  },
  {
   "cell_type": "code",
   "execution_count": null,
   "id": "a8b83647",
   "metadata": {},
   "outputs": [],
   "source": []
  },
  {
   "cell_type": "markdown",
   "id": "fcb4c3d2",
   "metadata": {},
   "source": [
    "### keys()"
   ]
  },
  {
   "cell_type": "code",
   "execution_count": 31,
   "id": "d2d030a6",
   "metadata": {},
   "outputs": [
    {
     "data": {
      "text/plain": [
       "dict_keys([1, 2, 3, '4'])"
      ]
     },
     "execution_count": 31,
     "metadata": {},
     "output_type": "execute_result"
    }
   ],
   "source": [
    "d.keys()"
   ]
  },
  {
   "cell_type": "code",
   "execution_count": null,
   "id": "db94f9b3",
   "metadata": {},
   "outputs": [],
   "source": []
  },
  {
   "cell_type": "markdown",
   "id": "59e20ed7",
   "metadata": {},
   "source": [
    "### values()"
   ]
  },
  {
   "cell_type": "code",
   "execution_count": 32,
   "id": "4e33fa02",
   "metadata": {},
   "outputs": [
    {
     "data": {
      "text/plain": [
       "{1: 'one', 2: [1, 2, 3, 4], 3: 100, '4': 'four'}"
      ]
     },
     "execution_count": 32,
     "metadata": {},
     "output_type": "execute_result"
    }
   ],
   "source": [
    "d"
   ]
  },
  {
   "cell_type": "code",
   "execution_count": 33,
   "id": "999e44b4",
   "metadata": {},
   "outputs": [
    {
     "data": {
      "text/plain": [
       "dict_values(['one', [1, 2, 3, 4], 100, 'four'])"
      ]
     },
     "execution_count": 33,
     "metadata": {},
     "output_type": "execute_result"
    }
   ],
   "source": [
    "d.values()"
   ]
  },
  {
   "cell_type": "code",
   "execution_count": null,
   "id": "25ad18ad",
   "metadata": {},
   "outputs": [],
   "source": []
  },
  {
   "cell_type": "markdown",
   "id": "1f931455",
   "metadata": {},
   "source": [
    "### pop()"
   ]
  },
  {
   "cell_type": "raw",
   "id": "dae7bdf1",
   "metadata": {},
   "source": [
    "Removes the element with the specified key"
   ]
  },
  {
   "cell_type": "code",
   "execution_count": 35,
   "id": "a18a2e59",
   "metadata": {},
   "outputs": [
    {
     "data": {
      "text/plain": [
       "{1: 'one', 2: [1, 2, 3, 4], 3: 100, '4': 'four'}"
      ]
     },
     "execution_count": 35,
     "metadata": {},
     "output_type": "execute_result"
    }
   ],
   "source": [
    "d"
   ]
  },
  {
   "cell_type": "code",
   "execution_count": 37,
   "id": "678ada99",
   "metadata": {},
   "outputs": [
    {
     "data": {
      "text/plain": [
       "[1, 2, 3, 4]"
      ]
     },
     "execution_count": 37,
     "metadata": {},
     "output_type": "execute_result"
    }
   ],
   "source": [
    "d.pop(2)     # pop(key)"
   ]
  },
  {
   "cell_type": "code",
   "execution_count": 38,
   "id": "6fb5065c",
   "metadata": {},
   "outputs": [
    {
     "data": {
      "text/plain": [
       "{1: 'one', 3: 100, '4': 'four'}"
      ]
     },
     "execution_count": 38,
     "metadata": {},
     "output_type": "execute_result"
    }
   ],
   "source": [
    "d"
   ]
  },
  {
   "cell_type": "code",
   "execution_count": null,
   "id": "41c4f7ec",
   "metadata": {},
   "outputs": [],
   "source": []
  },
  {
   "cell_type": "code",
   "execution_count": 40,
   "id": "f8b80963",
   "metadata": {},
   "outputs": [
    {
     "data": {
      "text/plain": [
       "'four'"
      ]
     },
     "execution_count": 40,
     "metadata": {},
     "output_type": "execute_result"
    }
   ],
   "source": [
    "d.pop('4')"
   ]
  },
  {
   "cell_type": "code",
   "execution_count": 41,
   "id": "1503463f",
   "metadata": {},
   "outputs": [
    {
     "data": {
      "text/plain": [
       "{1: 'one', 3: 100}"
      ]
     },
     "execution_count": 41,
     "metadata": {},
     "output_type": "execute_result"
    }
   ],
   "source": [
    "d"
   ]
  },
  {
   "cell_type": "code",
   "execution_count": null,
   "id": "19efdc8d",
   "metadata": {},
   "outputs": [],
   "source": []
  },
  {
   "cell_type": "markdown",
   "id": "4003084c",
   "metadata": {},
   "source": [
    "### popitem()"
   ]
  },
  {
   "cell_type": "raw",
   "id": "5d365888",
   "metadata": {},
   "source": [
    "Removes the last inserted key-value pair"
   ]
  },
  {
   "cell_type": "markdown",
   "id": "d3787e5c",
   "metadata": {},
   "source": [
    "#### syntax"
   ]
  },
  {
   "cell_type": "raw",
   "id": "20fa607f",
   "metadata": {},
   "source": [
    "variable_name.popitem()"
   ]
  },
  {
   "cell_type": "code",
   "execution_count": 42,
   "id": "95c26967",
   "metadata": {},
   "outputs": [
    {
     "data": {
      "text/plain": [
       "{1: 'one', 3: 100}"
      ]
     },
     "execution_count": 42,
     "metadata": {},
     "output_type": "execute_result"
    }
   ],
   "source": [
    "# example\n",
    "\n",
    "d"
   ]
  },
  {
   "cell_type": "code",
   "execution_count": 44,
   "id": "9a76fb76",
   "metadata": {},
   "outputs": [
    {
     "data": {
      "text/plain": [
       "(3, 100)"
      ]
     },
     "execution_count": 44,
     "metadata": {},
     "output_type": "execute_result"
    }
   ],
   "source": [
    "d.popitem()"
   ]
  },
  {
   "cell_type": "code",
   "execution_count": 45,
   "id": "fcb8c66b",
   "metadata": {},
   "outputs": [
    {
     "data": {
      "text/plain": [
       "{1: 'one'}"
      ]
     },
     "execution_count": 45,
     "metadata": {},
     "output_type": "execute_result"
    }
   ],
   "source": [
    "d"
   ]
  },
  {
   "cell_type": "code",
   "execution_count": null,
   "id": "50851330",
   "metadata": {},
   "outputs": [],
   "source": []
  },
  {
   "cell_type": "markdown",
   "id": "367a3a55",
   "metadata": {},
   "source": [
    "### setdefault()"
   ]
  },
  {
   "cell_type": "raw",
   "id": "9edd8029",
   "metadata": {},
   "source": [
    "Returns the value of the specified key. If the key does not exist: insert the key, with the specified value"
   ]
  },
  {
   "cell_type": "markdown",
   "id": "427167c2",
   "metadata": {},
   "source": [
    "#### syntax"
   ]
  },
  {
   "cell_type": "raw",
   "id": "1434c323",
   "metadata": {},
   "source": [
    "variable_name.setdefault(key,value(optional))"
   ]
  },
  {
   "cell_type": "code",
   "execution_count": 46,
   "id": "ce123444",
   "metadata": {},
   "outputs": [],
   "source": [
    "fruits = {'apple':'green','price':120,'weight':250}"
   ]
  },
  {
   "cell_type": "code",
   "execution_count": 47,
   "id": "84cc986a",
   "metadata": {},
   "outputs": [
    {
     "data": {
      "text/plain": [
       "{'apple': 'green', 'price': 120, 'weight': 250}"
      ]
     },
     "execution_count": 47,
     "metadata": {},
     "output_type": "execute_result"
    }
   ],
   "source": [
    "fruits"
   ]
  },
  {
   "cell_type": "markdown",
   "id": "ca55f5b4",
   "metadata": {},
   "source": [
    "#### example"
   ]
  },
  {
   "cell_type": "code",
   "execution_count": 48,
   "id": "4830f25b",
   "metadata": {},
   "outputs": [
    {
     "data": {
      "text/plain": [
       "120"
      ]
     },
     "execution_count": 48,
     "metadata": {},
     "output_type": "execute_result"
    }
   ],
   "source": [
    "fruits.setdefault('price')"
   ]
  },
  {
   "cell_type": "code",
   "execution_count": 49,
   "id": "75009430",
   "metadata": {},
   "outputs": [],
   "source": [
    "# example2\n",
    "\n",
    "fruits.setdefault('quantity')"
   ]
  },
  {
   "cell_type": "code",
   "execution_count": 50,
   "id": "5c6ed425",
   "metadata": {},
   "outputs": [
    {
     "data": {
      "text/plain": [
       "{'apple': 'green', 'price': 120, 'weight': 250, 'quantity': None}"
      ]
     },
     "execution_count": 50,
     "metadata": {},
     "output_type": "execute_result"
    }
   ],
   "source": [
    "fruits"
   ]
  },
  {
   "cell_type": "code",
   "execution_count": null,
   "id": "6d04d7c9",
   "metadata": {},
   "outputs": [],
   "source": []
  },
  {
   "cell_type": "code",
   "execution_count": 51,
   "id": "7a1cb2cf",
   "metadata": {},
   "outputs": [
    {
     "data": {
      "text/plain": [
       "'yellow'"
      ]
     },
     "execution_count": 51,
     "metadata": {},
     "output_type": "execute_result"
    }
   ],
   "source": [
    "fruits.setdefault('mango','yellow')"
   ]
  },
  {
   "cell_type": "code",
   "execution_count": 52,
   "id": "f3ff56b9",
   "metadata": {},
   "outputs": [
    {
     "data": {
      "text/plain": [
       "{'apple': 'green',\n",
       " 'price': 120,\n",
       " 'weight': 250,\n",
       " 'quantity': None,\n",
       " 'mango': 'yellow'}"
      ]
     },
     "execution_count": 52,
     "metadata": {},
     "output_type": "execute_result"
    }
   ],
   "source": [
    "fruits"
   ]
  },
  {
   "cell_type": "code",
   "execution_count": null,
   "id": "6a191f2a",
   "metadata": {},
   "outputs": [],
   "source": []
  },
  {
   "cell_type": "markdown",
   "id": "a2bc4592",
   "metadata": {},
   "source": [
    "### update()"
   ]
  },
  {
   "cell_type": "raw",
   "id": "283b16d8",
   "metadata": {},
   "source": [
    "Updates the dictionary with the specified key-value pairs"
   ]
  },
  {
   "cell_type": "code",
   "execution_count": null,
   "id": "1a7bdf05",
   "metadata": {},
   "outputs": [],
   "source": []
  },
  {
   "cell_type": "code",
   "execution_count": 54,
   "id": "49d14091",
   "metadata": {},
   "outputs": [
    {
     "data": {
      "text/plain": [
       "{'apple': 'green',\n",
       " 'price': 120,\n",
       " 'weight': 250,\n",
       " 'quantity': None,\n",
       " 'mango': 'yellow'}"
      ]
     },
     "execution_count": 54,
     "metadata": {},
     "output_type": "execute_result"
    }
   ],
   "source": [
    "fruits"
   ]
  },
  {
   "cell_type": "code",
   "execution_count": 55,
   "id": "a23f7d24",
   "metadata": {},
   "outputs": [],
   "source": [
    "d2 ={1:'hello',2:'morning'}"
   ]
  },
  {
   "cell_type": "code",
   "execution_count": 56,
   "id": "702df5bd",
   "metadata": {},
   "outputs": [
    {
     "data": {
      "text/plain": [
       "{1: 'hello', 2: 'morning'}"
      ]
     },
     "execution_count": 56,
     "metadata": {},
     "output_type": "execute_result"
    }
   ],
   "source": [
    "d2"
   ]
  },
  {
   "cell_type": "code",
   "execution_count": null,
   "id": "ebe833d0",
   "metadata": {},
   "outputs": [],
   "source": []
  },
  {
   "cell_type": "code",
   "execution_count": 59,
   "id": "9ab7bb54",
   "metadata": {},
   "outputs": [],
   "source": [
    "fruits.update(d2)"
   ]
  },
  {
   "cell_type": "code",
   "execution_count": 60,
   "id": "65761f58",
   "metadata": {},
   "outputs": [
    {
     "data": {
      "text/plain": [
       "{'apple': 'green',\n",
       " 'price': 120,\n",
       " 'weight': 250,\n",
       " 'quantity': None,\n",
       " 'mango': 'yellow',\n",
       " 1: 'hello',\n",
       " 2: 'morning'}"
      ]
     },
     "execution_count": 60,
     "metadata": {},
     "output_type": "execute_result"
    }
   ],
   "source": [
    "fruits"
   ]
  },
  {
   "cell_type": "code",
   "execution_count": null,
   "id": "a91ce1c3",
   "metadata": {},
   "outputs": [],
   "source": []
  },
  {
   "cell_type": "code",
   "execution_count": null,
   "id": "8d00ab06",
   "metadata": {},
   "outputs": [],
   "source": []
  },
  {
   "cell_type": "code",
   "execution_count": null,
   "id": "1c5932b9",
   "metadata": {},
   "outputs": [],
   "source": []
  },
  {
   "cell_type": "code",
   "execution_count": null,
   "id": "f3183af8",
   "metadata": {},
   "outputs": [],
   "source": []
  },
  {
   "cell_type": "code",
   "execution_count": 63,
   "id": "253723f8",
   "metadata": {},
   "outputs": [],
   "source": [
    "fruits['apple']=\"red\""
   ]
  },
  {
   "cell_type": "code",
   "execution_count": 64,
   "id": "34f9c165",
   "metadata": {},
   "outputs": [
    {
     "data": {
      "text/plain": [
       "{'apple': 'red',\n",
       " 'price': 120,\n",
       " 'weight': 250,\n",
       " 'quantity': None,\n",
       " 'mango': 'yellow',\n",
       " 1: 'hello',\n",
       " 2: 'morning'}"
      ]
     },
     "execution_count": 64,
     "metadata": {},
     "output_type": "execute_result"
    }
   ],
   "source": [
    "fruits"
   ]
  },
  {
   "cell_type": "code",
   "execution_count": 67,
   "id": "f5d39291",
   "metadata": {},
   "outputs": [],
   "source": [
    "#####################################################################################"
   ]
  },
  {
   "cell_type": "markdown",
   "id": "9bd405c6",
   "metadata": {},
   "source": [
    "## set"
   ]
  },
  {
   "cell_type": "markdown",
   "id": "0ada3372",
   "metadata": {},
   "source": [
    "- A set is a collection of unique data\n",
    "- A Python set is the collection of the unordered items.\n",
    "- create using {}\n",
    "- mutable(changeable)"
   ]
  },
  {
   "cell_type": "code",
   "execution_count": 68,
   "id": "5813b8bf",
   "metadata": {},
   "outputs": [
    {
     "data": {
      "text/plain": [
       "dict"
      ]
     },
     "execution_count": 68,
     "metadata": {},
     "output_type": "execute_result"
    }
   ],
   "source": [
    "s={}\n",
    "type(s)"
   ]
  },
  {
   "cell_type": "markdown",
   "id": "32381c12",
   "metadata": {},
   "source": [
    "#### empty set"
   ]
  },
  {
   "cell_type": "code",
   "execution_count": 69,
   "id": "a02819c7",
   "metadata": {},
   "outputs": [],
   "source": [
    "set1 = {1}\n",
    "\n"
   ]
  },
  {
   "cell_type": "code",
   "execution_count": 70,
   "id": "7e82d1a1",
   "metadata": {},
   "outputs": [
    {
     "data": {
      "text/plain": [
       "set"
      ]
     },
     "execution_count": 70,
     "metadata": {},
     "output_type": "execute_result"
    }
   ],
   "source": [
    "type(set1)"
   ]
  },
  {
   "cell_type": "code",
   "execution_count": null,
   "id": "6e549133",
   "metadata": {},
   "outputs": [],
   "source": []
  },
  {
   "cell_type": "code",
   "execution_count": 71,
   "id": "38b51a81",
   "metadata": {},
   "outputs": [],
   "source": [
    "set_a ={}\n",
    "\n",
    "set2 =set(set_a)\n"
   ]
  },
  {
   "cell_type": "code",
   "execution_count": 72,
   "id": "e2050516",
   "metadata": {},
   "outputs": [
    {
     "data": {
      "text/plain": [
       "set"
      ]
     },
     "execution_count": 72,
     "metadata": {},
     "output_type": "execute_result"
    }
   ],
   "source": [
    "type(set2)"
   ]
  },
  {
   "cell_type": "code",
   "execution_count": 73,
   "id": "e122135a",
   "metadata": {},
   "outputs": [],
   "source": [
    "s1 ={10,20,30,10}   #duplication not allowed"
   ]
  },
  {
   "cell_type": "code",
   "execution_count": 74,
   "id": "2809f026",
   "metadata": {},
   "outputs": [
    {
     "data": {
      "text/plain": [
       "{10, 20, 30}"
      ]
     },
     "execution_count": 74,
     "metadata": {},
     "output_type": "execute_result"
    }
   ],
   "source": [
    "s1"
   ]
  },
  {
   "cell_type": "code",
   "execution_count": null,
   "id": "53ba7145",
   "metadata": {},
   "outputs": [],
   "source": []
  },
  {
   "cell_type": "code",
   "execution_count": 76,
   "id": "3482a285",
   "metadata": {},
   "outputs": [
    {
     "ename": "TypeError",
     "evalue": "'set' object is not subscriptable",
     "output_type": "error",
     "traceback": [
      "\u001b[1;31m---------------------------------------------------------------------------\u001b[0m",
      "\u001b[1;31mTypeError\u001b[0m                                 Traceback (most recent call last)",
      "Cell \u001b[1;32mIn[76], line 1\u001b[0m\n\u001b[1;32m----> 1\u001b[0m \u001b[43ms1\u001b[49m\u001b[43m[\u001b[49m\u001b[38;5;241;43m1\u001b[39;49m\u001b[43m]\u001b[49m\n",
      "\u001b[1;31mTypeError\u001b[0m: 'set' object is not subscriptable"
     ]
    }
   ],
   "source": [
    "s1[1]   #indexing not possible (set unordered)"
   ]
  },
  {
   "cell_type": "code",
   "execution_count": null,
   "id": "24ce6bac",
   "metadata": {},
   "outputs": [],
   "source": []
  },
  {
   "cell_type": "code",
   "execution_count": null,
   "id": "5db1313e",
   "metadata": {},
   "outputs": [],
   "source": []
  },
  {
   "cell_type": "markdown",
   "id": "ab1ac708",
   "metadata": {},
   "source": [
    "### set methods"
   ]
  },
  {
   "cell_type": "raw",
   "id": "487d0c2a",
   "metadata": {},
   "source": [
    "add()  --> Adds an element to the set\n",
    "clear()  --> Removes all the elements from the set\n",
    "copy()  --> Returns a copy of the set\n",
    "difference()  --> Returns a set containing the difference between two or more sets\n",
    "difference_update()  --> Removes the items in this set that are also included in another, specified set\n",
    "discard()  --> Remove the specified item\n",
    "intersection()  --> Returns a set, that is the intersection of two or more sets\n",
    "intersection_update()  --> Removes the items in this set that are not present in other, specified set(s)\n",
    "\n",
    "isdisjoint()  --> Returns whether two sets have a intersection or not\n",
    "issubset()    --> Returns whether another set contains this set or not\n",
    "issuperset()  --> Returns whether this set contains another set or not\n",
    "pop()   --> Removes an element from the set\n",
    "remove()  --> Removes the specified element\n",
    "symmetric_difference()  --> Returns a set with the symmetric differences of two sets\n",
    "symmetric_difference_update()  --> inserts the symmetric differences from this set and another\n",
    "union() --> Return a set containing the union of sets\n",
    "update() --> Update the set with another set, or any other iterable"
   ]
  },
  {
   "cell_type": "code",
   "execution_count": null,
   "id": "1b3648d4",
   "metadata": {},
   "outputs": [],
   "source": []
  },
  {
   "cell_type": "markdown",
   "id": "b3996ee3",
   "metadata": {},
   "source": [
    "### add()"
   ]
  },
  {
   "cell_type": "raw",
   "id": "44bf7627",
   "metadata": {},
   "source": [
    "Adds an element to the set"
   ]
  },
  {
   "cell_type": "markdown",
   "id": "6187d90b",
   "metadata": {},
   "source": [
    "#### synatx:"
   ]
  },
  {
   "cell_type": "raw",
   "id": "59b8a809",
   "metadata": {},
   "source": [
    "variable_name.add(value)"
   ]
  },
  {
   "cell_type": "markdown",
   "id": "6a2d4689",
   "metadata": {},
   "source": [
    "#### example"
   ]
  },
  {
   "cell_type": "code",
   "execution_count": 77,
   "id": "35f04b83",
   "metadata": {},
   "outputs": [
    {
     "data": {
      "text/plain": [
       "{100, 200, 300, 400, 500}"
      ]
     },
     "execution_count": 77,
     "metadata": {},
     "output_type": "execute_result"
    }
   ],
   "source": [
    "s2 = {100,200,300,400,500}\n",
    "\n",
    "s2"
   ]
  },
  {
   "cell_type": "code",
   "execution_count": 78,
   "id": "90a8aaa4",
   "metadata": {},
   "outputs": [],
   "source": [
    "s2.add(50)   # adding value"
   ]
  },
  {
   "cell_type": "code",
   "execution_count": 79,
   "id": "a5295828",
   "metadata": {},
   "outputs": [
    {
     "data": {
      "text/plain": [
       "{50, 100, 200, 300, 400, 500}"
      ]
     },
     "execution_count": 79,
     "metadata": {},
     "output_type": "execute_result"
    }
   ],
   "source": [
    "s2"
   ]
  },
  {
   "cell_type": "code",
   "execution_count": 80,
   "id": "0f84c4dd",
   "metadata": {},
   "outputs": [],
   "source": [
    "s2.add(100)"
   ]
  },
  {
   "cell_type": "code",
   "execution_count": 81,
   "id": "9fa7ca63",
   "metadata": {},
   "outputs": [
    {
     "data": {
      "text/plain": [
       "{50, 100, 200, 300, 400, 500}"
      ]
     },
     "execution_count": 81,
     "metadata": {},
     "output_type": "execute_result"
    }
   ],
   "source": [
    "s2"
   ]
  },
  {
   "cell_type": "code",
   "execution_count": null,
   "id": "47c88f8c",
   "metadata": {},
   "outputs": [],
   "source": []
  },
  {
   "cell_type": "markdown",
   "id": "b2787c28",
   "metadata": {},
   "source": [
    "### difference()"
   ]
  },
  {
   "cell_type": "code",
   "execution_count": 82,
   "id": "0645c2f2",
   "metadata": {},
   "outputs": [],
   "source": [
    "m1 = {1,2,3,4,5}\n",
    "m2 = {7,6,8,4,5}"
   ]
  },
  {
   "cell_type": "markdown",
   "id": "a47caab9",
   "metadata": {},
   "source": [
    "#### syntax"
   ]
  },
  {
   "cell_type": "code",
   "execution_count": null,
   "id": "ea358454",
   "metadata": {},
   "outputs": [],
   "source": [
    "set1.difference(set2)"
   ]
  },
  {
   "cell_type": "markdown",
   "id": "53baf5bd",
   "metadata": {},
   "source": [
    "#### example"
   ]
  },
  {
   "cell_type": "code",
   "execution_count": 83,
   "id": "41e1f65e",
   "metadata": {},
   "outputs": [
    {
     "data": {
      "text/plain": [
       "{1, 2, 3}"
      ]
     },
     "execution_count": 83,
     "metadata": {},
     "output_type": "execute_result"
    }
   ],
   "source": [
    "m1.difference(m2)"
   ]
  },
  {
   "cell_type": "code",
   "execution_count": 84,
   "id": "0eab09ce",
   "metadata": {},
   "outputs": [
    {
     "data": {
      "text/plain": [
       "{6, 7, 8}"
      ]
     },
     "execution_count": 84,
     "metadata": {},
     "output_type": "execute_result"
    }
   ],
   "source": [
    "m2.difference(m1)"
   ]
  },
  {
   "cell_type": "code",
   "execution_count": null,
   "id": "72dd9047",
   "metadata": {},
   "outputs": [],
   "source": []
  }
 ],
 "metadata": {
  "kernelspec": {
   "display_name": "Python 3 (ipykernel)",
   "language": "python",
   "name": "python3"
  },
  "language_info": {
   "codemirror_mode": {
    "name": "ipython",
    "version": 3
   },
   "file_extension": ".py",
   "mimetype": "text/x-python",
   "name": "python",
   "nbconvert_exporter": "python",
   "pygments_lexer": "ipython3",
   "version": "3.10.9"
  }
 },
 "nbformat": 4,
 "nbformat_minor": 5
}
